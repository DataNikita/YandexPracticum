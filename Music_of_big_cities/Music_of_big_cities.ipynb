{
 "cells": [
  {
   "cell_type": "markdown",
   "metadata": {},
   "source": [
    "# <font size=\"5\"><p style=\"text-align:center\"><b> Музыка больших городов</b></p></font>"
   ]
  },
  {
   "cell_type": "markdown",
   "metadata": {
    "id": "VUC88oWjTJw2"
   },
   "source": [
    "Сравнение Москвы и Петербурга окружено мифами. Например:\n",
    " * Москва — мегаполис, подчинённый жёсткому ритму рабочей недели;\n",
    " * Петербург — культурная столица, со своими вкусами.\n",
    "\n",
    "На данных Яндекс Музыки мы сравним поведение пользователей двух столиц.\n",
    "\n",
    "**Цель исследования** — проверить три гипотезы:\n",
    "1. Активность пользователей зависит от дня недели. Причём в Москве и Петербурге это проявляется по-разному.\n",
    "2. В понедельник утром в Москве преобладают одни жанры, а в Петербурге — другие. Так же и вечером пятницы преобладают разные жанры — в зависимости от города.\n",
    "3. Москва и Петербург предпочитают разные жанры музыки. В Москве чаще слушают поп-музыку, в Петербурге — русский рэп.\n",
    "\n",
    "**Ход исследования**\n",
    "\n",
    "Данные о поведении пользователей мы получим из файла `yandex_music_project.csv`. О качестве данных ничего не известно. Поэтому перед проверкой гипотез понадобится обзор данных.\n",
    "\n",
    "Мы проверим данные на ошибки и оценим их влияние на исследование. Затем, на этапе предобработки мы поищем возможность исправить самые критичные ошибки данных.\n",
    "\n",
    "Таким образом, исследование пройдёт в три этапа:\n",
    " 1. Обзор данных.\n",
    " 2. Предобработка данных.\n",
    " 3. Проверка гипотез."
   ]
  },
  {
   "cell_type": "markdown",
   "metadata": {
    "id": "Ml1hmfXC_Zcs"
   },
   "source": [
    "## Обзор данных\n",
    "\n",
    "Составим первое представление о данных Яндекс Музыки."
   ]
  },
  {
   "cell_type": "code",
   "execution_count": 1,
   "metadata": {
    "deletable": false,
    "id": "AXN7PHPN_Zcs"
   },
   "outputs": [],
   "source": [
    "import pandas as pd # импорт библиотеки pandas"
   ]
  },
  {
   "cell_type": "markdown",
   "metadata": {
    "id": "SG23P8tt_Zcs",
    "tags": [
     "start_task"
    ]
   },
   "source": [
    "Прочитаем файл `yandex_music_project.csv` и сохраним его в переменной `df`:"
   ]
  },
  {
   "cell_type": "code",
   "execution_count": 2,
   "metadata": {},
   "outputs": [],
   "source": [
    "# чтение файла с данными и сохранение в df\n",
    "df = pd.read_csv('C:/Users/user/practicum/Porfolio/1. Music_of_big_cities/yandex_music_project.csv') "
   ]
  },
  {
   "cell_type": "markdown",
   "metadata": {
    "id": "rDoOMd3uTqnZ",
    "tags": [
     "start_task"
    ]
   },
   "source": [
    "Выведем на экран первые десять строк таблицы:"
   ]
  },
  {
   "cell_type": "code",
   "execution_count": 3,
   "metadata": {
    "deletable": false,
    "id": "oWTVX3gW_Zct"
   },
   "outputs": [
    {
     "data": {
      "text/html": [
       "<div>\n",
       "<style scoped>\n",
       "    .dataframe tbody tr th:only-of-type {\n",
       "        vertical-align: middle;\n",
       "    }\n",
       "\n",
       "    .dataframe tbody tr th {\n",
       "        vertical-align: top;\n",
       "    }\n",
       "\n",
       "    .dataframe thead th {\n",
       "        text-align: right;\n",
       "    }\n",
       "</style>\n",
       "<table border=\"1\" class=\"dataframe\">\n",
       "  <thead>\n",
       "    <tr style=\"text-align: right;\">\n",
       "      <th></th>\n",
       "      <th>userID</th>\n",
       "      <th>Track</th>\n",
       "      <th>artist</th>\n",
       "      <th>genre</th>\n",
       "      <th>City</th>\n",
       "      <th>time</th>\n",
       "      <th>Day</th>\n",
       "    </tr>\n",
       "  </thead>\n",
       "  <tbody>\n",
       "    <tr>\n",
       "      <th>0</th>\n",
       "      <td>FFB692EC</td>\n",
       "      <td>Kamigata To Boots</td>\n",
       "      <td>The Mass Missile</td>\n",
       "      <td>rock</td>\n",
       "      <td>Saint-Petersburg</td>\n",
       "      <td>20:28:33</td>\n",
       "      <td>Wednesday</td>\n",
       "    </tr>\n",
       "    <tr>\n",
       "      <th>1</th>\n",
       "      <td>55204538</td>\n",
       "      <td>Delayed Because of Accident</td>\n",
       "      <td>Andreas Rönnberg</td>\n",
       "      <td>rock</td>\n",
       "      <td>Moscow</td>\n",
       "      <td>14:07:09</td>\n",
       "      <td>Friday</td>\n",
       "    </tr>\n",
       "    <tr>\n",
       "      <th>2</th>\n",
       "      <td>20EC38</td>\n",
       "      <td>Funiculì funiculà</td>\n",
       "      <td>Mario Lanza</td>\n",
       "      <td>pop</td>\n",
       "      <td>Saint-Petersburg</td>\n",
       "      <td>20:58:07</td>\n",
       "      <td>Wednesday</td>\n",
       "    </tr>\n",
       "    <tr>\n",
       "      <th>3</th>\n",
       "      <td>A3DD03C9</td>\n",
       "      <td>Dragons in the Sunset</td>\n",
       "      <td>Fire + Ice</td>\n",
       "      <td>folk</td>\n",
       "      <td>Saint-Petersburg</td>\n",
       "      <td>08:37:09</td>\n",
       "      <td>Monday</td>\n",
       "    </tr>\n",
       "    <tr>\n",
       "      <th>4</th>\n",
       "      <td>E2DC1FAE</td>\n",
       "      <td>Soul People</td>\n",
       "      <td>Space Echo</td>\n",
       "      <td>dance</td>\n",
       "      <td>Moscow</td>\n",
       "      <td>08:34:34</td>\n",
       "      <td>Monday</td>\n",
       "    </tr>\n",
       "    <tr>\n",
       "      <th>5</th>\n",
       "      <td>842029A1</td>\n",
       "      <td>Преданная</td>\n",
       "      <td>IMPERVTOR</td>\n",
       "      <td>rusrap</td>\n",
       "      <td>Saint-Petersburg</td>\n",
       "      <td>13:09:41</td>\n",
       "      <td>Friday</td>\n",
       "    </tr>\n",
       "    <tr>\n",
       "      <th>6</th>\n",
       "      <td>4CB90AA5</td>\n",
       "      <td>True</td>\n",
       "      <td>Roman Messer</td>\n",
       "      <td>dance</td>\n",
       "      <td>Moscow</td>\n",
       "      <td>13:00:07</td>\n",
       "      <td>Wednesday</td>\n",
       "    </tr>\n",
       "    <tr>\n",
       "      <th>7</th>\n",
       "      <td>F03E1C1F</td>\n",
       "      <td>Feeling This Way</td>\n",
       "      <td>Polina Griffith</td>\n",
       "      <td>dance</td>\n",
       "      <td>Moscow</td>\n",
       "      <td>20:47:49</td>\n",
       "      <td>Wednesday</td>\n",
       "    </tr>\n",
       "    <tr>\n",
       "      <th>8</th>\n",
       "      <td>8FA1D3BE</td>\n",
       "      <td>И вновь продолжается бой</td>\n",
       "      <td>NaN</td>\n",
       "      <td>ruspop</td>\n",
       "      <td>Moscow</td>\n",
       "      <td>09:17:40</td>\n",
       "      <td>Friday</td>\n",
       "    </tr>\n",
       "    <tr>\n",
       "      <th>9</th>\n",
       "      <td>E772D5C0</td>\n",
       "      <td>Pessimist</td>\n",
       "      <td>NaN</td>\n",
       "      <td>dance</td>\n",
       "      <td>Saint-Petersburg</td>\n",
       "      <td>21:20:49</td>\n",
       "      <td>Wednesday</td>\n",
       "    </tr>\n",
       "  </tbody>\n",
       "</table>\n",
       "</div>"
      ],
      "text/plain": [
       "     userID                        Track            artist   genre  \\\n",
       "0  FFB692EC            Kamigata To Boots  The Mass Missile    rock   \n",
       "1  55204538  Delayed Because of Accident  Andreas Rönnberg    rock   \n",
       "2    20EC38            Funiculì funiculà       Mario Lanza     pop   \n",
       "3  A3DD03C9        Dragons in the Sunset        Fire + Ice    folk   \n",
       "4  E2DC1FAE                  Soul People        Space Echo   dance   \n",
       "5  842029A1                    Преданная         IMPERVTOR  rusrap   \n",
       "6  4CB90AA5                         True      Roman Messer   dance   \n",
       "7  F03E1C1F             Feeling This Way   Polina Griffith   dance   \n",
       "8  8FA1D3BE     И вновь продолжается бой               NaN  ruspop   \n",
       "9  E772D5C0                    Pessimist               NaN   dance   \n",
       "\n",
       "             City        time        Day  \n",
       "0  Saint-Petersburg  20:28:33  Wednesday  \n",
       "1            Moscow  14:07:09     Friday  \n",
       "2  Saint-Petersburg  20:58:07  Wednesday  \n",
       "3  Saint-Petersburg  08:37:09     Monday  \n",
       "4            Moscow  08:34:34     Monday  \n",
       "5  Saint-Petersburg  13:09:41     Friday  \n",
       "6            Moscow  13:00:07  Wednesday  \n",
       "7            Moscow  20:47:49  Wednesday  \n",
       "8            Moscow  09:17:40     Friday  \n",
       "9  Saint-Petersburg  21:20:49  Wednesday  "
      ]
     },
     "execution_count": 3,
     "metadata": {},
     "output_type": "execute_result"
    }
   ],
   "source": [
    "df.head(10) # получение первых 10 строк таблицы df"
   ]
  },
  {
   "cell_type": "markdown",
   "metadata": {
    "id": "EO73Kwic_Zct",
    "tags": [
     "start_task"
    ]
   },
   "source": [
    "Одной командой получим общую информацию о таблице c помощью метода `info()`:"
   ]
  },
  {
   "cell_type": "code",
   "execution_count": 4,
   "metadata": {
    "deletable": false,
    "id": "DSf2kIb-_Zct"
   },
   "outputs": [
    {
     "name": "stdout",
     "output_type": "stream",
     "text": [
      "<class 'pandas.core.frame.DataFrame'>\n",
      "RangeIndex: 65079 entries, 0 to 65078\n",
      "Data columns (total 7 columns):\n",
      " #   Column    Non-Null Count  Dtype \n",
      "---  ------    --------------  ----- \n",
      " 0     userID  65079 non-null  object\n",
      " 1   Track     63848 non-null  object\n",
      " 2   artist    57876 non-null  object\n",
      " 3   genre     63881 non-null  object\n",
      " 4     City    65079 non-null  object\n",
      " 5   time      65079 non-null  object\n",
      " 6   Day       65079 non-null  object\n",
      "dtypes: object(7)\n",
      "memory usage: 3.5+ MB\n"
     ]
    }
   ],
   "source": [
    "df.info() # получение общей информации о данных в таблице df"
   ]
  },
  {
   "cell_type": "markdown",
   "metadata": {
    "deletable": false,
    "editable": false,
    "id": "TaQ2Iwbr_Zct"
   },
   "source": [
    "Итак, в таблице семь столбцов. Тип данных во всех столбцах — `object`.\n",
    "\n",
    "Согласно документации к данным:\n",
    "* `userID` — идентификатор пользователя;\n",
    "* `Track` — название трека;  \n",
    "* `artist` — имя исполнителя;\n",
    "* `genre` — название жанра;\n",
    "* `City` — город пользователя;\n",
    "* `time` — время начала прослушивания;\n",
    "* `Day` — день недели.\n",
    "\n",
    "Количество значений в столбцах различается. Значит, в данных есть пропущенные значения."
   ]
  },
  {
   "cell_type": "markdown",
   "metadata": {
    "id": "4P0UCWzswgEm",
    "tags": [
     "start_task"
    ]
   },
   "source": [
    "В названиях колонок видны два нарушения стиля:\n",
    "1. Строчные буквы сочетаются с прописными.\n",
    "2. Встречаются пробелы."
   ]
  },
  {
   "cell_type": "markdown",
   "metadata": {
    "id": "MCB6-dXG_Zct"
   },
   "source": [
    "**Выводы:**\n",
    "\n",
    "В каждой строке таблицы — данные о прослушанном треке. Часть колонок описывает саму композицию: название, исполнителя и жанр. Остальные данные рассказывают о пользователе: из какого он города, когда он слушал музыку.\n",
    "\n",
    "Предварительно можно утверждать, что данных достаточно для проверки гипотез. Но встречаются пропуски в данных, а в названиях колонок — расхождения с хорошим стилем.\n",
    "\n",
    "Чтобы двигаться дальше, нужно устранить проблемы в данных."
   ]
  },
  {
   "cell_type": "markdown",
   "metadata": {
    "id": "SjYF6Ub9_Zct"
   },
   "source": [
    "## Предобработка данных\n",
    "Исправим стиль в заголовках столбцов, исключим пропуски. Затем проверим данные на дубликаты."
   ]
  },
  {
   "cell_type": "markdown",
   "metadata": {
    "id": "dIaKXr29_Zct",
    "tags": [
     "start_task"
    ]
   },
   "source": [
    "### Стиль заголовков\n",
    "\n",
    "Выведем на экран названия столбцов:"
   ]
  },
  {
   "cell_type": "code",
   "execution_count": 5,
   "metadata": {
    "deletable": false,
    "id": "oKOTdF_Q_Zct"
   },
   "outputs": [
    {
     "data": {
      "text/plain": [
       "Index(['  userID', 'Track', 'artist', 'genre', '  City  ', 'time', 'Day'], dtype='object')"
      ]
     },
     "execution_count": 5,
     "metadata": {},
     "output_type": "execute_result"
    }
   ],
   "source": [
    "df.columns # перечень названий столбцов таблицы df"
   ]
  },
  {
   "cell_type": "markdown",
   "metadata": {
    "id": "zj5534cv_Zct",
    "tags": [
     "start_task"
    ]
   },
   "source": [
    "Приведем названия в соответствие с хорошим стилем:\n",
    "* несколько слов в названии запишем в «змеином регистре»,\n",
    "* все символы сделаем строчными,\n",
    "* устраним пробелы.\n",
    "\n",
    "Для этого переименуем следующим образом:\n",
    "* `'  userID'` → `'user_id'`;\n",
    "* `'Track'` → `'track'`;\n",
    "* `'  City  '` → `'city'`;\n",
    "* `'Day'` → `'day'`."
   ]
  },
  {
   "cell_type": "code",
   "execution_count": 6,
   "metadata": {
    "deletable": false,
    "id": "ISlFqs5y_Zct",
    "scrolled": true
   },
   "outputs": [],
   "source": [
    "df = df.rename(columns={'  userID':'user_id','Track':'track','  City  ':'city','Day':'day'})# переименование столбцов"
   ]
  },
  {
   "cell_type": "markdown",
   "metadata": {
    "id": "1dqbh00J_Zct",
    "tags": [
     "start_task"
    ]
   },
   "source": [
    "Проверим результат:"
   ]
  },
  {
   "cell_type": "code",
   "execution_count": 7,
   "metadata": {
    "deletable": false,
    "id": "d4NOAmTW_Zct"
   },
   "outputs": [
    {
     "data": {
      "text/plain": [
       "Index(['user_id', 'track', 'artist', 'genre', 'city', 'time', 'day'], dtype='object')"
      ]
     },
     "execution_count": 7,
     "metadata": {},
     "output_type": "execute_result"
    }
   ],
   "source": [
    "df.columns # проверка результатов - перечень названий столбцов"
   ]
  },
  {
   "cell_type": "markdown",
   "metadata": {
    "id": "5ISfbcfY_Zct",
    "tags": [
     "start_task"
    ]
   },
   "source": [
    "### Пропуски значений\n",
    "\n",
    "Сначала посчитаем, сколько в таблице пропущенных значений. Для этого достаточно двух методов `pandas`:"
   ]
  },
  {
   "cell_type": "code",
   "execution_count": 8,
   "metadata": {
    "deletable": false,
    "id": "RskX29qr_Zct"
   },
   "outputs": [
    {
     "data": {
      "text/plain": [
       "user_id       0\n",
       "track      1231\n",
       "artist     7203\n",
       "genre      1198\n",
       "city          0\n",
       "time          0\n",
       "day           0\n",
       "dtype: int64"
      ]
     },
     "execution_count": 8,
     "metadata": {},
     "output_type": "execute_result"
    }
   ],
   "source": [
    "df.isna().sum() # подсчёт пропусков"
   ]
  },
  {
   "cell_type": "markdown",
   "metadata": {
    "deletable": false,
    "editable": false,
    "id": "qubhgnlO_Zct"
   },
   "source": [
    "Не все пропущенные значения влияют на исследование. Так, в `track` и `artist` пропуски не важны для вашей работы. Достаточно заменить их явными обозначениями.\n",
    "\n",
    "Но пропуски в `genre` могут помешать сравнить музыкальные вкусы в Москве и Санкт-Петербурге. На практике было бы правильно установить причину пропусков и восстановить данные. Такой возможности нет в учебном проекте. Поэтому придётся:\n",
    "* заполнить и эти пропуски явными обозначениями;\n",
    "* оценить, насколько они повредят расчётам."
   ]
  },
  {
   "cell_type": "markdown",
   "metadata": {
    "id": "fSv2laPA_Zct",
    "tags": [
     "start_task"
    ]
   },
   "source": [
    "Заменим пропущенные значения в столбцах `track`, `artist` и `genre` на строку `'unknown'`. Для этого создадим список `columns_to_replace`, переберем его элементы циклом `for` и для каждого столбца выполним замену пропущенных значений:"
   ]
  },
  {
   "cell_type": "code",
   "execution_count": 9,
   "metadata": {
    "deletable": false,
    "id": "KplB5qWs_Zct"
   },
   "outputs": [],
   "source": [
    "# перебор названий столбцов в цикле и замена пропущенных значений на 'unknown'\n",
    "columns_to_replace = ['track', 'artist', 'genre']\n",
    "for column in columns_to_replace:\n",
    "    df[column]=df[column].fillna('unknown')"
   ]
  },
  {
   "cell_type": "markdown",
   "metadata": {
    "id": "Ilsm-MZo_Zct",
    "tags": [
     "start_task"
    ]
   },
   "source": [
    "Убедимся, что в таблице не осталось пропусков. Для этого ещё раз посчитаем пропущенные значения."
   ]
  },
  {
   "cell_type": "code",
   "execution_count": 10,
   "metadata": {
    "deletable": false,
    "id": "Tq4nYRX4_Zct"
   },
   "outputs": [
    {
     "data": {
      "text/plain": [
       "user_id    0\n",
       "track      0\n",
       "artist     0\n",
       "genre      0\n",
       "city       0\n",
       "time       0\n",
       "day        0\n",
       "dtype: int64"
      ]
     },
     "execution_count": 10,
     "metadata": {},
     "output_type": "execute_result"
    }
   ],
   "source": [
    "df.isna().sum() # подсчёт пропусков"
   ]
  },
  {
   "cell_type": "markdown",
   "metadata": {
    "id": "BWKRtBJ3_Zct",
    "tags": [
     "start_task"
    ]
   },
   "source": [
    "### Дубликаты\n",
    "\n",
    "Посчитаем явные дубликаты в таблице одной командой:"
   ]
  },
  {
   "cell_type": "code",
   "execution_count": 11,
   "metadata": {
    "deletable": false,
    "id": "36eES_S0_Zct"
   },
   "outputs": [
    {
     "data": {
      "text/plain": [
       "3826"
      ]
     },
     "execution_count": 11,
     "metadata": {},
     "output_type": "execute_result"
    }
   ],
   "source": [
    "df.duplicated().sum() # подсчёт явных дубликатов"
   ]
  },
  {
   "cell_type": "markdown",
   "metadata": {
    "id": "Ot25h6XR_Zct",
    "tags": [
     "start_task"
    ]
   },
   "source": [
    "Вызовем специальный метод `pandas`, чтобы удалить явные дубликаты:"
   ]
  },
  {
   "cell_type": "code",
   "execution_count": 12,
   "metadata": {
    "deletable": false,
    "id": "exFHq6tt_Zct"
   },
   "outputs": [],
   "source": [
    "df = df.drop_duplicates()# удаление явных дубликатов"
   ]
  },
  {
   "cell_type": "markdown",
   "metadata": {
    "id": "Im2YwBEG_Zct",
    "tags": [
     "start_task"
    ]
   },
   "source": [
    "Ещё раз посчитаем явные дубликаты в таблице — убедимся, что полностью от них избавились:"
   ]
  },
  {
   "cell_type": "code",
   "execution_count": 13,
   "metadata": {
    "deletable": false,
    "id": "-8PuNWQ0_Zct"
   },
   "outputs": [
    {
     "data": {
      "text/plain": [
       "0"
      ]
     },
     "execution_count": 13,
     "metadata": {},
     "output_type": "execute_result"
    }
   ],
   "source": [
    "df.duplicated().sum() # проверка на отсутствие дубликатов"
   ]
  },
  {
   "cell_type": "markdown",
   "metadata": {
    "id": "QlFBsxAr_Zct"
   },
   "source": [
    "Теперь избавимся от неявных дубликатов в колонке `genre`. Например, название одного и того же жанра может быть записано немного по-разному. Такие ошибки тоже повлияют на результат исследования."
   ]
  },
  {
   "cell_type": "markdown",
   "metadata": {
    "id": "eSjWwsOh_Zct",
    "tags": [
     "start_task"
    ]
   },
   "source": [
    "Выведем на экран список уникальных названий жанров, отсортированный в алфавитном порядке. Для этого:\n",
    "* извлечем нужный столбец датафрейма;\n",
    "* применим к нему метод сортировки;\n",
    "* для отсортированного столбца вызовем метод, который вернёт уникальные значения из столбца."
   ]
  },
  {
   "cell_type": "code",
   "execution_count": 14,
   "metadata": {
    "deletable": false,
    "id": "JIUcqzZN_Zct",
    "scrolled": true
   },
   "outputs": [
    {
     "data": {
      "text/plain": [
       "['acid',\n",
       " 'acoustic',\n",
       " 'action',\n",
       " 'adult',\n",
       " 'africa',\n",
       " 'afrikaans',\n",
       " 'alternative',\n",
       " 'alternativepunk',\n",
       " 'ambient',\n",
       " 'americana',\n",
       " 'animated',\n",
       " 'anime',\n",
       " 'arabesk',\n",
       " 'arabic',\n",
       " 'arena',\n",
       " 'argentinetango',\n",
       " 'art',\n",
       " 'audiobook',\n",
       " 'author',\n",
       " 'avantgarde',\n",
       " 'axé',\n",
       " 'baile',\n",
       " 'balkan',\n",
       " 'beats',\n",
       " 'bigroom',\n",
       " 'black',\n",
       " 'bluegrass',\n",
       " 'blues',\n",
       " 'bollywood',\n",
       " 'bossa',\n",
       " 'brazilian',\n",
       " 'breakbeat',\n",
       " 'breaks',\n",
       " 'broadway',\n",
       " 'cantautori',\n",
       " 'cantopop',\n",
       " 'canzone',\n",
       " 'caribbean',\n",
       " 'caucasian',\n",
       " 'celtic',\n",
       " 'chamber',\n",
       " 'chanson',\n",
       " 'children',\n",
       " 'chill',\n",
       " 'chinese',\n",
       " 'choral',\n",
       " 'christian',\n",
       " 'christmas',\n",
       " 'classical',\n",
       " 'classicmetal',\n",
       " 'club',\n",
       " 'colombian',\n",
       " 'comedy',\n",
       " 'conjazz',\n",
       " 'contemporary',\n",
       " 'country',\n",
       " 'cuban',\n",
       " 'dance',\n",
       " 'dancehall',\n",
       " 'dancepop',\n",
       " 'dark',\n",
       " 'death',\n",
       " 'deep',\n",
       " 'deutschrock',\n",
       " 'deutschspr',\n",
       " 'dirty',\n",
       " 'disco',\n",
       " 'dnb',\n",
       " 'documentary',\n",
       " 'downbeat',\n",
       " 'downtempo',\n",
       " 'drum',\n",
       " 'dub',\n",
       " 'dubstep',\n",
       " 'eastern',\n",
       " 'easy',\n",
       " 'electronic',\n",
       " 'electropop',\n",
       " 'emo',\n",
       " 'entehno',\n",
       " 'epicmetal',\n",
       " 'estrada',\n",
       " 'ethnic',\n",
       " 'eurofolk',\n",
       " 'european',\n",
       " 'experimental',\n",
       " 'extrememetal',\n",
       " 'fado',\n",
       " 'fairytail',\n",
       " 'film',\n",
       " 'fitness',\n",
       " 'flamenco',\n",
       " 'folk',\n",
       " 'folklore',\n",
       " 'folkmetal',\n",
       " 'folkrock',\n",
       " 'folktronica',\n",
       " 'forró',\n",
       " 'frankreich',\n",
       " 'französisch',\n",
       " 'french',\n",
       " 'funk',\n",
       " 'future',\n",
       " 'gangsta',\n",
       " 'garage',\n",
       " 'german',\n",
       " 'ghazal',\n",
       " 'gitarre',\n",
       " 'glitch',\n",
       " 'gospel',\n",
       " 'gothic',\n",
       " 'grime',\n",
       " 'grunge',\n",
       " 'gypsy',\n",
       " 'handsup',\n",
       " \"hard'n'heavy\",\n",
       " 'hardcore',\n",
       " 'hardstyle',\n",
       " 'hardtechno',\n",
       " 'hip',\n",
       " 'hip-hop',\n",
       " 'hiphop',\n",
       " 'historisch',\n",
       " 'holiday',\n",
       " 'hop',\n",
       " 'horror',\n",
       " 'house',\n",
       " 'hymn',\n",
       " 'idm',\n",
       " 'independent',\n",
       " 'indian',\n",
       " 'indie',\n",
       " 'indipop',\n",
       " 'industrial',\n",
       " 'inspirational',\n",
       " 'instrumental',\n",
       " 'international',\n",
       " 'irish',\n",
       " 'jam',\n",
       " 'japanese',\n",
       " 'jazz',\n",
       " 'jewish',\n",
       " 'jpop',\n",
       " 'jungle',\n",
       " 'k-pop',\n",
       " 'karadeniz',\n",
       " 'karaoke',\n",
       " 'kayokyoku',\n",
       " 'korean',\n",
       " 'laiko',\n",
       " 'latin',\n",
       " 'latino',\n",
       " 'leftfield',\n",
       " 'local',\n",
       " 'lounge',\n",
       " 'loungeelectronic',\n",
       " 'lovers',\n",
       " 'malaysian',\n",
       " 'mandopop',\n",
       " 'marschmusik',\n",
       " 'meditative',\n",
       " 'mediterranean',\n",
       " 'melodic',\n",
       " 'metal',\n",
       " 'metalcore',\n",
       " 'mexican',\n",
       " 'middle',\n",
       " 'minimal',\n",
       " 'miscellaneous',\n",
       " 'modern',\n",
       " 'mood',\n",
       " 'mpb',\n",
       " 'muslim',\n",
       " 'native',\n",
       " 'neoklassik',\n",
       " 'neue',\n",
       " 'new',\n",
       " 'newage',\n",
       " 'newwave',\n",
       " 'nu',\n",
       " 'nujazz',\n",
       " 'numetal',\n",
       " 'oceania',\n",
       " 'old',\n",
       " 'opera',\n",
       " 'orchestral',\n",
       " 'other',\n",
       " 'piano',\n",
       " 'podcasts',\n",
       " 'pop',\n",
       " 'popdance',\n",
       " 'popelectronic',\n",
       " 'popeurodance',\n",
       " 'poprussian',\n",
       " 'post',\n",
       " 'posthardcore',\n",
       " 'postrock',\n",
       " 'power',\n",
       " 'progmetal',\n",
       " 'progressive',\n",
       " 'psychedelic',\n",
       " 'punjabi',\n",
       " 'punk',\n",
       " 'quebecois',\n",
       " 'ragga',\n",
       " 'ram',\n",
       " 'rancheras',\n",
       " 'rap',\n",
       " 'rave',\n",
       " 'reggae',\n",
       " 'reggaeton',\n",
       " 'regional',\n",
       " 'relax',\n",
       " 'religious',\n",
       " 'retro',\n",
       " 'rhythm',\n",
       " 'rnb',\n",
       " 'rnr',\n",
       " 'rock',\n",
       " 'rockabilly',\n",
       " 'rockalternative',\n",
       " 'rockindie',\n",
       " 'rockother',\n",
       " 'romance',\n",
       " 'roots',\n",
       " 'ruspop',\n",
       " 'rusrap',\n",
       " 'rusrock',\n",
       " 'russian',\n",
       " 'salsa',\n",
       " 'samba',\n",
       " 'scenic',\n",
       " 'schlager',\n",
       " 'self',\n",
       " 'sertanejo',\n",
       " 'shanson',\n",
       " 'shoegazing',\n",
       " 'showtunes',\n",
       " 'singer',\n",
       " 'ska',\n",
       " 'skarock',\n",
       " 'slow',\n",
       " 'smooth',\n",
       " 'soft',\n",
       " 'soul',\n",
       " 'soulful',\n",
       " 'sound',\n",
       " 'soundtrack',\n",
       " 'southern',\n",
       " 'specialty',\n",
       " 'speech',\n",
       " 'spiritual',\n",
       " 'sport',\n",
       " 'stonerrock',\n",
       " 'surf',\n",
       " 'swing',\n",
       " 'synthpop',\n",
       " 'synthrock',\n",
       " 'sängerportrait',\n",
       " 'tango',\n",
       " 'tanzorchester',\n",
       " 'taraftar',\n",
       " 'tatar',\n",
       " 'tech',\n",
       " 'techno',\n",
       " 'teen',\n",
       " 'thrash',\n",
       " 'top',\n",
       " 'traditional',\n",
       " 'tradjazz',\n",
       " 'trance',\n",
       " 'tribal',\n",
       " 'trip',\n",
       " 'triphop',\n",
       " 'tropical',\n",
       " 'türk',\n",
       " 'türkçe',\n",
       " 'ukrrock',\n",
       " 'unknown',\n",
       " 'urban',\n",
       " 'uzbek',\n",
       " 'variété',\n",
       " 'vi',\n",
       " 'videogame',\n",
       " 'vocal',\n",
       " 'western',\n",
       " 'world',\n",
       " 'worldbeat',\n",
       " 'ïîï',\n",
       " 'электроника']"
      ]
     },
     "execution_count": 14,
     "metadata": {},
     "output_type": "execute_result"
    }
   ],
   "source": [
    "sorted(df['genre'].unique()) # Просмотр уникальных названий жанров"
   ]
  },
  {
   "cell_type": "markdown",
   "metadata": {
    "id": "qej-Qmuo_Zct",
    "tags": [
     "start_task"
    ]
   },
   "source": [
    "Просмотрев получившийся список, находим неявные дубликаты названия `hiphop`. Это могут быть названия с ошибками или альтернативные названия того же жанра.\n",
    "\n",
    "Нами были найдены следующие неявные дубликаты:\n",
    "* *hip*,\n",
    "* *hop*,\n",
    "* *hip-hop*.\n",
    "\n",
    "Чтобы очистить от них таблицу, используем метод `replace()` с двумя аргументами: списком строк-дубликатов (включающий *hip*, *hop* и *hip-hop*) и строкой с правильным значением. Нам нужно исправить колонку `genre` в таблице `df`: заменим каждое значение из списка дубликатов на верное. Вместо `hip`, `hop` и `hip-hop` в таблице должно быть значение `hiphop`:"
   ]
  },
  {
   "cell_type": "code",
   "execution_count": 15,
   "metadata": {
    "deletable": false,
    "id": "ErNDkmns_Zct"
   },
   "outputs": [],
   "source": [
    "df['genre'] = df['genre'].replace('hip','hiphop') # Устранение неявных дубликатов\n",
    "df['genre'] = df['genre'].replace('hop','hiphop')\n",
    "df['genre'] = df['genre'].replace('hip-hop','hiphop')"
   ]
  },
  {
   "cell_type": "markdown",
   "metadata": {
    "id": "zQKF16_RG15m",
    "tags": [
     "start_task"
    ]
   },
   "source": [
    "Проверим, что заменили неправильные названия:\n",
    "\n",
    "*   *hip*,\n",
    "*   *hop*,\n",
    "*   *hip-hop*.\n",
    "\n",
    "Выведем отсортированный список уникальных значений столбца `genre`:"
   ]
  },
  {
   "cell_type": "code",
   "execution_count": 16,
   "metadata": {
    "deletable": false,
    "id": "wvixALnFG15m"
   },
   "outputs": [
    {
     "data": {
      "text/plain": [
       "['acid',\n",
       " 'acoustic',\n",
       " 'action',\n",
       " 'adult',\n",
       " 'africa',\n",
       " 'afrikaans',\n",
       " 'alternative',\n",
       " 'alternativepunk',\n",
       " 'ambient',\n",
       " 'americana',\n",
       " 'animated',\n",
       " 'anime',\n",
       " 'arabesk',\n",
       " 'arabic',\n",
       " 'arena',\n",
       " 'argentinetango',\n",
       " 'art',\n",
       " 'audiobook',\n",
       " 'author',\n",
       " 'avantgarde',\n",
       " 'axé',\n",
       " 'baile',\n",
       " 'balkan',\n",
       " 'beats',\n",
       " 'bigroom',\n",
       " 'black',\n",
       " 'bluegrass',\n",
       " 'blues',\n",
       " 'bollywood',\n",
       " 'bossa',\n",
       " 'brazilian',\n",
       " 'breakbeat',\n",
       " 'breaks',\n",
       " 'broadway',\n",
       " 'cantautori',\n",
       " 'cantopop',\n",
       " 'canzone',\n",
       " 'caribbean',\n",
       " 'caucasian',\n",
       " 'celtic',\n",
       " 'chamber',\n",
       " 'chanson',\n",
       " 'children',\n",
       " 'chill',\n",
       " 'chinese',\n",
       " 'choral',\n",
       " 'christian',\n",
       " 'christmas',\n",
       " 'classical',\n",
       " 'classicmetal',\n",
       " 'club',\n",
       " 'colombian',\n",
       " 'comedy',\n",
       " 'conjazz',\n",
       " 'contemporary',\n",
       " 'country',\n",
       " 'cuban',\n",
       " 'dance',\n",
       " 'dancehall',\n",
       " 'dancepop',\n",
       " 'dark',\n",
       " 'death',\n",
       " 'deep',\n",
       " 'deutschrock',\n",
       " 'deutschspr',\n",
       " 'dirty',\n",
       " 'disco',\n",
       " 'dnb',\n",
       " 'documentary',\n",
       " 'downbeat',\n",
       " 'downtempo',\n",
       " 'drum',\n",
       " 'dub',\n",
       " 'dubstep',\n",
       " 'eastern',\n",
       " 'easy',\n",
       " 'electronic',\n",
       " 'electropop',\n",
       " 'emo',\n",
       " 'entehno',\n",
       " 'epicmetal',\n",
       " 'estrada',\n",
       " 'ethnic',\n",
       " 'eurofolk',\n",
       " 'european',\n",
       " 'experimental',\n",
       " 'extrememetal',\n",
       " 'fado',\n",
       " 'fairytail',\n",
       " 'film',\n",
       " 'fitness',\n",
       " 'flamenco',\n",
       " 'folk',\n",
       " 'folklore',\n",
       " 'folkmetal',\n",
       " 'folkrock',\n",
       " 'folktronica',\n",
       " 'forró',\n",
       " 'frankreich',\n",
       " 'französisch',\n",
       " 'french',\n",
       " 'funk',\n",
       " 'future',\n",
       " 'gangsta',\n",
       " 'garage',\n",
       " 'german',\n",
       " 'ghazal',\n",
       " 'gitarre',\n",
       " 'glitch',\n",
       " 'gospel',\n",
       " 'gothic',\n",
       " 'grime',\n",
       " 'grunge',\n",
       " 'gypsy',\n",
       " 'handsup',\n",
       " \"hard'n'heavy\",\n",
       " 'hardcore',\n",
       " 'hardstyle',\n",
       " 'hardtechno',\n",
       " 'hiphop',\n",
       " 'historisch',\n",
       " 'holiday',\n",
       " 'horror',\n",
       " 'house',\n",
       " 'hymn',\n",
       " 'idm',\n",
       " 'independent',\n",
       " 'indian',\n",
       " 'indie',\n",
       " 'indipop',\n",
       " 'industrial',\n",
       " 'inspirational',\n",
       " 'instrumental',\n",
       " 'international',\n",
       " 'irish',\n",
       " 'jam',\n",
       " 'japanese',\n",
       " 'jazz',\n",
       " 'jewish',\n",
       " 'jpop',\n",
       " 'jungle',\n",
       " 'k-pop',\n",
       " 'karadeniz',\n",
       " 'karaoke',\n",
       " 'kayokyoku',\n",
       " 'korean',\n",
       " 'laiko',\n",
       " 'latin',\n",
       " 'latino',\n",
       " 'leftfield',\n",
       " 'local',\n",
       " 'lounge',\n",
       " 'loungeelectronic',\n",
       " 'lovers',\n",
       " 'malaysian',\n",
       " 'mandopop',\n",
       " 'marschmusik',\n",
       " 'meditative',\n",
       " 'mediterranean',\n",
       " 'melodic',\n",
       " 'metal',\n",
       " 'metalcore',\n",
       " 'mexican',\n",
       " 'middle',\n",
       " 'minimal',\n",
       " 'miscellaneous',\n",
       " 'modern',\n",
       " 'mood',\n",
       " 'mpb',\n",
       " 'muslim',\n",
       " 'native',\n",
       " 'neoklassik',\n",
       " 'neue',\n",
       " 'new',\n",
       " 'newage',\n",
       " 'newwave',\n",
       " 'nu',\n",
       " 'nujazz',\n",
       " 'numetal',\n",
       " 'oceania',\n",
       " 'old',\n",
       " 'opera',\n",
       " 'orchestral',\n",
       " 'other',\n",
       " 'piano',\n",
       " 'podcasts',\n",
       " 'pop',\n",
       " 'popdance',\n",
       " 'popelectronic',\n",
       " 'popeurodance',\n",
       " 'poprussian',\n",
       " 'post',\n",
       " 'posthardcore',\n",
       " 'postrock',\n",
       " 'power',\n",
       " 'progmetal',\n",
       " 'progressive',\n",
       " 'psychedelic',\n",
       " 'punjabi',\n",
       " 'punk',\n",
       " 'quebecois',\n",
       " 'ragga',\n",
       " 'ram',\n",
       " 'rancheras',\n",
       " 'rap',\n",
       " 'rave',\n",
       " 'reggae',\n",
       " 'reggaeton',\n",
       " 'regional',\n",
       " 'relax',\n",
       " 'religious',\n",
       " 'retro',\n",
       " 'rhythm',\n",
       " 'rnb',\n",
       " 'rnr',\n",
       " 'rock',\n",
       " 'rockabilly',\n",
       " 'rockalternative',\n",
       " 'rockindie',\n",
       " 'rockother',\n",
       " 'romance',\n",
       " 'roots',\n",
       " 'ruspop',\n",
       " 'rusrap',\n",
       " 'rusrock',\n",
       " 'russian',\n",
       " 'salsa',\n",
       " 'samba',\n",
       " 'scenic',\n",
       " 'schlager',\n",
       " 'self',\n",
       " 'sertanejo',\n",
       " 'shanson',\n",
       " 'shoegazing',\n",
       " 'showtunes',\n",
       " 'singer',\n",
       " 'ska',\n",
       " 'skarock',\n",
       " 'slow',\n",
       " 'smooth',\n",
       " 'soft',\n",
       " 'soul',\n",
       " 'soulful',\n",
       " 'sound',\n",
       " 'soundtrack',\n",
       " 'southern',\n",
       " 'specialty',\n",
       " 'speech',\n",
       " 'spiritual',\n",
       " 'sport',\n",
       " 'stonerrock',\n",
       " 'surf',\n",
       " 'swing',\n",
       " 'synthpop',\n",
       " 'synthrock',\n",
       " 'sängerportrait',\n",
       " 'tango',\n",
       " 'tanzorchester',\n",
       " 'taraftar',\n",
       " 'tatar',\n",
       " 'tech',\n",
       " 'techno',\n",
       " 'teen',\n",
       " 'thrash',\n",
       " 'top',\n",
       " 'traditional',\n",
       " 'tradjazz',\n",
       " 'trance',\n",
       " 'tribal',\n",
       " 'trip',\n",
       " 'triphop',\n",
       " 'tropical',\n",
       " 'türk',\n",
       " 'türkçe',\n",
       " 'ukrrock',\n",
       " 'unknown',\n",
       " 'urban',\n",
       " 'uzbek',\n",
       " 'variété',\n",
       " 'vi',\n",
       " 'videogame',\n",
       " 'vocal',\n",
       " 'western',\n",
       " 'world',\n",
       " 'worldbeat',\n",
       " 'ïîï',\n",
       " 'электроника']"
      ]
     },
     "execution_count": 16,
     "metadata": {},
     "output_type": "execute_result"
    }
   ],
   "source": [
    "sorted(df['genre'].unique()) # Проверка на неявные дубликаты"
   ]
  },
  {
   "cell_type": "markdown",
   "metadata": {
    "id": "jz6a9-7HQUDd"
   },
   "source": [
    "**Выводы:**\n",
    "\n",
    "Предобработка обнаружила три проблемы в данных:\n",
    "\n",
    "- нарушения в стиле заголовков,\n",
    "- пропущенные значения,\n",
    "- дубликаты — явные и неявные.\n",
    "\n",
    "Мы исправили заголовки, чтобы упростить работу с таблицей. Без дубликатов исследование станет более точным.\n",
    "\n",
    "Пропущенные значения мы заменили на `'unknown'`. Ещё предстоит увидеть, не повредят ли исследованию пропуски в колонке `genre`.\n",
    "\n",
    "Теперь можно перейти к проверке гипотез."
   ]
  },
  {
   "cell_type": "markdown",
   "metadata": {
    "deletable": false,
    "editable": false,
    "id": "WttZHXH0SqKk"
   },
   "source": [
    "## Проверка гипотез"
   ]
  },
  {
   "cell_type": "markdown",
   "metadata": {
    "deletable": false,
    "editable": false,
    "id": "Im936VVi_Zcu"
   },
   "source": [
    "### Сравнение поведения пользователей двух столиц"
   ]
  },
  {
   "cell_type": "markdown",
   "metadata": {
    "id": "nwt_MuaL_Zcu"
   },
   "source": [
    "Первая гипотеза утверждает, что пользователи по-разному слушают музыку в Москве и Санкт-Петербурге. Проверим это предположение по данным о трёх днях недели — понедельнике, среде и пятнице. Для этого:\n",
    "\n",
    "* Разделим пользователей Москвы и Санкт-Петербурга.\n",
    "* Сравним, сколько треков послушала каждая группа пользователей в понедельник, среду и пятницу."
   ]
  },
  {
   "cell_type": "markdown",
   "metadata": {
    "id": "8Dw_YMmT_Zcu",
    "tags": [
     "start_task"
    ]
   },
   "source": [
    "Выполним каждый из расчётов по отдельности.\n",
    "\n",
    "Оценим активность пользователей в каждом городе. Сгруппируем данные по городу и посчитаем прослушивания в каждой группе."
   ]
  },
  {
   "cell_type": "code",
   "execution_count": 17,
   "metadata": {
    "deletable": false,
    "id": "0_Qs96oh_Zcu"
   },
   "outputs": [
    {
     "data": {
      "text/plain": [
       "city\n",
       "Moscow              42741\n",
       "Saint-Petersburg    18512\n",
       "Name: time, dtype: int64"
      ]
     },
     "execution_count": 17,
     "metadata": {},
     "output_type": "execute_result"
    }
   ],
   "source": [
    "df.groupby('city')['time'].count() # Подсчёт прослушиваний в каждом городе"
   ]
  },
  {
   "cell_type": "markdown",
   "metadata": {
    "id": "dzli3w8o_Zcu",
    "tags": [
     "start_task"
    ]
   },
   "source": [
    "В Москве прослушиваний больше, чем в Петербурге. Из этого не следует, что московские пользователи чаще слушают музыку. Просто самих пользователей в Москве больше.\n",
    "\n",
    "Теперь сгруппируем данные по дню недели и посчитаем прослушивания в понедельник, среду и пятницу. При этом мы учтем, что в данных есть информация о прослушиваниях только за эти дни."
   ]
  },
  {
   "cell_type": "code",
   "execution_count": 18,
   "metadata": {
    "deletable": false,
    "id": "uZMKjiJz_Zcu"
   },
   "outputs": [
    {
     "data": {
      "text/plain": [
       "day\n",
       "Friday       21840\n",
       "Monday       21354\n",
       "Wednesday    18059\n",
       "Name: time, dtype: int64"
      ]
     },
     "execution_count": 18,
     "metadata": {},
     "output_type": "execute_result"
    }
   ],
   "source": [
    "df.groupby('day')['time'].count() # Подсчёт прослушиваний в каждый из трёх дней"
   ]
  },
  {
   "cell_type": "markdown",
   "metadata": {
    "deletable": false,
    "editable": false,
    "id": "cC2tNrlL_Zcu"
   },
   "source": [
    "В среднем пользователи из двух городов менее активны по средам. Но картина может измениться, если рассмотреть каждый город в отдельности."
   ]
  },
  {
   "cell_type": "markdown",
   "metadata": {
    "id": "POzs8bGa_Zcu",
    "tags": [
     "start_task"
    ]
   },
   "source": [
    "Напишем функцию, которая объединит группировку по городу и дням недели.\n",
    "\n",
    "Создадим функцию `number_tracks()`, которая посчитает прослушивания для заданного дня и города. Ей понадобятся два параметра:\n",
    "* день недели,\n",
    "* название города.\n",
    "\n",
    "В функции сохраним в переменную строки исходной таблицы, у которых значение:\n",
    "  * в колонке `day` равно параметру `day`,\n",
    "  * в колонке `city` равно параметру `city`.\n",
    "\n",
    "Для этого применим последовательную фильтрацию с логической индексацией.\n",
    "\n",
    "Затем посчитаем значения в столбце `user_id` получившейся таблицы. Результат сохраним в новую переменную. Вернем эту переменную из функции."
   ]
  },
  {
   "cell_type": "code",
   "execution_count": 19,
   "metadata": {
    "deletable": false,
    "id": "Nz3GdQB1_Zcu"
   },
   "outputs": [],
   "source": [
    "# <создание функции number_tracks()>\n",
    "# Объявляется функция с двумя параметрами: day, city.\n",
    "# В переменной track_list сохраняются те строки таблицы df, для которых\n",
    "# значение в столбце 'day' равно параметру day и одновременно значение\n",
    "# в столбце 'city' равно параметру city (используем последовательную фильтрацию\n",
    "# с помощью логической индексации или сложные логические выражения в одну строку, если вы уже знакомы с ними).\n",
    "# В переменной track_list_count сохраняется число значений столбца 'user_id',\n",
    "# рассчитанное методом count() для таблицы track_list.\n",
    "# Функция возвращает число - значение track_list_count.\n",
    "\n",
    "def number_tracks(day, city):\n",
    "    track_list = df[df['day']==day]\n",
    "    track_list = track_list[track_list['city']==city]\n",
    "    track_list_count =  track_list['user_id'].count()\n",
    "    return track_list_count\n",
    "    \n",
    "\n",
    "# Функция для подсчёта прослушиваний для конкретного города и дня.\n",
    "# С помощью последовательной фильтрации с логической индексацией она\n",
    "# сначала получит из исходной таблицы строки с нужным днём,\n",
    "# затем из результата отфильтрует строки с нужным городом,\n",
    "# методом count() посчитает количество значений в колонке user_id.\n",
    "# Это количество функция вернёт в качестве результата"
   ]
  },
  {
   "cell_type": "markdown",
   "metadata": {
    "id": "ytf7xFrFJQ2r",
    "tags": [
     "start_task"
    ]
   },
   "source": [
    "Вызовем `number_tracks()` шесть раз, меняя значение параметров — так, чтобы получить данные для каждого города в каждый из трёх дней."
   ]
  },
  {
   "cell_type": "code",
   "execution_count": 20,
   "metadata": {
    "deletable": false,
    "id": "rJcRATNQ_Zcu"
   },
   "outputs": [
    {
     "data": {
      "text/plain": [
       "15740"
      ]
     },
     "execution_count": 20,
     "metadata": {},
     "output_type": "execute_result"
    }
   ],
   "source": [
    "number_tracks('Monday', 'Moscow') # количество прослушиваний в Москве по понедельникам"
   ]
  },
  {
   "cell_type": "code",
   "execution_count": 21,
   "metadata": {
    "deletable": false,
    "id": "hq_ncZ5T_Zcu"
   },
   "outputs": [
    {
     "data": {
      "text/plain": [
       "5614"
      ]
     },
     "execution_count": 21,
     "metadata": {},
     "output_type": "execute_result"
    }
   ],
   "source": [
    "number_tracks('Monday', 'Saint-Petersburg') # количество прослушиваний в Санкт-Петербурге по понедельникам"
   ]
  },
  {
   "cell_type": "code",
   "execution_count": 22,
   "metadata": {
    "deletable": false,
    "id": "_NTy2VPU_Zcu"
   },
   "outputs": [
    {
     "data": {
      "text/plain": [
       "11056"
      ]
     },
     "execution_count": 22,
     "metadata": {},
     "output_type": "execute_result"
    }
   ],
   "source": [
    "number_tracks('Wednesday', 'Moscow') # количество прослушиваний в Москве по средам"
   ]
  },
  {
   "cell_type": "code",
   "execution_count": 23,
   "metadata": {
    "deletable": false,
    "id": "j2y3TAwo_Zcu"
   },
   "outputs": [
    {
     "data": {
      "text/plain": [
       "7003"
      ]
     },
     "execution_count": 23,
     "metadata": {},
     "output_type": "execute_result"
    }
   ],
   "source": [
    "number_tracks('Wednesday', 'Saint-Petersburg') # количество прослушиваний в Санкт-Петербурге по средам"
   ]
  },
  {
   "cell_type": "code",
   "execution_count": 24,
   "metadata": {
    "deletable": false,
    "id": "vYDw5u_K_Zcu"
   },
   "outputs": [
    {
     "data": {
      "text/plain": [
       "15945"
      ]
     },
     "execution_count": 24,
     "metadata": {},
     "output_type": "execute_result"
    }
   ],
   "source": [
    "number_tracks('Friday', 'Moscow') # количество прослушиваний в Москве по пятницам"
   ]
  },
  {
   "cell_type": "code",
   "execution_count": 25,
   "metadata": {
    "deletable": false,
    "id": "8_yzFtW3_Zcu"
   },
   "outputs": [
    {
     "data": {
      "text/plain": [
       "5895"
      ]
     },
     "execution_count": 25,
     "metadata": {},
     "output_type": "execute_result"
    }
   ],
   "source": [
    "number_tracks('Friday', 'Saint-Petersburg') # количество прослушиваний в Санкт-Петербурге по пятницам"
   ]
  },
  {
   "cell_type": "markdown",
   "metadata": {
    "id": "7QXffbO-_Zcu",
    "tags": [
     "start_task"
    ]
   },
   "source": [
    "С помощью конструктора `pd.DataFrame` создадим таблицу, где\n",
    "* названия колонок — `['city', 'monday', 'wednesday', 'friday']`;\n",
    "* данные — результаты, которые вы получили с помощью `number_tracks`."
   ]
  },
  {
   "cell_type": "code",
   "execution_count": 26,
   "metadata": {
    "deletable": false,
    "id": "APAcLpOr_Zcu"
   },
   "outputs": [
    {
     "data": {
      "text/html": [
       "<div>\n",
       "<style scoped>\n",
       "    .dataframe tbody tr th:only-of-type {\n",
       "        vertical-align: middle;\n",
       "    }\n",
       "\n",
       "    .dataframe tbody tr th {\n",
       "        vertical-align: top;\n",
       "    }\n",
       "\n",
       "    .dataframe thead th {\n",
       "        text-align: right;\n",
       "    }\n",
       "</style>\n",
       "<table border=\"1\" class=\"dataframe\">\n",
       "  <thead>\n",
       "    <tr style=\"text-align: right;\">\n",
       "      <th></th>\n",
       "      <th>city</th>\n",
       "      <th>monday</th>\n",
       "      <th>wednesday</th>\n",
       "      <th>friday</th>\n",
       "    </tr>\n",
       "  </thead>\n",
       "  <tbody>\n",
       "    <tr>\n",
       "      <th>0</th>\n",
       "      <td>Moscow</td>\n",
       "      <td>15740</td>\n",
       "      <td>11056</td>\n",
       "      <td>15945</td>\n",
       "    </tr>\n",
       "    <tr>\n",
       "      <th>1</th>\n",
       "      <td>Saint-Petersburg</td>\n",
       "      <td>5614</td>\n",
       "      <td>7003</td>\n",
       "      <td>5895</td>\n",
       "    </tr>\n",
       "  </tbody>\n",
       "</table>\n",
       "</div>"
      ],
      "text/plain": [
       "               city monday wednesday friday\n",
       "0            Moscow  15740     11056  15945\n",
       "1  Saint-Petersburg   5614      7003   5895"
      ]
     },
     "metadata": {},
     "output_type": "display_data"
    }
   ],
   "source": [
    "# Таблица с результатами\n",
    "cities_info = pd.DataFrame(data=[['Moscow','15740','11056','15945'], ['Saint-Petersburg','5614','7003','5895']],\n",
    "                    columns = ['city', 'monday', 'wednesday', 'friday'])\n",
    "display(cities_info)"
   ]
  },
  {
   "cell_type": "markdown",
   "metadata": {
    "id": "-EgPIHYu_Zcu"
   },
   "source": [
    "**Выводы:**\n",
    "\n",
    "Данные показывают разницу поведения пользователей:\n",
    "\n",
    "- В Москве пик прослушиваний приходится на понедельник и пятницу, а в среду заметен спад.\n",
    "- В Петербурге, наоборот, больше слушают музыку по средам. Активность в понедельник и пятницу здесь почти в равной мере уступает среде.\n",
    "\n",
    "Значит, данные говорят в пользу первой гипотезы."
   ]
  },
  {
   "cell_type": "markdown",
   "metadata": {
    "deletable": false,
    "editable": false,
    "id": "atZAxtq4_Zcu"
   },
   "source": [
    "### Музыка в начале и в конце недели"
   ]
  },
  {
   "cell_type": "markdown",
   "metadata": {
    "deletable": false,
    "editable": false,
    "id": "eXrQqXFH_Zcu"
   },
   "source": [
    "Согласно второй гипотезе, утром в понедельник в Москве преобладают одни жанры, а в Петербурге — другие. Так же и вечером пятницы преобладают разные жанры — в зависимости от города."
   ]
  },
  {
   "cell_type": "markdown",
   "metadata": {
    "id": "S8UcW6Hw_Zcu",
    "tags": [
     "start_task"
    ]
   },
   "source": [
    "Сохраним таблицы с данными в две переменные:\n",
    "* по Москве — в `moscow_general`;\n",
    "* по Санкт-Петербургу — в `spb_general`."
   ]
  },
  {
   "cell_type": "code",
   "execution_count": 27,
   "metadata": {
    "deletable": false,
    "id": "qeaFfM_P_Zcu"
   },
   "outputs": [],
   "source": [
    "# получение таблицы moscow_general из тех строк таблицы df,\n",
    "# для которых значение в столбце 'city' равно 'Moscow'\n",
    "moscow_general = df[df['city']=='Moscow']"
   ]
  },
  {
   "cell_type": "code",
   "execution_count": 28,
   "metadata": {
    "deletable": false,
    "id": "ORaVRKto_Zcu"
   },
   "outputs": [],
   "source": [
    "# получение таблицы spb_general из тех строк таблицы df,\n",
    "# для которых значение в столбце 'city' равно 'Saint-Petersburg'\n",
    "spb_general = df[df['city']=='Saint-Petersburg']"
   ]
  },
  {
   "cell_type": "markdown",
   "metadata": {
    "id": "MEJV-CX2_Zcu",
    "tags": [
     "start_task"
    ]
   },
   "source": [
    "Создадим функцию `genre_weekday()` с четырьмя параметрами:\n",
    "* таблица (датафрейм) с данными,\n",
    "* день недели,\n",
    "* начальная временная метка в формате 'hh:mm',\n",
    "* последняя временная метка в формате 'hh:mm'.\n",
    "\n",
    "Функция должна вернуть информацию о топ-10 жанров тех треков, которые прослушивали в указанный день, в промежутке между двумя отметками времени."
   ]
  },
  {
   "cell_type": "code",
   "execution_count": 29,
   "metadata": {
    "deletable": false,
    "id": "laJT9BYl_Zcu"
   },
   "outputs": [],
   "source": [
    "# Объявление функции genre_weekday() с параметрами df, day, time1, time2,\n",
    "# которая возвращает информацию о самых популярных жанрах в указанный день в\n",
    "# заданное время:\n",
    "# 1) в переменную genre_df сохраняются те строки переданного датафрейма df, для\n",
    "#    которых одновременно:\n",
    "#    - значение в столбце day равно значению аргумента day\n",
    "#    - значение в столбце time больше значения аргумента time1\n",
    "#    - значение в столбце time меньше значения аргумента time2\n",
    "#    Используем последовательную фильтрацию с помощью логической индексации.\n",
    "# 2) сгруппировать датафрейм genre_df по столбцу genre, взять один из его\n",
    "#    столбцов и посчитать методом count() количество записей для каждого из\n",
    "#    присутствующих жанров, получившийся Series записать в переменную\n",
    "#    genre_df_grouped\n",
    "# 3) отсортировать genre_df_grouped по убыванию встречаемости и сохранить\n",
    "#    в переменную genre_df_sorted\n",
    "# 4) вернуть Series из 10 первых значений genre_df_sorted, это будут топ-10\n",
    "#    популярных жанров (в указанный день, в заданное время)\n",
    "\n",
    "def genre_weekday(df, day, time1, time2):\n",
    "    # последовательная фильтрация\n",
    "    # оставляем в genre_df только те строки df, у которых день равен day\n",
    "    genre_df = df[df['day']==day]# ваш код здесь\n",
    "    # оставляем в genre_df только те строки genre_df, у которых время меньше time2\n",
    "    genre_df =  genre_df[ genre_df['time']<time2]# ваш код здесь\n",
    "    # оставляем в genre_df только те строки genre_df, у которых время больше time1\n",
    "    genre_df =genre_df[ genre_df['time']>time1]# ваш код здесь\n",
    "    # сгруппируем отфильтрованный датафрейм по столбцу с названиями жанров, возьмём столбец genre и посчитаем кол-во строк для каждого жанра методом count()\n",
    "    genre_df_grouped = genre_df.groupby('genre')['genre'].count() # ваш код здесь\n",
    "    # отсортируем результат по убыванию (чтобы в начале Series оказались самые популярные жанры)\n",
    "    genre_df_sorted =  genre_df_grouped.sort_values(ascending=False)# ваш код здесь\n",
    "    # вернём Series с 10 самыми популярными жанрами в указанный отрезок времени заданного дня\n",
    "    return genre_df_sorted[:10]"
   ]
  },
  {
   "cell_type": "markdown",
   "metadata": {
    "id": "la2s2_PF_Zcu",
    "tags": [
     "start_task"
    ]
   },
   "source": [
    "Cравним результаты функции `genre_weekday()` для Москвы и Санкт-Петербурга в понедельник утром (с 7:00 до 11:00)\\\n",
    "и в пятницу вечером (с 17:00 до 23:00):"
   ]
  },
  {
   "cell_type": "code",
   "execution_count": 30,
   "metadata": {
    "deletable": false,
    "id": "yz7itPUQ_Zcu"
   },
   "outputs": [
    {
     "data": {
      "text/plain": [
       "genre\n",
       "pop            781\n",
       "dance          549\n",
       "electronic     480\n",
       "rock           474\n",
       "hiphop         286\n",
       "ruspop         186\n",
       "world          181\n",
       "rusrap         175\n",
       "alternative    164\n",
       "unknown        161\n",
       "Name: genre, dtype: int64"
      ]
     },
     "execution_count": 30,
     "metadata": {},
     "output_type": "execute_result"
    }
   ],
   "source": [
    "# вызов функции для утра понедельника в Москве (вместо df — таблица moscow_general)\n",
    "# объекты, хранящие время, являются строками и сравниваются как строки\n",
    "# пример вызова: genre_weekday(moscow_general, 'Monday', '07:00', '11:00')\n",
    "\n",
    "genre_weekday(moscow_general, 'Monday', '07:00', '11:00')"
   ]
  },
  {
   "cell_type": "code",
   "execution_count": 31,
   "metadata": {
    "deletable": false,
    "id": "kwUcHPdy_Zcu"
   },
   "outputs": [
    {
     "data": {
      "text/plain": [
       "genre\n",
       "pop            218\n",
       "dance          182\n",
       "rock           162\n",
       "electronic     147\n",
       "hiphop          80\n",
       "ruspop          64\n",
       "alternative     58\n",
       "rusrap          55\n",
       "jazz            44\n",
       "classical       40\n",
       "Name: genre, dtype: int64"
      ]
     },
     "execution_count": 31,
     "metadata": {},
     "output_type": "execute_result"
    }
   ],
   "source": [
    "# вызов функции для утра понедельника в Петербурге (вместо df — таблица spb_general)\n",
    "genre_weekday(spb_general, 'Monday', '07:00', '11:00')"
   ]
  },
  {
   "cell_type": "code",
   "execution_count": 32,
   "metadata": {
    "deletable": false,
    "id": "EzXVRE1o_Zcu"
   },
   "outputs": [
    {
     "data": {
      "text/plain": [
       "genre\n",
       "pop            713\n",
       "rock           517\n",
       "dance          495\n",
       "electronic     482\n",
       "hiphop         273\n",
       "world          208\n",
       "ruspop         170\n",
       "alternative    163\n",
       "classical      163\n",
       "rusrap         142\n",
       "Name: genre, dtype: int64"
      ]
     },
     "execution_count": 32,
     "metadata": {},
     "output_type": "execute_result"
    }
   ],
   "source": [
    "# вызов функции для вечера пятницы в Москве\n",
    "genre_weekday(moscow_general, 'Friday', '17:00', '23:00')"
   ]
  },
  {
   "cell_type": "code",
   "execution_count": 33,
   "metadata": {
    "deletable": false,
    "id": "JZaEKu5v_Zcu"
   },
   "outputs": [
    {
     "data": {
      "text/plain": [
       "genre\n",
       "pop            256\n",
       "electronic     216\n",
       "rock           216\n",
       "dance          210\n",
       "hiphop          97\n",
       "alternative     63\n",
       "jazz            61\n",
       "classical       60\n",
       "rusrap          59\n",
       "world           54\n",
       "Name: genre, dtype: int64"
      ]
     },
     "execution_count": 33,
     "metadata": {},
     "output_type": "execute_result"
    }
   ],
   "source": [
    "# вызов функции для вечера пятницы в Петербурге\n",
    "genre_weekday(spb_general, 'Friday', '17:00', '23:00')"
   ]
  },
  {
   "cell_type": "markdown",
   "metadata": {
    "deletable": false,
    "editable": false,
    "id": "wrCe4MNX_Zcu"
   },
   "source": [
    "**Выводы**\n",
    "\n",
    "Если сравнить топ-10 жанров в понедельник утром, можно сделать такие выводы:\n",
    "\n",
    "1. В Москве и Петербурге слушают похожую музыку. Единственное различие — в московский рейтинг вошёл жанр “world”, а в петербургский — джаз и классика.\n",
    "\n",
    "2. В Москве пропущенных значений оказалось так много, что значение `'unknown'` заняло десятое место среди самых популярных жанров. Значит, пропущенные значения занимают существенную долю в данных и угрожают достоверности исследования.\n",
    "\n",
    "Вечер пятницы не меняет эту картину. Некоторые жанры поднимаются немного выше, другие спускаются, но в целом топ-10 остаётся тем же самым.\n",
    "\n",
    "Таким образом, вторая гипотеза подтвердилась лишь частично:\n",
    "* Пользователи слушают похожую музыку в начале недели и в конце.\n",
    "* Разница между Москвой и Петербургом не слишком выражена. В Москве чаще слушают русскую популярную музыку, в Петербурге — джаз.\n",
    "\n",
    "Однако пропуски в данных ставят под сомнение этот результат. В Москве их так много, что рейтинг топ-10 мог бы выглядеть иначе, если бы не утерянные  данные о жанрах."
   ]
  },
  {
   "cell_type": "markdown",
   "metadata": {
    "deletable": false,
    "editable": false,
    "id": "JolODAqr_Zcu"
   },
   "source": [
    "### Жанровые предпочтения в Москве и Петербурге\n",
    "\n",
    "Гипотеза: Петербург — столица рэпа, музыку этого жанра там слушают чаще, чем в Москве.  А Москва — город контрастов, в котором, тем не менее, преобладает поп-музыка."
   ]
  },
  {
   "cell_type": "markdown",
   "metadata": {
    "id": "DlegSvaT_Zcu",
    "tags": [
     "start_task"
    ]
   },
   "source": [
    "Сгруппируем таблицу `moscow_general` по жанру и посчитаем прослушивания треков каждого жанра методом `count()`. Затем отсортируем результат в порядке убывания и сохраним его в таблице `moscow_genres`."
   ]
  },
  {
   "cell_type": "code",
   "execution_count": 34,
   "metadata": {
    "deletable": false,
    "id": "r19lIPke_Zcu"
   },
   "outputs": [],
   "source": [
    "# одной строкой: группировка таблицы moscow_general по столбцу 'genre',\n",
    "# подсчёт числа значений 'genre' в этой группировке методом count(),\n",
    "# сортировка получившегося Series в порядке убывания и сохранение в moscow_genres\n",
    "\n",
    "moscow_genres = moscow_general.groupby('genre')['genre'].count().sort_values(ascending=False)"
   ]
  },
  {
   "cell_type": "markdown",
   "metadata": {
    "id": "6kMuomxTiIr8",
    "tags": [
     "start_task"
    ]
   },
   "source": [
    "Выведем на экран первые десять строк `moscow_genres`:"
   ]
  },
  {
   "cell_type": "code",
   "execution_count": 35,
   "metadata": {
    "deletable": false,
    "id": "WhCSooF8_Zcv"
   },
   "outputs": [
    {
     "data": {
      "text/plain": [
       "genre\n",
       "pop            5892\n",
       "dance          4435\n",
       "rock           3965\n",
       "electronic     3786\n",
       "hiphop         2096\n",
       "classical      1616\n",
       "world          1432\n",
       "alternative    1379\n",
       "ruspop         1372\n",
       "rusrap         1161\n",
       "Name: genre, dtype: int64"
      ]
     },
     "execution_count": 35,
     "metadata": {},
     "output_type": "execute_result"
    }
   ],
   "source": [
    "moscow_genres.head(10) # просмотр первых 10 строк moscow_genres"
   ]
  },
  {
   "cell_type": "markdown",
   "metadata": {
    "id": "cnPG2vnN_Zcv",
    "tags": [
     "start_task"
    ]
   },
   "source": [
    "Теперь повторим то же и для Петербурга.\n",
    "\n",
    "Сгруппируем таблицу `spb_general` по жанру. Посчитаем прослушивания треков каждого жанра. Результат отсортируем в порядке убывания и сохраним в таблице `spb_genres`:"
   ]
  },
  {
   "cell_type": "code",
   "execution_count": 36,
   "metadata": {
    "deletable": false,
    "id": "gluLIpE7_Zcv"
   },
   "outputs": [],
   "source": [
    "# одной строкой: группировка таблицы spb_general по столбцу 'genre',\n",
    "# подсчёт числа значений 'genre' в этой группировке методом count(),\n",
    "# сортировка получившегося Series в порядке убывания и сохранение в spb_genres\n",
    "\n",
    "spb_genres = spb_general.groupby('genre')['genre'].count().sort_values(ascending=False)"
   ]
  },
  {
   "cell_type": "markdown",
   "metadata": {
    "id": "5Doha_ODgyQ8",
    "tags": [
     "start_task"
    ]
   },
   "source": [
    "Выведем на экран первые десять строк `spb_genres`:"
   ]
  },
  {
   "cell_type": "code",
   "execution_count": 37,
   "metadata": {
    "deletable": false,
    "id": "uaGJHjVU_Zcv"
   },
   "outputs": [
    {
     "data": {
      "text/plain": [
       "genre\n",
       "pop            2431\n",
       "dance          1932\n",
       "rock           1879\n",
       "electronic     1736\n",
       "hiphop          960\n",
       "alternative     649\n",
       "classical       646\n",
       "rusrap          564\n",
       "ruspop          538\n",
       "world           515\n",
       "Name: genre, dtype: int64"
      ]
     },
     "execution_count": 37,
     "metadata": {},
     "output_type": "execute_result"
    }
   ],
   "source": [
    "spb_genres.head(10) # просмотр первых 10 строк spb_genres"
   ]
  },
  {
   "cell_type": "markdown",
   "metadata": {
    "id": "nVhnJEm__Zcv"
   },
   "source": [
    "**Выводы:**  \n",
    "Гипотеза частично подтвердилась:\n",
    "* Поп-музыка — самый популярный жанр в Москве, как и предполагала гипотеза. Более того, в топ-10 жанров встречается близкий жанр — русская популярная музыка.\n",
    "* Вопреки ожиданиям, рэп одинаково популярен в Москве и Петербурге.\n"
   ]
  },
  {
   "cell_type": "markdown",
   "metadata": {
    "id": "tjUwbHb3_Zcv"
   },
   "source": [
    "## Итоги исследования\n",
    "\n",
    "Мы проверили три гипотезы и установили:\n",
    "\n",
    "1. День недели по-разному влияет на активность пользователей в Москве и Петербурге.\n",
    "\n",
    "Первая гипотеза полностью подтвердилась.\n",
    "\n",
    "2. Музыкальные предпочтения не сильно меняются в течение недели — будь то Москва или Петербург. Небольшие различия заметны в начале недели, по понедельникам:\n",
    "* в Москве слушают музыку жанра “world”,\n",
    "* в Петербурге — джаз и классику.\n",
    "\n",
    "Таким образом, вторая гипотеза подтвердилась лишь отчасти. Этот результат мог оказаться иным, если бы не пропуски в данных.\n",
    "\n",
    "3. Во вкусах пользователей Москвы и Петербурга больше общего, чем различий. Вопреки ожиданиям, предпочтения жанров в Петербурге напоминают московские.\n",
    "\n",
    "Третья гипотеза не подтвердилась. Если различия в предпочтениях и существуют, на основной массе пользователей они незаметны."
   ]
  }
 ],
 "metadata": {
  "ExecuteTimeLog": [
   {
    "duration": 387,
    "start_time": "2023-07-16T05:51:51.303Z"
   },
   {
    "duration": 108,
    "start_time": "2023-07-16T05:51:55.261Z"
   },
   {
    "duration": 852,
    "start_time": "2023-07-16T05:52:45.804Z"
   },
   {
    "duration": 16,
    "start_time": "2023-07-16T05:52:58.614Z"
   },
   {
    "duration": 38,
    "start_time": "2023-07-16T05:53:53.441Z"
   },
   {
    "duration": 4,
    "start_time": "2023-07-16T06:02:34.166Z"
   },
   {
    "duration": 5,
    "start_time": "2023-07-16T06:03:20.268Z"
   },
   {
    "duration": 22,
    "start_time": "2023-07-16T06:06:01.402Z"
   },
   {
    "duration": 4,
    "start_time": "2023-07-16T06:06:22.480Z"
   },
   {
    "duration": 4,
    "start_time": "2023-07-16T06:06:56.776Z"
   },
   {
    "duration": 25,
    "start_time": "2023-07-16T06:07:00.884Z"
   },
   {
    "duration": 394,
    "start_time": "2023-07-16T06:08:21.721Z"
   },
   {
    "duration": 178,
    "start_time": "2023-07-16T06:08:22.118Z"
   },
   {
    "duration": 18,
    "start_time": "2023-07-16T06:08:22.297Z"
   },
   {
    "duration": 37,
    "start_time": "2023-07-16T06:08:22.318Z"
   },
   {
    "duration": 2,
    "start_time": "2023-07-16T06:08:22.357Z"
   },
   {
    "duration": 15,
    "start_time": "2023-07-16T06:08:22.369Z"
   },
   {
    "duration": 22,
    "start_time": "2023-07-16T06:08:22.386Z"
   },
   {
    "duration": 23,
    "start_time": "2023-07-16T06:08:22.410Z"
   },
   {
    "duration": 10,
    "start_time": "2023-07-16T06:08:22.435Z"
   },
   {
    "duration": 2,
    "start_time": "2023-07-16T06:08:22.448Z"
   },
   {
    "duration": 8,
    "start_time": "2023-07-16T06:08:22.452Z"
   },
   {
    "duration": 9,
    "start_time": "2023-07-16T06:08:22.462Z"
   },
   {
    "duration": 12,
    "start_time": "2023-07-16T06:08:22.473Z"
   },
   {
    "duration": 7,
    "start_time": "2023-07-16T06:08:22.487Z"
   },
   {
    "duration": 11,
    "start_time": "2023-07-16T06:08:22.496Z"
   },
   {
    "duration": 8,
    "start_time": "2023-07-16T06:08:22.509Z"
   },
   {
    "duration": 19,
    "start_time": "2023-07-16T06:08:22.519Z"
   },
   {
    "duration": 12,
    "start_time": "2023-07-16T06:08:22.540Z"
   },
   {
    "duration": 5,
    "start_time": "2023-07-16T06:08:22.554Z"
   },
   {
    "duration": 9,
    "start_time": "2023-07-16T06:08:22.561Z"
   },
   {
    "duration": 13,
    "start_time": "2023-07-16T06:08:22.572Z"
   },
   {
    "duration": 6,
    "start_time": "2023-07-16T06:08:22.587Z"
   },
   {
    "duration": 4,
    "start_time": "2023-07-16T06:08:22.595Z"
   },
   {
    "duration": 13,
    "start_time": "2023-07-16T06:08:22.601Z"
   },
   {
    "duration": 7,
    "start_time": "2023-07-16T06:08:22.616Z"
   },
   {
    "duration": 16,
    "start_time": "2023-07-16T06:08:22.625Z"
   },
   {
    "duration": 12,
    "start_time": "2023-07-16T06:08:22.643Z"
   },
   {
    "duration": 3,
    "start_time": "2023-07-16T06:08:22.660Z"
   },
   {
    "duration": 17,
    "start_time": "2023-07-16T06:08:22.664Z"
   },
   {
    "duration": 65,
    "start_time": "2023-07-16T06:08:22.684Z"
   },
   {
    "duration": 0,
    "start_time": "2023-07-16T06:08:22.751Z"
   },
   {
    "duration": 0,
    "start_time": "2023-07-16T06:08:22.753Z"
   },
   {
    "duration": 0,
    "start_time": "2023-07-16T06:08:22.754Z"
   },
   {
    "duration": 0,
    "start_time": "2023-07-16T06:08:22.755Z"
   },
   {
    "duration": 0,
    "start_time": "2023-07-16T06:08:22.757Z"
   },
   {
    "duration": 0,
    "start_time": "2023-07-16T06:08:22.759Z"
   },
   {
    "duration": 0,
    "start_time": "2023-07-16T06:08:22.760Z"
   },
   {
    "duration": 0,
    "start_time": "2023-07-16T06:08:22.761Z"
   },
   {
    "duration": 5,
    "start_time": "2023-07-16T06:09:08.025Z"
   },
   {
    "duration": 5,
    "start_time": "2023-07-16T06:09:24.163Z"
   },
   {
    "duration": 20,
    "start_time": "2023-07-16T06:09:27.382Z"
   },
   {
    "duration": 4,
    "start_time": "2023-07-16T06:09:30.306Z"
   },
   {
    "duration": 23,
    "start_time": "2023-07-16T06:10:35.646Z"
   },
   {
    "duration": 4,
    "start_time": "2023-07-16T06:10:38.841Z"
   },
   {
    "duration": 3,
    "start_time": "2023-07-16T06:11:08.226Z"
   },
   {
    "duration": 2,
    "start_time": "2023-07-16T06:11:13.548Z"
   },
   {
    "duration": 8,
    "start_time": "2023-07-16T06:11:25.061Z"
   },
   {
    "duration": 5,
    "start_time": "2023-07-16T06:12:17.933Z"
   },
   {
    "duration": 22,
    "start_time": "2023-07-16T06:20:10.376Z"
   },
   {
    "duration": 4,
    "start_time": "2023-07-16T06:20:13.421Z"
   },
   {
    "duration": 4,
    "start_time": "2023-07-16T06:21:47.796Z"
   },
   {
    "duration": 4,
    "start_time": "2023-07-16T06:21:52.726Z"
   },
   {
    "duration": 46,
    "start_time": "2023-07-16T06:23:21.976Z"
   },
   {
    "duration": 6,
    "start_time": "2023-07-16T06:23:43.676Z"
   },
   {
    "duration": 423,
    "start_time": "2023-07-16T06:23:49.585Z"
   },
   {
    "duration": 189,
    "start_time": "2023-07-16T06:23:52.034Z"
   },
   {
    "duration": 18,
    "start_time": "2023-07-16T06:23:58.267Z"
   },
   {
    "duration": 29,
    "start_time": "2023-07-16T06:24:02.032Z"
   },
   {
    "duration": 2,
    "start_time": "2023-07-16T06:24:03.868Z"
   },
   {
    "duration": 5,
    "start_time": "2023-07-16T06:24:06.308Z"
   },
   {
    "duration": 23,
    "start_time": "2023-07-16T06:24:09.171Z"
   },
   {
    "duration": 4,
    "start_time": "2023-07-16T06:24:11.847Z"
   },
   {
    "duration": 3,
    "start_time": "2023-07-16T06:25:22.640Z"
   },
   {
    "duration": 4,
    "start_time": "2023-07-16T06:25:34.629Z"
   },
   {
    "duration": 4,
    "start_time": "2023-07-16T06:25:40.421Z"
   },
   {
    "duration": 8,
    "start_time": "2023-07-16T06:26:02.081Z"
   },
   {
    "duration": 38,
    "start_time": "2023-07-16T06:26:06.017Z"
   },
   {
    "duration": 12,
    "start_time": "2023-07-16T06:26:50.632Z"
   },
   {
    "duration": 14,
    "start_time": "2023-07-16T06:26:52.780Z"
   },
   {
    "duration": 12,
    "start_time": "2023-07-16T06:26:57.000Z"
   },
   {
    "duration": 22,
    "start_time": "2023-07-16T06:27:01.207Z"
   },
   {
    "duration": 28,
    "start_time": "2023-07-16T06:27:07.122Z"
   },
   {
    "duration": 4,
    "start_time": "2023-07-16T06:27:14.519Z"
   },
   {
    "duration": 4,
    "start_time": "2023-07-16T06:27:24.628Z"
   },
   {
    "duration": 419,
    "start_time": "2023-07-16T06:27:32.504Z"
   },
   {
    "duration": 196,
    "start_time": "2023-07-16T06:27:32.925Z"
   },
   {
    "duration": 20,
    "start_time": "2023-07-16T06:27:33.123Z"
   },
   {
    "duration": 46,
    "start_time": "2023-07-16T06:27:33.145Z"
   },
   {
    "duration": 13,
    "start_time": "2023-07-16T06:27:33.193Z"
   },
   {
    "duration": 12,
    "start_time": "2023-07-16T06:27:33.209Z"
   },
   {
    "duration": 40,
    "start_time": "2023-07-16T06:27:33.223Z"
   },
   {
    "duration": 20,
    "start_time": "2023-07-16T06:27:33.266Z"
   },
   {
    "duration": 6,
    "start_time": "2023-07-16T06:27:33.289Z"
   },
   {
    "duration": 6,
    "start_time": "2023-07-16T06:27:33.298Z"
   },
   {
    "duration": 17,
    "start_time": "2023-07-16T06:27:33.307Z"
   },
   {
    "duration": 46,
    "start_time": "2023-07-16T06:27:33.326Z"
   },
   {
    "duration": 7,
    "start_time": "2023-07-16T06:27:33.374Z"
   },
   {
    "duration": 29,
    "start_time": "2023-07-16T06:27:33.383Z"
   },
   {
    "duration": 34,
    "start_time": "2023-07-16T06:27:33.414Z"
   },
   {
    "duration": 16,
    "start_time": "2023-07-16T06:27:33.450Z"
   },
   {
    "duration": 15,
    "start_time": "2023-07-16T06:27:33.468Z"
   },
   {
    "duration": 19,
    "start_time": "2023-07-16T06:27:33.484Z"
   },
   {
    "duration": 20,
    "start_time": "2023-07-16T06:27:33.505Z"
   },
   {
    "duration": 10,
    "start_time": "2023-07-16T06:27:33.527Z"
   },
   {
    "duration": 23,
    "start_time": "2023-07-16T06:27:33.539Z"
   },
   {
    "duration": 20,
    "start_time": "2023-07-16T06:27:33.564Z"
   },
   {
    "duration": 18,
    "start_time": "2023-07-16T06:27:33.586Z"
   },
   {
    "duration": 7,
    "start_time": "2023-07-16T06:27:33.606Z"
   },
   {
    "duration": 24,
    "start_time": "2023-07-16T06:27:33.614Z"
   },
   {
    "duration": 13,
    "start_time": "2023-07-16T06:27:33.640Z"
   },
   {
    "duration": 7,
    "start_time": "2023-07-16T06:27:33.655Z"
   },
   {
    "duration": 15,
    "start_time": "2023-07-16T06:27:33.665Z"
   },
   {
    "duration": 9,
    "start_time": "2023-07-16T06:27:33.682Z"
   },
   {
    "duration": 72,
    "start_time": "2023-07-16T06:27:33.693Z"
   },
   {
    "duration": 0,
    "start_time": "2023-07-16T06:27:33.767Z"
   },
   {
    "duration": 0,
    "start_time": "2023-07-16T06:27:33.768Z"
   },
   {
    "duration": 0,
    "start_time": "2023-07-16T06:27:33.770Z"
   },
   {
    "duration": 0,
    "start_time": "2023-07-16T06:27:33.771Z"
   },
   {
    "duration": 0,
    "start_time": "2023-07-16T06:27:33.772Z"
   },
   {
    "duration": 0,
    "start_time": "2023-07-16T06:27:33.774Z"
   },
   {
    "duration": 0,
    "start_time": "2023-07-16T06:27:33.775Z"
   },
   {
    "duration": 0,
    "start_time": "2023-07-16T06:27:33.777Z"
   },
   {
    "duration": 21,
    "start_time": "2023-07-16T06:27:46.024Z"
   },
   {
    "duration": 4,
    "start_time": "2023-07-16T06:27:49.275Z"
   },
   {
    "duration": 2,
    "start_time": "2023-07-16T06:27:55.459Z"
   },
   {
    "duration": 3,
    "start_time": "2023-07-16T06:27:57.048Z"
   },
   {
    "duration": 2,
    "start_time": "2023-07-16T06:27:57.931Z"
   },
   {
    "duration": 242,
    "start_time": "2023-07-16T06:28:00.977Z"
   },
   {
    "duration": 409,
    "start_time": "2023-07-16T06:28:08.715Z"
   },
   {
    "duration": 183,
    "start_time": "2023-07-16T06:28:09.126Z"
   },
   {
    "duration": 19,
    "start_time": "2023-07-16T06:28:09.311Z"
   },
   {
    "duration": 58,
    "start_time": "2023-07-16T06:28:09.334Z"
   },
   {
    "duration": 8,
    "start_time": "2023-07-16T06:28:09.393Z"
   },
   {
    "duration": 17,
    "start_time": "2023-07-16T06:28:09.402Z"
   },
   {
    "duration": 31,
    "start_time": "2023-07-16T06:28:09.421Z"
   },
   {
    "duration": 19,
    "start_time": "2023-07-16T06:28:09.454Z"
   },
   {
    "duration": 14,
    "start_time": "2023-07-16T06:28:09.476Z"
   },
   {
    "duration": 11,
    "start_time": "2023-07-16T06:28:09.494Z"
   },
   {
    "duration": 7,
    "start_time": "2023-07-16T06:28:09.507Z"
   },
   {
    "duration": 17,
    "start_time": "2023-07-16T06:28:09.516Z"
   },
   {
    "duration": 9,
    "start_time": "2023-07-16T06:28:09.535Z"
   },
   {
    "duration": 6,
    "start_time": "2023-07-16T06:28:09.545Z"
   },
   {
    "duration": 6,
    "start_time": "2023-07-16T06:28:09.552Z"
   },
   {
    "duration": 10,
    "start_time": "2023-07-16T06:28:09.559Z"
   },
   {
    "duration": 5,
    "start_time": "2023-07-16T06:28:09.571Z"
   },
   {
    "duration": 8,
    "start_time": "2023-07-16T06:28:09.577Z"
   },
   {
    "duration": 19,
    "start_time": "2023-07-16T06:28:09.587Z"
   },
   {
    "duration": 4,
    "start_time": "2023-07-16T06:28:09.608Z"
   },
   {
    "duration": 10,
    "start_time": "2023-07-16T06:28:09.614Z"
   },
   {
    "duration": 10,
    "start_time": "2023-07-16T06:28:09.626Z"
   },
   {
    "duration": 12,
    "start_time": "2023-07-16T06:28:09.638Z"
   },
   {
    "duration": 7,
    "start_time": "2023-07-16T06:28:09.652Z"
   },
   {
    "duration": 12,
    "start_time": "2023-07-16T06:28:09.660Z"
   },
   {
    "duration": 9,
    "start_time": "2023-07-16T06:28:09.674Z"
   },
   {
    "duration": 6,
    "start_time": "2023-07-16T06:28:09.685Z"
   },
   {
    "duration": 4,
    "start_time": "2023-07-16T06:28:09.694Z"
   },
   {
    "duration": 4,
    "start_time": "2023-07-16T06:28:09.700Z"
   },
   {
    "duration": 65,
    "start_time": "2023-07-16T06:28:09.706Z"
   },
   {
    "duration": 1,
    "start_time": "2023-07-16T06:28:09.772Z"
   },
   {
    "duration": 0,
    "start_time": "2023-07-16T06:28:09.774Z"
   },
   {
    "duration": 0,
    "start_time": "2023-07-16T06:28:09.775Z"
   },
   {
    "duration": 0,
    "start_time": "2023-07-16T06:28:09.777Z"
   },
   {
    "duration": 0,
    "start_time": "2023-07-16T06:28:09.778Z"
   },
   {
    "duration": 0,
    "start_time": "2023-07-16T06:28:09.780Z"
   },
   {
    "duration": 0,
    "start_time": "2023-07-16T06:28:09.781Z"
   },
   {
    "duration": 0,
    "start_time": "2023-07-16T06:28:09.782Z"
   },
   {
    "duration": 3,
    "start_time": "2023-07-16T06:28:15.736Z"
   },
   {
    "duration": 174,
    "start_time": "2023-07-16T06:28:17.518Z"
   },
   {
    "duration": 399,
    "start_time": "2023-07-16T06:28:36.674Z"
   },
   {
    "duration": 164,
    "start_time": "2023-07-16T06:28:38.766Z"
   },
   {
    "duration": 19,
    "start_time": "2023-07-16T06:28:40.432Z"
   },
   {
    "duration": 30,
    "start_time": "2023-07-16T06:28:43.203Z"
   },
   {
    "duration": 3,
    "start_time": "2023-07-16T06:28:46.030Z"
   },
   {
    "duration": 4,
    "start_time": "2023-07-16T06:28:48.347Z"
   },
   {
    "duration": 25,
    "start_time": "2023-07-16T06:28:50.326Z"
   },
   {
    "duration": 5,
    "start_time": "2023-07-16T06:28:52.488Z"
   },
   {
    "duration": 11,
    "start_time": "2023-07-16T06:29:23.321Z"
   },
   {
    "duration": 5,
    "start_time": "2023-07-16T06:29:26.465Z"
   },
   {
    "duration": 15,
    "start_time": "2023-07-16T06:29:31.661Z"
   },
   {
    "duration": 12,
    "start_time": "2023-07-16T06:29:38.651Z"
   },
   {
    "duration": 23,
    "start_time": "2023-07-16T06:29:43.589Z"
   },
   {
    "duration": 3,
    "start_time": "2023-07-16T06:29:47.734Z"
   },
   {
    "duration": 6,
    "start_time": "2023-07-16T06:29:55.198Z"
   },
   {
    "duration": 5,
    "start_time": "2023-07-16T06:29:58.816Z"
   },
   {
    "duration": 25,
    "start_time": "2023-07-16T06:33:51.306Z"
   },
   {
    "duration": 27,
    "start_time": "2023-07-16T06:34:12.387Z"
   },
   {
    "duration": 25,
    "start_time": "2023-07-16T06:34:21.325Z"
   },
   {
    "duration": 4,
    "start_time": "2023-07-16T06:40:10.596Z"
   },
   {
    "duration": 8,
    "start_time": "2023-07-16T06:40:35.872Z"
   },
   {
    "duration": 9,
    "start_time": "2023-07-16T06:44:58.757Z"
   },
   {
    "duration": 27,
    "start_time": "2023-07-16T06:45:21.018Z"
   },
   {
    "duration": 22,
    "start_time": "2023-07-16T06:45:24.063Z"
   },
   {
    "duration": 26,
    "start_time": "2023-07-16T06:45:33.864Z"
   },
   {
    "duration": 26,
    "start_time": "2023-07-16T06:46:19.119Z"
   },
   {
    "duration": 21,
    "start_time": "2023-07-16T06:47:52.861Z"
   },
   {
    "duration": 67,
    "start_time": "2023-07-16T06:48:20.037Z"
   },
   {
    "duration": 19,
    "start_time": "2023-07-16T06:49:44.773Z"
   },
   {
    "duration": 23,
    "start_time": "2023-07-16T06:49:58.393Z"
   },
   {
    "duration": 7,
    "start_time": "2023-07-16T06:51:28.345Z"
   },
   {
    "duration": 22,
    "start_time": "2023-07-16T06:53:01.338Z"
   },
   {
    "duration": 21,
    "start_time": "2023-07-16T06:53:21.145Z"
   },
   {
    "duration": 16,
    "start_time": "2023-07-16T06:53:50.983Z"
   },
   {
    "duration": 25,
    "start_time": "2023-07-16T06:53:54.382Z"
   },
   {
    "duration": 22,
    "start_time": "2023-07-16T06:54:41.848Z"
   },
   {
    "duration": 18,
    "start_time": "2023-07-16T06:54:48.097Z"
   },
   {
    "duration": 72,
    "start_time": "2023-07-16T06:56:03.740Z"
   },
   {
    "duration": 64,
    "start_time": "2023-07-16T06:56:52.085Z"
   },
   {
    "duration": 65,
    "start_time": "2023-07-16T06:57:19.342Z"
   },
   {
    "duration": 68,
    "start_time": "2023-07-16T06:57:30.975Z"
   },
   {
    "duration": 73,
    "start_time": "2023-07-16T06:57:37.165Z"
   },
   {
    "duration": 79,
    "start_time": "2023-07-16T06:58:41.268Z"
   },
   {
    "duration": 67,
    "start_time": "2023-07-16T06:58:56.513Z"
   },
   {
    "duration": 81,
    "start_time": "2023-07-16T06:59:15.244Z"
   },
   {
    "duration": 104,
    "start_time": "2023-07-16T06:59:57.833Z"
   },
   {
    "duration": 402,
    "start_time": "2023-07-16T07:00:26.238Z"
   },
   {
    "duration": 173,
    "start_time": "2023-07-16T07:00:26.642Z"
   },
   {
    "duration": 18,
    "start_time": "2023-07-16T07:00:26.816Z"
   },
   {
    "duration": 44,
    "start_time": "2023-07-16T07:00:26.836Z"
   },
   {
    "duration": 3,
    "start_time": "2023-07-16T07:00:26.881Z"
   },
   {
    "duration": 8,
    "start_time": "2023-07-16T07:00:26.885Z"
   },
   {
    "duration": 12,
    "start_time": "2023-07-16T07:00:26.895Z"
   },
   {
    "duration": 11,
    "start_time": "2023-07-16T07:00:26.909Z"
   },
   {
    "duration": 26,
    "start_time": "2023-07-16T07:00:26.921Z"
   },
   {
    "duration": 42,
    "start_time": "2023-07-16T07:00:26.950Z"
   },
   {
    "duration": 24,
    "start_time": "2023-07-16T07:00:26.993Z"
   },
   {
    "duration": 80,
    "start_time": "2023-07-16T07:00:27.018Z"
   },
   {
    "duration": 89,
    "start_time": "2023-07-16T07:00:27.099Z"
   },
   {
    "duration": 64,
    "start_time": "2023-07-16T07:00:27.190Z"
   },
   {
    "duration": 11,
    "start_time": "2023-07-16T07:00:27.268Z"
   },
   {
    "duration": 4,
    "start_time": "2023-07-16T07:00:27.281Z"
   },
   {
    "duration": 5,
    "start_time": "2023-07-16T07:00:27.287Z"
   },
   {
    "duration": 3,
    "start_time": "2023-07-16T07:00:27.294Z"
   },
   {
    "duration": 4,
    "start_time": "2023-07-16T07:00:27.299Z"
   },
   {
    "duration": 6,
    "start_time": "2023-07-16T07:00:27.305Z"
   },
   {
    "duration": 7,
    "start_time": "2023-07-16T07:00:27.312Z"
   },
   {
    "duration": 10,
    "start_time": "2023-07-16T07:00:27.320Z"
   },
   {
    "duration": 4,
    "start_time": "2023-07-16T07:00:27.332Z"
   },
   {
    "duration": 4,
    "start_time": "2023-07-16T07:00:27.337Z"
   },
   {
    "duration": 7,
    "start_time": "2023-07-16T07:00:27.343Z"
   },
   {
    "duration": 8,
    "start_time": "2023-07-16T07:00:27.351Z"
   },
   {
    "duration": 5,
    "start_time": "2023-07-16T07:00:27.378Z"
   },
   {
    "duration": 22,
    "start_time": "2023-07-16T07:00:27.386Z"
   },
   {
    "duration": 20,
    "start_time": "2023-07-16T07:00:27.409Z"
   },
   {
    "duration": 71,
    "start_time": "2023-07-16T07:00:27.431Z"
   },
   {
    "duration": 0,
    "start_time": "2023-07-16T07:00:27.503Z"
   },
   {
    "duration": 0,
    "start_time": "2023-07-16T07:00:27.505Z"
   },
   {
    "duration": 0,
    "start_time": "2023-07-16T07:00:27.506Z"
   },
   {
    "duration": 0,
    "start_time": "2023-07-16T07:00:27.507Z"
   },
   {
    "duration": 0,
    "start_time": "2023-07-16T07:00:27.508Z"
   },
   {
    "duration": 0,
    "start_time": "2023-07-16T07:00:27.509Z"
   },
   {
    "duration": 0,
    "start_time": "2023-07-16T07:00:27.510Z"
   },
   {
    "duration": 0,
    "start_time": "2023-07-16T07:00:27.511Z"
   },
   {
    "duration": 79,
    "start_time": "2023-07-16T07:00:45.087Z"
   },
   {
    "duration": 76,
    "start_time": "2023-07-16T07:01:09.755Z"
   },
   {
    "duration": 83,
    "start_time": "2023-07-16T07:01:16.902Z"
   },
   {
    "duration": 91,
    "start_time": "2023-07-16T07:01:39.340Z"
   },
   {
    "duration": 95,
    "start_time": "2023-07-16T07:02:08.479Z"
   },
   {
    "duration": 64,
    "start_time": "2023-07-16T07:02:22.680Z"
   },
   {
    "duration": 77,
    "start_time": "2023-07-16T07:02:24.856Z"
   },
   {
    "duration": 71,
    "start_time": "2023-07-16T07:02:34.583Z"
   },
   {
    "duration": 78,
    "start_time": "2023-07-16T07:02:49.622Z"
   },
   {
    "duration": 407,
    "start_time": "2023-07-16T07:05:28.320Z"
   },
   {
    "duration": 174,
    "start_time": "2023-07-16T07:05:28.729Z"
   },
   {
    "duration": 18,
    "start_time": "2023-07-16T07:05:28.905Z"
   },
   {
    "duration": 45,
    "start_time": "2023-07-16T07:05:28.925Z"
   },
   {
    "duration": 3,
    "start_time": "2023-07-16T07:05:28.972Z"
   },
   {
    "duration": 23,
    "start_time": "2023-07-16T07:05:28.977Z"
   },
   {
    "duration": 26,
    "start_time": "2023-07-16T07:05:29.002Z"
   },
   {
    "duration": 7,
    "start_time": "2023-07-16T07:05:29.029Z"
   },
   {
    "duration": 36,
    "start_time": "2023-07-16T07:05:29.037Z"
   },
   {
    "duration": 22,
    "start_time": "2023-07-16T07:05:29.076Z"
   },
   {
    "duration": 28,
    "start_time": "2023-07-16T07:05:29.100Z"
   },
   {
    "duration": 82,
    "start_time": "2023-07-16T07:05:29.129Z"
   },
   {
    "duration": 102,
    "start_time": "2023-07-16T07:05:29.212Z"
   },
   {
    "duration": 73,
    "start_time": "2023-07-16T07:05:29.316Z"
   },
   {
    "duration": 3,
    "start_time": "2023-07-16T07:05:29.390Z"
   },
   {
    "duration": 16,
    "start_time": "2023-07-16T07:05:29.395Z"
   },
   {
    "duration": 13,
    "start_time": "2023-07-16T07:05:29.412Z"
   },
   {
    "duration": 8,
    "start_time": "2023-07-16T07:05:29.427Z"
   },
   {
    "duration": 19,
    "start_time": "2023-07-16T07:05:29.437Z"
   },
   {
    "duration": 22,
    "start_time": "2023-07-16T07:05:29.458Z"
   },
   {
    "duration": 30,
    "start_time": "2023-07-16T07:05:29.481Z"
   },
   {
    "duration": 15,
    "start_time": "2023-07-16T07:05:29.513Z"
   },
   {
    "duration": 9,
    "start_time": "2023-07-16T07:05:29.529Z"
   },
   {
    "duration": 24,
    "start_time": "2023-07-16T07:05:29.540Z"
   },
   {
    "duration": 14,
    "start_time": "2023-07-16T07:05:29.566Z"
   },
   {
    "duration": 42,
    "start_time": "2023-07-16T07:05:29.582Z"
   },
   {
    "duration": 8,
    "start_time": "2023-07-16T07:05:29.626Z"
   },
   {
    "duration": 4,
    "start_time": "2023-07-16T07:05:29.637Z"
   },
   {
    "duration": 6,
    "start_time": "2023-07-16T07:05:29.643Z"
   },
   {
    "duration": 62,
    "start_time": "2023-07-16T07:05:29.651Z"
   },
   {
    "duration": 0,
    "start_time": "2023-07-16T07:05:29.715Z"
   },
   {
    "duration": 0,
    "start_time": "2023-07-16T07:05:29.716Z"
   },
   {
    "duration": 0,
    "start_time": "2023-07-16T07:05:29.717Z"
   },
   {
    "duration": 0,
    "start_time": "2023-07-16T07:05:29.718Z"
   },
   {
    "duration": 0,
    "start_time": "2023-07-16T07:05:29.719Z"
   },
   {
    "duration": 0,
    "start_time": "2023-07-16T07:05:29.720Z"
   },
   {
    "duration": 0,
    "start_time": "2023-07-16T07:05:29.721Z"
   },
   {
    "duration": 0,
    "start_time": "2023-07-16T07:05:29.723Z"
   },
   {
    "duration": 81,
    "start_time": "2023-07-16T07:05:58.852Z"
   },
   {
    "duration": 74,
    "start_time": "2023-07-16T07:06:21.563Z"
   },
   {
    "duration": 87,
    "start_time": "2023-07-16T07:06:34.346Z"
   },
   {
    "duration": 61,
    "start_time": "2023-07-16T07:06:38.384Z"
   },
   {
    "duration": 75,
    "start_time": "2023-07-16T07:06:43.432Z"
   },
   {
    "duration": 63,
    "start_time": "2023-07-16T07:06:47.819Z"
   },
   {
    "duration": 72,
    "start_time": "2023-07-16T07:08:15.346Z"
   },
   {
    "duration": 61,
    "start_time": "2023-07-16T07:08:51.301Z"
   },
   {
    "duration": 73,
    "start_time": "2023-07-16T07:08:53.419Z"
   },
   {
    "duration": 416,
    "start_time": "2023-07-16T07:09:06.659Z"
   },
   {
    "duration": 175,
    "start_time": "2023-07-16T07:09:07.077Z"
   },
   {
    "duration": 18,
    "start_time": "2023-07-16T07:09:07.256Z"
   },
   {
    "duration": 34,
    "start_time": "2023-07-16T07:09:07.276Z"
   },
   {
    "duration": 15,
    "start_time": "2023-07-16T07:09:07.311Z"
   },
   {
    "duration": 16,
    "start_time": "2023-07-16T07:09:07.328Z"
   },
   {
    "duration": 20,
    "start_time": "2023-07-16T07:09:07.346Z"
   },
   {
    "duration": 17,
    "start_time": "2023-07-16T07:09:07.368Z"
   },
   {
    "duration": 37,
    "start_time": "2023-07-16T07:09:07.388Z"
   },
   {
    "duration": 39,
    "start_time": "2023-07-16T07:09:07.426Z"
   },
   {
    "duration": 23,
    "start_time": "2023-07-16T07:09:07.467Z"
   },
   {
    "duration": 95,
    "start_time": "2023-07-16T07:09:07.491Z"
   },
   {
    "duration": 81,
    "start_time": "2023-07-16T07:09:07.588Z"
   },
   {
    "duration": 65,
    "start_time": "2023-07-16T07:09:07.671Z"
   },
   {
    "duration": 2,
    "start_time": "2023-07-16T07:09:07.738Z"
   },
   {
    "duration": 20,
    "start_time": "2023-07-16T07:09:07.741Z"
   },
   {
    "duration": 9,
    "start_time": "2023-07-16T07:09:07.763Z"
   },
   {
    "duration": 16,
    "start_time": "2023-07-16T07:09:07.774Z"
   },
   {
    "duration": 7,
    "start_time": "2023-07-16T07:09:07.792Z"
   },
   {
    "duration": 15,
    "start_time": "2023-07-16T07:09:07.801Z"
   },
   {
    "duration": 10,
    "start_time": "2023-07-16T07:09:07.818Z"
   },
   {
    "duration": 15,
    "start_time": "2023-07-16T07:09:07.830Z"
   },
   {
    "duration": 13,
    "start_time": "2023-07-16T07:09:07.847Z"
   },
   {
    "duration": 10,
    "start_time": "2023-07-16T07:09:07.862Z"
   },
   {
    "duration": 31,
    "start_time": "2023-07-16T07:09:07.873Z"
   },
   {
    "duration": 13,
    "start_time": "2023-07-16T07:09:07.906Z"
   },
   {
    "duration": 4,
    "start_time": "2023-07-16T07:09:07.924Z"
   },
   {
    "duration": 14,
    "start_time": "2023-07-16T07:09:07.930Z"
   },
   {
    "duration": 4,
    "start_time": "2023-07-16T07:09:07.947Z"
   },
   {
    "duration": 61,
    "start_time": "2023-07-16T07:09:07.953Z"
   },
   {
    "duration": 0,
    "start_time": "2023-07-16T07:09:08.016Z"
   },
   {
    "duration": 0,
    "start_time": "2023-07-16T07:09:08.017Z"
   },
   {
    "duration": 0,
    "start_time": "2023-07-16T07:09:08.019Z"
   },
   {
    "duration": 0,
    "start_time": "2023-07-16T07:09:08.020Z"
   },
   {
    "duration": 0,
    "start_time": "2023-07-16T07:09:08.022Z"
   },
   {
    "duration": 0,
    "start_time": "2023-07-16T07:09:08.023Z"
   },
   {
    "duration": 0,
    "start_time": "2023-07-16T07:09:08.025Z"
   },
   {
    "duration": 0,
    "start_time": "2023-07-16T07:09:08.026Z"
   },
   {
    "duration": 98,
    "start_time": "2023-07-16T07:09:26.055Z"
   },
   {
    "duration": 435,
    "start_time": "2023-07-16T07:09:38.445Z"
   },
   {
    "duration": 170,
    "start_time": "2023-07-16T07:09:38.882Z"
   },
   {
    "duration": 20,
    "start_time": "2023-07-16T07:09:39.054Z"
   },
   {
    "duration": 36,
    "start_time": "2023-07-16T07:09:39.076Z"
   },
   {
    "duration": 3,
    "start_time": "2023-07-16T07:09:39.114Z"
   },
   {
    "duration": 11,
    "start_time": "2023-07-16T07:09:39.118Z"
   },
   {
    "duration": 46,
    "start_time": "2023-07-16T07:09:39.131Z"
   },
   {
    "duration": 6,
    "start_time": "2023-07-16T07:09:39.179Z"
   },
   {
    "duration": 46,
    "start_time": "2023-07-16T07:09:39.187Z"
   },
   {
    "duration": 39,
    "start_time": "2023-07-16T07:09:39.235Z"
   },
   {
    "duration": 31,
    "start_time": "2023-07-16T07:09:39.276Z"
   },
   {
    "duration": 92,
    "start_time": "2023-07-16T07:09:39.309Z"
   },
   {
    "duration": 103,
    "start_time": "2023-07-16T07:09:39.403Z"
   },
   {
    "duration": 75,
    "start_time": "2023-07-16T07:09:39.508Z"
   },
   {
    "duration": 2,
    "start_time": "2023-07-16T07:09:39.585Z"
   },
   {
    "duration": 5,
    "start_time": "2023-07-16T07:09:39.589Z"
   },
   {
    "duration": 5,
    "start_time": "2023-07-16T07:09:39.595Z"
   },
   {
    "duration": 4,
    "start_time": "2023-07-16T07:09:39.602Z"
   },
   {
    "duration": 4,
    "start_time": "2023-07-16T07:09:39.607Z"
   },
   {
    "duration": 5,
    "start_time": "2023-07-16T07:09:39.613Z"
   },
   {
    "duration": 16,
    "start_time": "2023-07-16T07:09:39.619Z"
   },
   {
    "duration": 9,
    "start_time": "2023-07-16T07:09:39.637Z"
   },
   {
    "duration": 3,
    "start_time": "2023-07-16T07:09:39.669Z"
   },
   {
    "duration": 12,
    "start_time": "2023-07-16T07:09:39.673Z"
   },
   {
    "duration": 8,
    "start_time": "2023-07-16T07:09:39.687Z"
   },
   {
    "duration": 6,
    "start_time": "2023-07-16T07:09:39.696Z"
   },
   {
    "duration": 5,
    "start_time": "2023-07-16T07:09:39.703Z"
   },
   {
    "duration": 4,
    "start_time": "2023-07-16T07:09:39.711Z"
   },
   {
    "duration": 4,
    "start_time": "2023-07-16T07:09:39.717Z"
   },
   {
    "duration": 122,
    "start_time": "2023-07-16T07:09:39.723Z"
   },
   {
    "duration": 0,
    "start_time": "2023-07-16T07:09:39.847Z"
   },
   {
    "duration": 0,
    "start_time": "2023-07-16T07:09:39.848Z"
   },
   {
    "duration": 0,
    "start_time": "2023-07-16T07:09:39.849Z"
   },
   {
    "duration": 0,
    "start_time": "2023-07-16T07:09:39.850Z"
   },
   {
    "duration": 0,
    "start_time": "2023-07-16T07:09:39.851Z"
   },
   {
    "duration": 0,
    "start_time": "2023-07-16T07:09:39.852Z"
   },
   {
    "duration": 0,
    "start_time": "2023-07-16T07:09:39.853Z"
   },
   {
    "duration": 0,
    "start_time": "2023-07-16T07:09:39.854Z"
   },
   {
    "duration": 81,
    "start_time": "2023-07-16T07:09:56.072Z"
   },
   {
    "duration": 433,
    "start_time": "2023-07-16T07:10:00.841Z"
   },
   {
    "duration": 183,
    "start_time": "2023-07-16T07:10:01.276Z"
   },
   {
    "duration": 21,
    "start_time": "2023-07-16T07:10:01.461Z"
   },
   {
    "duration": 164,
    "start_time": "2023-07-16T07:10:01.485Z"
   },
   {
    "duration": 36,
    "start_time": "2023-07-16T07:10:01.652Z"
   },
   {
    "duration": 53,
    "start_time": "2023-07-16T07:10:01.690Z"
   },
   {
    "duration": 51,
    "start_time": "2023-07-16T07:10:01.745Z"
   },
   {
    "duration": 54,
    "start_time": "2023-07-16T07:10:01.797Z"
   },
   {
    "duration": 59,
    "start_time": "2023-07-16T07:10:01.852Z"
   },
   {
    "duration": 43,
    "start_time": "2023-07-16T07:10:01.914Z"
   },
   {
    "duration": 28,
    "start_time": "2023-07-16T07:10:01.959Z"
   },
   {
    "duration": 79,
    "start_time": "2023-07-16T07:10:01.989Z"
   },
   {
    "duration": 85,
    "start_time": "2023-07-16T07:10:02.070Z"
   },
   {
    "duration": 75,
    "start_time": "2023-07-16T07:10:02.156Z"
   },
   {
    "duration": 2,
    "start_time": "2023-07-16T07:10:02.233Z"
   },
   {
    "duration": 36,
    "start_time": "2023-07-16T07:10:02.237Z"
   },
   {
    "duration": 21,
    "start_time": "2023-07-16T07:10:02.275Z"
   },
   {
    "duration": 14,
    "start_time": "2023-07-16T07:10:02.298Z"
   },
   {
    "duration": 31,
    "start_time": "2023-07-16T07:10:02.315Z"
   },
   {
    "duration": 32,
    "start_time": "2023-07-16T07:10:02.348Z"
   },
   {
    "duration": 19,
    "start_time": "2023-07-16T07:10:02.382Z"
   },
   {
    "duration": 11,
    "start_time": "2023-07-16T07:10:02.403Z"
   },
   {
    "duration": 22,
    "start_time": "2023-07-16T07:10:02.416Z"
   },
   {
    "duration": 25,
    "start_time": "2023-07-16T07:10:02.439Z"
   },
   {
    "duration": 70,
    "start_time": "2023-07-16T07:10:02.466Z"
   },
   {
    "duration": 40,
    "start_time": "2023-07-16T07:10:02.539Z"
   },
   {
    "duration": 22,
    "start_time": "2023-07-16T07:10:02.582Z"
   },
   {
    "duration": 32,
    "start_time": "2023-07-16T07:10:02.607Z"
   },
   {
    "duration": 14,
    "start_time": "2023-07-16T07:10:02.640Z"
   },
   {
    "duration": 214,
    "start_time": "2023-07-16T07:10:02.655Z"
   },
   {
    "duration": 0,
    "start_time": "2023-07-16T07:10:02.871Z"
   },
   {
    "duration": 0,
    "start_time": "2023-07-16T07:10:02.872Z"
   },
   {
    "duration": 0,
    "start_time": "2023-07-16T07:10:02.874Z"
   },
   {
    "duration": 0,
    "start_time": "2023-07-16T07:10:02.875Z"
   },
   {
    "duration": 0,
    "start_time": "2023-07-16T07:10:02.876Z"
   },
   {
    "duration": 0,
    "start_time": "2023-07-16T07:10:02.877Z"
   },
   {
    "duration": 0,
    "start_time": "2023-07-16T07:10:02.878Z"
   },
   {
    "duration": 0,
    "start_time": "2023-07-16T07:10:02.879Z"
   },
   {
    "duration": 63,
    "start_time": "2023-07-16T07:11:19.867Z"
   },
   {
    "duration": 59,
    "start_time": "2023-07-16T07:11:26.467Z"
   },
   {
    "duration": 80,
    "start_time": "2023-07-16T07:11:29.202Z"
   },
   {
    "duration": 71,
    "start_time": "2023-07-16T07:11:31.820Z"
   },
   {
    "duration": 69,
    "start_time": "2023-07-16T07:11:54.810Z"
   },
   {
    "duration": 81,
    "start_time": "2023-07-16T07:11:58.487Z"
   },
   {
    "duration": 85,
    "start_time": "2023-07-16T07:12:03.037Z"
   },
   {
    "duration": 399,
    "start_time": "2023-07-16T07:12:08.576Z"
   },
   {
    "duration": 181,
    "start_time": "2023-07-16T07:12:08.977Z"
   },
   {
    "duration": 17,
    "start_time": "2023-07-16T07:12:09.160Z"
   },
   {
    "duration": 29,
    "start_time": "2023-07-16T07:12:09.179Z"
   },
   {
    "duration": 3,
    "start_time": "2023-07-16T07:12:09.210Z"
   },
   {
    "duration": 5,
    "start_time": "2023-07-16T07:12:09.215Z"
   },
   {
    "duration": 19,
    "start_time": "2023-07-16T07:12:09.221Z"
   },
   {
    "duration": 28,
    "start_time": "2023-07-16T07:12:09.243Z"
   },
   {
    "duration": 27,
    "start_time": "2023-07-16T07:12:09.273Z"
   },
   {
    "duration": 31,
    "start_time": "2023-07-16T07:12:09.302Z"
   },
   {
    "duration": 42,
    "start_time": "2023-07-16T07:12:09.335Z"
   },
   {
    "duration": 66,
    "start_time": "2023-07-16T07:12:09.379Z"
   },
   {
    "duration": 102,
    "start_time": "2023-07-16T07:12:09.447Z"
   },
   {
    "duration": 71,
    "start_time": "2023-07-16T07:12:09.551Z"
   },
   {
    "duration": 2,
    "start_time": "2023-07-16T07:12:09.624Z"
   },
   {
    "duration": 6,
    "start_time": "2023-07-16T07:12:09.628Z"
   },
   {
    "duration": 8,
    "start_time": "2023-07-16T07:12:09.635Z"
   },
   {
    "duration": 6,
    "start_time": "2023-07-16T07:12:09.644Z"
   },
   {
    "duration": 23,
    "start_time": "2023-07-16T07:12:09.652Z"
   },
   {
    "duration": 4,
    "start_time": "2023-07-16T07:12:09.676Z"
   },
   {
    "duration": 4,
    "start_time": "2023-07-16T07:12:09.682Z"
   },
   {
    "duration": 7,
    "start_time": "2023-07-16T07:12:09.688Z"
   },
   {
    "duration": 5,
    "start_time": "2023-07-16T07:12:09.697Z"
   },
   {
    "duration": 4,
    "start_time": "2023-07-16T07:12:09.703Z"
   },
   {
    "duration": 4,
    "start_time": "2023-07-16T07:12:09.708Z"
   },
   {
    "duration": 4,
    "start_time": "2023-07-16T07:12:09.714Z"
   },
   {
    "duration": 6,
    "start_time": "2023-07-16T07:12:09.719Z"
   },
   {
    "duration": 5,
    "start_time": "2023-07-16T07:12:09.728Z"
   },
   {
    "duration": 9,
    "start_time": "2023-07-16T07:12:09.734Z"
   },
   {
    "duration": 62,
    "start_time": "2023-07-16T07:12:09.745Z"
   },
   {
    "duration": 0,
    "start_time": "2023-07-16T07:12:09.809Z"
   },
   {
    "duration": 0,
    "start_time": "2023-07-16T07:12:09.810Z"
   },
   {
    "duration": 0,
    "start_time": "2023-07-16T07:12:09.811Z"
   },
   {
    "duration": 0,
    "start_time": "2023-07-16T07:12:09.813Z"
   },
   {
    "duration": 0,
    "start_time": "2023-07-16T07:12:09.814Z"
   },
   {
    "duration": 0,
    "start_time": "2023-07-16T07:12:09.815Z"
   },
   {
    "duration": 0,
    "start_time": "2023-07-16T07:12:09.816Z"
   },
   {
    "duration": 0,
    "start_time": "2023-07-16T07:12:09.818Z"
   },
   {
    "duration": 97,
    "start_time": "2023-07-16T07:12:16.604Z"
   },
   {
    "duration": 65,
    "start_time": "2023-07-16T07:12:18.431Z"
   },
   {
    "duration": 99,
    "start_time": "2023-07-16T07:12:24.060Z"
   },
   {
    "duration": 57,
    "start_time": "2023-07-16T07:12:25.508Z"
   },
   {
    "duration": 93,
    "start_time": "2023-07-16T07:12:27.203Z"
   },
   {
    "duration": 66,
    "start_time": "2023-07-16T07:12:29.028Z"
   },
   {
    "duration": 84,
    "start_time": "2023-07-16T07:12:34.540Z"
   },
   {
    "duration": 62,
    "start_time": "2023-07-16T07:12:36.145Z"
   },
   {
    "duration": 69,
    "start_time": "2023-07-16T07:12:58.866Z"
   },
   {
    "duration": 9,
    "start_time": "2023-07-16T07:14:05.632Z"
   },
   {
    "duration": 59,
    "start_time": "2023-07-16T07:15:17.409Z"
   },
   {
    "duration": 42,
    "start_time": "2023-07-16T07:15:42.075Z"
   },
   {
    "duration": 39,
    "start_time": "2023-07-16T07:16:25.118Z"
   },
   {
    "duration": 65,
    "start_time": "2023-07-16T07:18:23.012Z"
   },
   {
    "duration": 5,
    "start_time": "2023-07-16T07:18:36.178Z"
   },
   {
    "duration": 10,
    "start_time": "2023-07-16T07:19:05.535Z"
   },
   {
    "duration": 37,
    "start_time": "2023-07-16T07:19:19.177Z"
   },
   {
    "duration": 66,
    "start_time": "2023-07-16T07:22:02.441Z"
   },
   {
    "duration": 62,
    "start_time": "2023-07-16T07:22:04.675Z"
   },
   {
    "duration": 9,
    "start_time": "2023-07-16T07:22:10.758Z"
   },
   {
    "duration": 4,
    "start_time": "2023-07-16T07:23:22.975Z"
   },
   {
    "duration": 13,
    "start_time": "2023-07-16T07:23:27.973Z"
   },
   {
    "duration": 44,
    "start_time": "2023-07-16T07:24:53.996Z"
   },
   {
    "duration": 12,
    "start_time": "2023-07-16T07:25:25.760Z"
   },
   {
    "duration": 5,
    "start_time": "2023-07-16T07:38:40.093Z"
   },
   {
    "duration": 7,
    "start_time": "2023-07-16T07:38:46.204Z"
   },
   {
    "duration": 9,
    "start_time": "2023-07-16T07:39:09.052Z"
   },
   {
    "duration": 12,
    "start_time": "2023-07-16T07:41:53.353Z"
   },
   {
    "duration": 7,
    "start_time": "2023-07-16T07:42:22.890Z"
   },
   {
    "duration": 7,
    "start_time": "2023-07-16T07:45:12.056Z"
   },
   {
    "duration": 4,
    "start_time": "2023-07-16T07:49:29.506Z"
   },
   {
    "duration": 9,
    "start_time": "2023-07-16T07:49:33.076Z"
   },
   {
    "duration": 3,
    "start_time": "2023-07-16T07:50:45.550Z"
   },
   {
    "duration": 6,
    "start_time": "2023-07-16T07:50:48.092Z"
   },
   {
    "duration": 4,
    "start_time": "2023-07-16T07:52:21.713Z"
   },
   {
    "duration": 7,
    "start_time": "2023-07-16T07:52:23.890Z"
   },
   {
    "duration": 4,
    "start_time": "2023-07-16T07:54:19.041Z"
   },
   {
    "duration": 7,
    "start_time": "2023-07-16T07:54:21.200Z"
   },
   {
    "duration": 415,
    "start_time": "2023-07-16T07:54:29.051Z"
   },
   {
    "duration": 179,
    "start_time": "2023-07-16T07:54:29.467Z"
   },
   {
    "duration": 16,
    "start_time": "2023-07-16T07:54:29.647Z"
   },
   {
    "duration": 29,
    "start_time": "2023-07-16T07:54:29.665Z"
   },
   {
    "duration": 2,
    "start_time": "2023-07-16T07:54:29.696Z"
   },
   {
    "duration": 5,
    "start_time": "2023-07-16T07:54:29.700Z"
   },
   {
    "duration": 11,
    "start_time": "2023-07-16T07:54:29.706Z"
   },
   {
    "duration": 5,
    "start_time": "2023-07-16T07:54:29.719Z"
   },
   {
    "duration": 46,
    "start_time": "2023-07-16T07:54:29.726Z"
   },
   {
    "duration": 20,
    "start_time": "2023-07-16T07:54:29.775Z"
   },
   {
    "duration": 23,
    "start_time": "2023-07-16T07:54:29.797Z"
   },
   {
    "duration": 86,
    "start_time": "2023-07-16T07:54:29.822Z"
   },
   {
    "duration": 86,
    "start_time": "2023-07-16T07:54:29.909Z"
   },
   {
    "duration": 62,
    "start_time": "2023-07-16T07:54:29.997Z"
   },
   {
    "duration": 42,
    "start_time": "2023-07-16T07:54:30.061Z"
   },
   {
    "duration": 9,
    "start_time": "2023-07-16T07:54:30.104Z"
   },
   {
    "duration": 58,
    "start_time": "2023-07-16T07:54:30.115Z"
   },
   {
    "duration": 12,
    "start_time": "2023-07-16T07:54:30.174Z"
   },
   {
    "duration": 17,
    "start_time": "2023-07-16T07:54:30.187Z"
   },
   {
    "duration": 24,
    "start_time": "2023-07-16T07:54:30.205Z"
   },
   {
    "duration": 92,
    "start_time": "2023-07-16T07:54:30.231Z"
   },
   {
    "duration": 0,
    "start_time": "2023-07-16T07:54:30.325Z"
   },
   {
    "duration": 0,
    "start_time": "2023-07-16T07:54:30.327Z"
   },
   {
    "duration": 0,
    "start_time": "2023-07-16T07:54:30.328Z"
   },
   {
    "duration": 0,
    "start_time": "2023-07-16T07:54:30.329Z"
   },
   {
    "duration": 0,
    "start_time": "2023-07-16T07:54:30.330Z"
   },
   {
    "duration": 0,
    "start_time": "2023-07-16T07:54:30.330Z"
   },
   {
    "duration": 0,
    "start_time": "2023-07-16T07:54:30.332Z"
   },
   {
    "duration": 0,
    "start_time": "2023-07-16T07:54:30.332Z"
   },
   {
    "duration": 0,
    "start_time": "2023-07-16T07:54:30.333Z"
   },
   {
    "duration": 0,
    "start_time": "2023-07-16T07:54:30.334Z"
   },
   {
    "duration": 0,
    "start_time": "2023-07-16T07:54:30.336Z"
   },
   {
    "duration": 1,
    "start_time": "2023-07-16T07:54:30.336Z"
   },
   {
    "duration": 0,
    "start_time": "2023-07-16T07:54:30.338Z"
   },
   {
    "duration": 0,
    "start_time": "2023-07-16T07:54:30.339Z"
   },
   {
    "duration": 0,
    "start_time": "2023-07-16T07:54:30.340Z"
   },
   {
    "duration": 0,
    "start_time": "2023-07-16T07:54:30.341Z"
   },
   {
    "duration": 0,
    "start_time": "2023-07-16T07:54:30.342Z"
   },
   {
    "duration": 4,
    "start_time": "2023-07-16T07:56:09.342Z"
   },
   {
    "duration": 6,
    "start_time": "2023-07-16T07:56:11.583Z"
   },
   {
    "duration": 17,
    "start_time": "2023-07-16T07:56:31.343Z"
   },
   {
    "duration": 16,
    "start_time": "2023-07-16T07:57:09.708Z"
   },
   {
    "duration": 18,
    "start_time": "2023-07-16T07:58:12.188Z"
   },
   {
    "duration": 15,
    "start_time": "2023-07-16T07:58:13.720Z"
   },
   {
    "duration": 19,
    "start_time": "2023-07-16T07:58:14.861Z"
   },
   {
    "duration": 15,
    "start_time": "2023-07-16T07:58:15.720Z"
   },
   {
    "duration": 20,
    "start_time": "2023-07-16T07:58:16.682Z"
   },
   {
    "duration": 17,
    "start_time": "2023-07-16T07:58:17.600Z"
   },
   {
    "duration": 67,
    "start_time": "2023-07-16T10:12:30.695Z"
   },
   {
    "duration": 6,
    "start_time": "2023-07-16T10:13:19.874Z"
   },
   {
    "duration": 6,
    "start_time": "2023-07-16T10:14:19.170Z"
   },
   {
    "duration": 7,
    "start_time": "2023-07-16T10:14:23.445Z"
   },
   {
    "duration": 6,
    "start_time": "2023-07-16T10:15:05.792Z"
   },
   {
    "duration": 7,
    "start_time": "2023-07-16T10:16:53.065Z"
   },
   {
    "duration": 388,
    "start_time": "2023-07-16T10:17:15.970Z"
   },
   {
    "duration": 462,
    "start_time": "2023-07-16T10:17:16.360Z"
   },
   {
    "duration": 18,
    "start_time": "2023-07-16T10:17:16.824Z"
   },
   {
    "duration": 47,
    "start_time": "2023-07-16T10:17:16.844Z"
   },
   {
    "duration": 10,
    "start_time": "2023-07-16T10:17:16.893Z"
   },
   {
    "duration": 20,
    "start_time": "2023-07-16T10:17:16.905Z"
   },
   {
    "duration": 31,
    "start_time": "2023-07-16T10:17:16.927Z"
   },
   {
    "duration": 24,
    "start_time": "2023-07-16T10:17:16.960Z"
   },
   {
    "duration": 62,
    "start_time": "2023-07-16T10:17:16.986Z"
   },
   {
    "duration": 35,
    "start_time": "2023-07-16T10:17:17.050Z"
   },
   {
    "duration": 44,
    "start_time": "2023-07-16T10:17:17.087Z"
   },
   {
    "duration": 83,
    "start_time": "2023-07-16T10:17:17.133Z"
   },
   {
    "duration": 79,
    "start_time": "2023-07-16T10:17:17.217Z"
   },
   {
    "duration": 61,
    "start_time": "2023-07-16T10:17:17.312Z"
   },
   {
    "duration": 49,
    "start_time": "2023-07-16T10:17:17.375Z"
   },
   {
    "duration": 18,
    "start_time": "2023-07-16T10:17:17.425Z"
   },
   {
    "duration": 42,
    "start_time": "2023-07-16T10:17:17.445Z"
   },
   {
    "duration": 12,
    "start_time": "2023-07-16T10:17:17.488Z"
   },
   {
    "duration": 33,
    "start_time": "2023-07-16T10:17:17.513Z"
   },
   {
    "duration": 15,
    "start_time": "2023-07-16T10:17:17.548Z"
   },
   {
    "duration": 36,
    "start_time": "2023-07-16T10:17:17.565Z"
   },
   {
    "duration": 38,
    "start_time": "2023-07-16T10:17:17.602Z"
   },
   {
    "duration": 49,
    "start_time": "2023-07-16T10:17:17.642Z"
   },
   {
    "duration": 22,
    "start_time": "2023-07-16T10:17:17.692Z"
   },
   {
    "duration": 52,
    "start_time": "2023-07-16T10:17:17.715Z"
   },
   {
    "duration": 54,
    "start_time": "2023-07-16T10:17:17.770Z"
   },
   {
    "duration": 102,
    "start_time": "2023-07-16T10:17:17.826Z"
   },
   {
    "duration": 0,
    "start_time": "2023-07-16T10:17:17.931Z"
   },
   {
    "duration": 0,
    "start_time": "2023-07-16T10:17:17.932Z"
   },
   {
    "duration": 1,
    "start_time": "2023-07-16T10:17:17.934Z"
   },
   {
    "duration": 0,
    "start_time": "2023-07-16T10:17:17.936Z"
   },
   {
    "duration": 0,
    "start_time": "2023-07-16T10:17:17.937Z"
   },
   {
    "duration": 0,
    "start_time": "2023-07-16T10:17:17.939Z"
   },
   {
    "duration": 0,
    "start_time": "2023-07-16T10:17:17.940Z"
   },
   {
    "duration": 0,
    "start_time": "2023-07-16T10:17:17.942Z"
   },
   {
    "duration": 0,
    "start_time": "2023-07-16T10:17:17.943Z"
   },
   {
    "duration": 0,
    "start_time": "2023-07-16T10:17:17.944Z"
   },
   {
    "duration": 0,
    "start_time": "2023-07-16T10:17:17.946Z"
   },
   {
    "duration": 15,
    "start_time": "2023-07-16T10:17:25.581Z"
   },
   {
    "duration": 397,
    "start_time": "2023-07-16T10:59:11.215Z"
   },
   {
    "duration": 162,
    "start_time": "2023-07-16T10:59:11.614Z"
   },
   {
    "duration": 17,
    "start_time": "2023-07-16T10:59:11.777Z"
   },
   {
    "duration": 35,
    "start_time": "2023-07-16T10:59:11.796Z"
   },
   {
    "duration": 2,
    "start_time": "2023-07-16T10:59:11.833Z"
   },
   {
    "duration": 15,
    "start_time": "2023-07-16T10:59:11.836Z"
   },
   {
    "duration": 12,
    "start_time": "2023-07-16T10:59:11.852Z"
   },
   {
    "duration": 13,
    "start_time": "2023-07-16T10:59:11.865Z"
   },
   {
    "duration": 36,
    "start_time": "2023-07-16T10:59:11.880Z"
   },
   {
    "duration": 17,
    "start_time": "2023-07-16T10:59:11.919Z"
   },
   {
    "duration": 26,
    "start_time": "2023-07-16T10:59:11.938Z"
   },
   {
    "duration": 78,
    "start_time": "2023-07-16T10:59:11.966Z"
   },
   {
    "duration": 84,
    "start_time": "2023-07-16T10:59:12.046Z"
   },
   {
    "duration": 58,
    "start_time": "2023-07-16T10:59:12.132Z"
   },
   {
    "duration": 51,
    "start_time": "2023-07-16T10:59:12.192Z"
   },
   {
    "duration": 11,
    "start_time": "2023-07-16T10:59:12.244Z"
   },
   {
    "duration": 34,
    "start_time": "2023-07-16T10:59:12.257Z"
   },
   {
    "duration": 29,
    "start_time": "2023-07-16T10:59:12.293Z"
   },
   {
    "duration": 19,
    "start_time": "2023-07-16T10:59:12.323Z"
   },
   {
    "duration": 4,
    "start_time": "2023-07-16T10:59:12.344Z"
   },
   {
    "duration": 43,
    "start_time": "2023-07-16T10:59:12.350Z"
   },
   {
    "duration": 14,
    "start_time": "2023-07-16T10:59:12.394Z"
   },
   {
    "duration": 34,
    "start_time": "2023-07-16T10:59:12.410Z"
   },
   {
    "duration": 13,
    "start_time": "2023-07-16T10:59:12.446Z"
   },
   {
    "duration": 17,
    "start_time": "2023-07-16T10:59:12.461Z"
   },
   {
    "duration": 15,
    "start_time": "2023-07-16T10:59:12.479Z"
   },
   {
    "duration": 86,
    "start_time": "2023-07-16T10:59:12.495Z"
   },
   {
    "duration": 0,
    "start_time": "2023-07-16T10:59:12.583Z"
   },
   {
    "duration": 0,
    "start_time": "2023-07-16T10:59:12.584Z"
   },
   {
    "duration": 0,
    "start_time": "2023-07-16T10:59:12.585Z"
   },
   {
    "duration": 0,
    "start_time": "2023-07-16T10:59:12.587Z"
   },
   {
    "duration": 0,
    "start_time": "2023-07-16T10:59:12.588Z"
   },
   {
    "duration": 0,
    "start_time": "2023-07-16T10:59:12.588Z"
   },
   {
    "duration": 0,
    "start_time": "2023-07-16T10:59:12.589Z"
   },
   {
    "duration": 0,
    "start_time": "2023-07-16T10:59:12.590Z"
   },
   {
    "duration": 0,
    "start_time": "2023-07-16T10:59:12.591Z"
   },
   {
    "duration": 0,
    "start_time": "2023-07-16T10:59:12.593Z"
   },
   {
    "duration": 0,
    "start_time": "2023-07-16T10:59:12.593Z"
   },
   {
    "duration": 4,
    "start_time": "2023-07-16T11:04:19.449Z"
   },
   {
    "duration": 9,
    "start_time": "2023-07-16T11:04:41.356Z"
   },
   {
    "duration": 13,
    "start_time": "2023-07-16T11:07:44.847Z"
   },
   {
    "duration": 10,
    "start_time": "2023-07-16T11:08:08.008Z"
   },
   {
    "duration": 20,
    "start_time": "2023-07-16T11:08:14.607Z"
   },
   {
    "duration": 8,
    "start_time": "2023-07-16T11:08:25.971Z"
   },
   {
    "duration": 104,
    "start_time": "2023-07-16T11:15:49.139Z"
   },
   {
    "duration": 20,
    "start_time": "2023-07-16T11:15:59.435Z"
   },
   {
    "duration": 4,
    "start_time": "2023-07-16T11:18:34.797Z"
   },
   {
    "duration": 10,
    "start_time": "2023-07-16T11:19:03.779Z"
   },
   {
    "duration": 24,
    "start_time": "2023-07-16T11:19:33.667Z"
   },
   {
    "duration": 23,
    "start_time": "2023-07-16T11:20:45.617Z"
   },
   {
    "duration": 5,
    "start_time": "2023-07-16T11:21:27.205Z"
   },
   {
    "duration": 23,
    "start_time": "2023-07-16T11:21:31.401Z"
   },
   {
    "duration": 18,
    "start_time": "2023-07-16T11:22:32.297Z"
   },
   {
    "duration": 11,
    "start_time": "2023-07-16T11:23:42.736Z"
   },
   {
    "duration": 11,
    "start_time": "2023-07-16T11:23:44.461Z"
   },
   {
    "duration": 23,
    "start_time": "2023-07-16T11:24:02.824Z"
   },
   {
    "duration": 15,
    "start_time": "2023-07-16T11:24:04.617Z"
   },
   {
    "duration": 11,
    "start_time": "2023-07-16T11:24:06.759Z"
   },
   {
    "duration": 10,
    "start_time": "2023-07-16T11:24:15.704Z"
   },
   {
    "duration": 5,
    "start_time": "2023-07-16T11:27:15.038Z"
   },
   {
    "duration": 16,
    "start_time": "2023-07-16T11:27:24.158Z"
   },
   {
    "duration": 12,
    "start_time": "2023-07-16T11:27:28.653Z"
   },
   {
    "duration": 10,
    "start_time": "2023-07-16T11:27:30.609Z"
   },
   {
    "duration": 9,
    "start_time": "2023-07-16T11:27:32.266Z"
   },
   {
    "duration": 8,
    "start_time": "2023-07-16T11:28:22.740Z"
   },
   {
    "duration": 4,
    "start_time": "2023-07-16T11:28:32.841Z"
   },
   {
    "duration": 16,
    "start_time": "2023-07-16T11:28:34.901Z"
   },
   {
    "duration": 12,
    "start_time": "2023-07-16T11:28:35.474Z"
   },
   {
    "duration": 10,
    "start_time": "2023-07-16T11:28:36.011Z"
   },
   {
    "duration": 8,
    "start_time": "2023-07-16T11:28:36.593Z"
   },
   {
    "duration": 5,
    "start_time": "2023-07-16T11:30:25.512Z"
   },
   {
    "duration": 19,
    "start_time": "2023-07-16T11:30:28.214Z"
   },
   {
    "duration": 15,
    "start_time": "2023-07-16T11:30:29.736Z"
   },
   {
    "duration": 11,
    "start_time": "2023-07-16T11:30:31.006Z"
   },
   {
    "duration": 9,
    "start_time": "2023-07-16T11:30:32.013Z"
   },
   {
    "duration": 19,
    "start_time": "2023-07-16T11:33:55.940Z"
   },
   {
    "duration": 5,
    "start_time": "2023-07-16T11:34:42.810Z"
   },
   {
    "duration": 20,
    "start_time": "2023-07-16T11:34:45.655Z"
   },
   {
    "duration": 10,
    "start_time": "2023-07-16T11:34:47.342Z"
   },
   {
    "duration": 9,
    "start_time": "2023-07-16T11:34:50.314Z"
   },
   {
    "duration": 9,
    "start_time": "2023-07-16T11:34:51.775Z"
   },
   {
    "duration": 17,
    "start_time": "2023-07-16T11:35:02.823Z"
   },
   {
    "duration": 20,
    "start_time": "2023-07-16T11:35:26.006Z"
   },
   {
    "duration": 9,
    "start_time": "2023-07-16T11:35:30.798Z"
   },
   {
    "duration": 20,
    "start_time": "2023-07-16T11:35:51.620Z"
   },
   {
    "duration": 13,
    "start_time": "2023-07-16T11:35:53.110Z"
   },
   {
    "duration": 22,
    "start_time": "2023-07-16T11:38:07.314Z"
   },
   {
    "duration": 8,
    "start_time": "2023-07-16T11:38:23.310Z"
   },
   {
    "duration": 8,
    "start_time": "2023-07-16T11:38:28.969Z"
   },
   {
    "duration": 27,
    "start_time": "2023-07-16T11:39:24.613Z"
   },
   {
    "duration": 8,
    "start_time": "2023-07-16T11:39:27.937Z"
   },
   {
    "duration": 3,
    "start_time": "2023-07-16T11:39:41.158Z"
   },
   {
    "duration": 25,
    "start_time": "2023-07-16T11:39:53.038Z"
   },
   {
    "duration": 26,
    "start_time": "2023-07-16T11:41:06.457Z"
   },
   {
    "duration": 8,
    "start_time": "2023-07-16T11:41:38.773Z"
   },
   {
    "duration": 4,
    "start_time": "2023-07-16T11:41:41.049Z"
   },
   {
    "duration": 18,
    "start_time": "2023-07-16T11:41:42.872Z"
   },
   {
    "duration": 13,
    "start_time": "2023-07-16T11:41:44.266Z"
   },
   {
    "duration": 19,
    "start_time": "2023-07-16T11:41:45.598Z"
   },
   {
    "duration": 13,
    "start_time": "2023-07-16T11:41:47.214Z"
   },
   {
    "duration": 31,
    "start_time": "2023-07-16T11:42:00.056Z"
   },
   {
    "duration": 28,
    "start_time": "2023-07-16T11:42:19.737Z"
   },
   {
    "duration": 9,
    "start_time": "2023-07-16T11:42:23.242Z"
   },
   {
    "duration": 26,
    "start_time": "2023-07-16T11:43:30.866Z"
   },
   {
    "duration": 9,
    "start_time": "2023-07-16T11:43:34.648Z"
   },
   {
    "duration": 21,
    "start_time": "2023-07-16T11:44:08.514Z"
   },
   {
    "duration": 9,
    "start_time": "2023-07-16T11:44:10.722Z"
   },
   {
    "duration": 22,
    "start_time": "2023-07-16T11:44:28.765Z"
   },
   {
    "duration": 8,
    "start_time": "2023-07-16T11:44:30.337Z"
   },
   {
    "duration": 12,
    "start_time": "2023-07-16T11:44:41.352Z"
   },
   {
    "duration": 23,
    "start_time": "2023-07-16T11:45:32.174Z"
   },
   {
    "duration": 9,
    "start_time": "2023-07-16T11:45:34.158Z"
   },
   {
    "duration": 22,
    "start_time": "2023-07-16T11:46:07.807Z"
   },
   {
    "duration": 9,
    "start_time": "2023-07-16T11:46:09.523Z"
   },
   {
    "duration": 20,
    "start_time": "2023-07-16T11:46:20.075Z"
   },
   {
    "duration": 8,
    "start_time": "2023-07-16T11:46:22.549Z"
   },
   {
    "duration": 21,
    "start_time": "2023-07-16T11:46:32.002Z"
   },
   {
    "duration": 9,
    "start_time": "2023-07-16T11:46:38.678Z"
   },
   {
    "duration": 22,
    "start_time": "2023-07-16T11:47:10.815Z"
   },
   {
    "duration": 9,
    "start_time": "2023-07-16T11:47:12.865Z"
   },
   {
    "duration": 23,
    "start_time": "2023-07-16T11:47:52.141Z"
   },
   {
    "duration": 10,
    "start_time": "2023-07-16T11:47:53.911Z"
   },
   {
    "duration": 14,
    "start_time": "2023-07-16T11:49:08.276Z"
   },
   {
    "duration": 30,
    "start_time": "2023-07-16T11:50:00.008Z"
   },
   {
    "duration": 25,
    "start_time": "2023-07-16T11:52:24.328Z"
   },
   {
    "duration": 32,
    "start_time": "2023-07-16T11:52:30.619Z"
   },
   {
    "duration": 34,
    "start_time": "2023-07-16T11:52:47.239Z"
   },
   {
    "duration": 34,
    "start_time": "2023-07-16T11:52:56.222Z"
   },
   {
    "duration": 25,
    "start_time": "2023-07-16T11:53:01.701Z"
   },
   {
    "duration": 30,
    "start_time": "2023-07-16T11:53:14.516Z"
   },
   {
    "duration": 30,
    "start_time": "2023-07-16T11:54:16.049Z"
   },
   {
    "duration": 8,
    "start_time": "2023-07-16T11:54:19.507Z"
   },
   {
    "duration": 28,
    "start_time": "2023-07-16T11:54:52.571Z"
   },
   {
    "duration": 9,
    "start_time": "2023-07-16T11:54:58.835Z"
   },
   {
    "duration": 33,
    "start_time": "2023-07-16T11:56:39.679Z"
   },
   {
    "duration": 29,
    "start_time": "2023-07-16T11:56:53.239Z"
   },
   {
    "duration": 32,
    "start_time": "2023-07-16T11:57:02.730Z"
   },
   {
    "duration": 33,
    "start_time": "2023-07-16T11:57:09.839Z"
   },
   {
    "duration": 29,
    "start_time": "2023-07-16T11:57:23.239Z"
   },
   {
    "duration": 22,
    "start_time": "2023-07-16T11:57:27.532Z"
   },
   {
    "duration": 8,
    "start_time": "2023-07-16T11:57:29.940Z"
   },
   {
    "duration": 28,
    "start_time": "2023-07-16T11:58:14.535Z"
   },
   {
    "duration": 30,
    "start_time": "2023-07-16T11:58:49.219Z"
   },
   {
    "duration": 8,
    "start_time": "2023-07-16T11:58:52.274Z"
   },
   {
    "duration": 27,
    "start_time": "2023-07-16T11:59:55.066Z"
   },
   {
    "duration": 4,
    "start_time": "2023-07-16T12:00:35.459Z"
   },
   {
    "duration": 12,
    "start_time": "2023-07-16T12:00:40.603Z"
   },
   {
    "duration": 5,
    "start_time": "2023-07-16T12:00:46.556Z"
   },
   {
    "duration": 9,
    "start_time": "2023-07-16T12:00:52.138Z"
   },
   {
    "duration": 6,
    "start_time": "2023-07-16T12:00:54.233Z"
   },
   {
    "duration": 7,
    "start_time": "2023-07-16T12:01:57.617Z"
   },
   {
    "duration": 5,
    "start_time": "2023-07-16T12:02:10.572Z"
   },
   {
    "duration": 395,
    "start_time": "2024-01-18T17:30:46.776Z"
   },
   {
    "duration": 434,
    "start_time": "2024-01-18T17:30:47.173Z"
   },
   {
    "duration": 17,
    "start_time": "2024-01-18T17:30:47.609Z"
   },
   {
    "duration": 37,
    "start_time": "2024-01-18T17:30:47.627Z"
   },
   {
    "duration": 23,
    "start_time": "2024-01-18T17:30:47.667Z"
   },
   {
    "duration": 26,
    "start_time": "2024-01-18T17:30:47.692Z"
   },
   {
    "duration": 31,
    "start_time": "2024-01-18T17:30:47.719Z"
   },
   {
    "duration": 31,
    "start_time": "2024-01-18T17:30:47.752Z"
   },
   {
    "duration": 45,
    "start_time": "2024-01-18T17:30:47.784Z"
   },
   {
    "duration": 27,
    "start_time": "2024-01-18T17:30:47.831Z"
   },
   {
    "duration": 24,
    "start_time": "2024-01-18T17:30:47.859Z"
   },
   {
    "duration": 73,
    "start_time": "2024-01-18T17:30:47.885Z"
   },
   {
    "duration": 75,
    "start_time": "2024-01-18T17:30:47.960Z"
   },
   {
    "duration": 70,
    "start_time": "2024-01-18T17:30:48.038Z"
   },
   {
    "duration": 51,
    "start_time": "2024-01-18T17:30:48.109Z"
   },
   {
    "duration": 13,
    "start_time": "2024-01-18T17:30:48.161Z"
   },
   {
    "duration": 54,
    "start_time": "2024-01-18T17:30:48.176Z"
   },
   {
    "duration": 12,
    "start_time": "2024-01-18T17:30:48.231Z"
   },
   {
    "duration": 28,
    "start_time": "2024-01-18T17:30:48.244Z"
   },
   {
    "duration": 28,
    "start_time": "2024-01-18T17:30:48.274Z"
   },
   {
    "duration": 40,
    "start_time": "2024-01-18T17:30:48.303Z"
   },
   {
    "duration": 34,
    "start_time": "2024-01-18T17:30:48.345Z"
   },
   {
    "duration": 19,
    "start_time": "2024-01-18T17:30:48.381Z"
   },
   {
    "duration": 28,
    "start_time": "2024-01-18T17:30:48.401Z"
   },
   {
    "duration": 36,
    "start_time": "2024-01-18T17:30:48.430Z"
   },
   {
    "duration": 25,
    "start_time": "2024-01-18T17:30:48.468Z"
   },
   {
    "duration": 8,
    "start_time": "2024-01-18T17:30:48.494Z"
   },
   {
    "duration": 19,
    "start_time": "2024-01-18T17:30:48.504Z"
   },
   {
    "duration": 33,
    "start_time": "2024-01-18T17:30:48.525Z"
   },
   {
    "duration": 5,
    "start_time": "2024-01-18T17:30:48.560Z"
   },
   {
    "duration": 51,
    "start_time": "2024-01-18T17:30:48.567Z"
   },
   {
    "duration": 22,
    "start_time": "2024-01-18T17:30:48.620Z"
   },
   {
    "duration": 35,
    "start_time": "2024-01-18T17:30:48.644Z"
   },
   {
    "duration": 31,
    "start_time": "2024-01-18T17:30:48.681Z"
   },
   {
    "duration": 25,
    "start_time": "2024-01-18T17:30:48.713Z"
   },
   {
    "duration": 21,
    "start_time": "2024-01-18T17:30:48.740Z"
   },
   {
    "duration": 27,
    "start_time": "2024-01-18T17:30:48.763Z"
   },
   {
    "duration": 21,
    "start_time": "2024-01-18T17:30:48.792Z"
   },
   {
    "duration": 358,
    "start_time": "2024-06-27T05:21:05.866Z"
   },
   {
    "duration": 224,
    "start_time": "2024-06-27T05:21:06.226Z"
   },
   {
    "duration": 15,
    "start_time": "2024-06-27T05:21:06.451Z"
   },
   {
    "duration": 41,
    "start_time": "2024-06-27T05:21:06.468Z"
   },
   {
    "duration": 59,
    "start_time": "2024-06-27T05:21:06.510Z"
   },
   {
    "duration": 14,
    "start_time": "2024-06-27T05:21:06.571Z"
   },
   {
    "duration": 12,
    "start_time": "2024-06-27T05:21:06.587Z"
   },
   {
    "duration": 20,
    "start_time": "2024-06-27T05:21:06.600Z"
   },
   {
    "duration": 35,
    "start_time": "2024-06-27T05:21:06.622Z"
   },
   {
    "duration": 22,
    "start_time": "2024-06-27T05:21:06.660Z"
   },
   {
    "duration": 22,
    "start_time": "2024-06-27T05:21:06.683Z"
   },
   {
    "duration": 63,
    "start_time": "2024-06-27T05:21:06.706Z"
   },
   {
    "duration": 74,
    "start_time": "2024-06-27T05:21:06.771Z"
   },
   {
    "duration": 64,
    "start_time": "2024-06-27T05:21:06.846Z"
   },
   {
    "duration": 38,
    "start_time": "2024-06-27T05:21:06.911Z"
   },
   {
    "duration": 9,
    "start_time": "2024-06-27T05:21:06.951Z"
   },
   {
    "duration": 53,
    "start_time": "2024-06-27T05:21:06.961Z"
   },
   {
    "duration": 26,
    "start_time": "2024-06-27T05:21:07.026Z"
   },
   {
    "duration": 11,
    "start_time": "2024-06-27T05:21:07.054Z"
   },
   {
    "duration": 5,
    "start_time": "2024-06-27T05:21:07.066Z"
   },
   {
    "duration": 16,
    "start_time": "2024-06-27T05:21:07.072Z"
   },
   {
    "duration": 11,
    "start_time": "2024-06-27T05:21:07.090Z"
   },
   {
    "duration": 14,
    "start_time": "2024-06-27T05:21:07.109Z"
   },
   {
    "duration": 13,
    "start_time": "2024-06-27T05:21:07.124Z"
   },
   {
    "duration": 15,
    "start_time": "2024-06-27T05:21:07.138Z"
   },
   {
    "duration": 12,
    "start_time": "2024-06-27T05:21:07.154Z"
   },
   {
    "duration": 8,
    "start_time": "2024-06-27T05:21:07.167Z"
   },
   {
    "duration": 17,
    "start_time": "2024-06-27T05:21:07.208Z"
   },
   {
    "duration": 14,
    "start_time": "2024-06-27T05:21:07.227Z"
   },
   {
    "duration": 4,
    "start_time": "2024-06-27T05:21:07.243Z"
   },
   {
    "duration": 231,
    "start_time": "2024-06-27T05:21:07.248Z"
   },
   {
    "duration": 129,
    "start_time": "2024-06-27T05:21:07.481Z"
   },
   {
    "duration": 111,
    "start_time": "2024-06-27T05:21:07.612Z"
   },
   {
    "duration": 64,
    "start_time": "2024-06-27T05:21:07.724Z"
   },
   {
    "duration": 28,
    "start_time": "2024-06-27T05:21:07.790Z"
   },
   {
    "duration": 17,
    "start_time": "2024-06-27T05:21:07.819Z"
   },
   {
    "duration": 20,
    "start_time": "2024-06-27T05:21:07.838Z"
   },
   {
    "duration": 21,
    "start_time": "2024-06-27T05:21:07.860Z"
   }
  ],
  "celltoolbar": "Edit Metadata",
  "colab": {
   "collapsed_sections": [
    "E0vqbgi9ay0H",
    "VUC88oWjTJw2"
   ],
   "provenance": []
  },
  "kernelspec": {
   "display_name": "Python 3 (ipykernel)",
   "language": "python",
   "name": "python3"
  },
  "language_info": {
   "codemirror_mode": {
    "name": "ipython",
    "version": 3
   },
   "file_extension": ".py",
   "mimetype": "text/x-python",
   "name": "python",
   "nbconvert_exporter": "python",
   "pygments_lexer": "ipython3",
   "version": "3.10.9"
  },
  "toc": {
   "base_numbering": 1,
   "nav_menu": {
    "height": "215px",
    "width": "403px"
   },
   "number_sections": true,
   "sideBar": true,
   "skip_h1_title": true,
   "title_cell": "Table of Contents",
   "title_sidebar": "Contents",
   "toc_cell": false,
   "toc_position": {
    "height": "calc(100% - 180px)",
    "left": "10px",
    "top": "150px",
    "width": "285.825px"
   },
   "toc_section_display": true,
   "toc_window_display": false
  }
 },
 "nbformat": 4,
 "nbformat_minor": 1
}
