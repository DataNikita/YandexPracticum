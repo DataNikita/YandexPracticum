{
 "cells": [
  {
   "cell_type": "markdown",
   "id": "386f2ae7",
   "metadata": {
    "id": "386f2ae7"
   },
   "source": [
    "<font size=\"5\"><p style=\"text-align:center\"><b>**Исследование надежности заемщиков**</b></p></font>"
   ]
  },
  {
   "cell_type": "markdown",
   "id": "b285c988",
   "metadata": {},
   "source": [
    "<font size=\"5\"><p style=\"text-align:center\"><b>**Описание проекта**</b></p></font>\n",
    "    \n",
    "Заказчик — кредитный отдел банка. Нужно разобраться, влияет ли семейное положение и количество детей клиента на факт погашения кредита в срок. Входные данные от банка — статистика о платёжеспособности клиентов.\n",
    "Результаты исследования будут учтены при построении модели кредитного скоринга — специальной системы, которая оценивает способность потенциального заёмщика вернуть кредит банку.\n",
    "    \n",
    "Описание данных:\n",
    "    \n",
    "`children` — количество детей в семье    \n",
    "`days_employed` — общий трудовой стаж в днях  \n",
    "`dob_years` — возраст клиента в годах    \n",
    "`education` — уровень образования клиента    \n",
    "`education_id` — идентификатор уровня образования    \n",
    "`family_status` — семейное положение    \n",
    "`family_status_id` — идентификатор семейного положения    \n",
    "`gender` — пол клиента    \n",
    "`income_type` — тип занятости    \n",
    "`debt` — имел ли задолженность по возврату кредитов    \n",
    "`total_income` — ежемесячный доход    \n",
    "`purpose` — цель получения кредита"
   ]
  },
  {
   "cell_type": "markdown",
   "id": "04cba100",
   "metadata": {
    "tags": [],
    "toc": true
   },
   "source": [
    "<h1 id=\"Содержание\">Содержание<span class=\"tocSkip\"></span></h1>  \n",
    "<div class=\"toc\"><ul class=\"toc-item\"><li><span><a href=\"#Обзор-данных\" data-toc-modified-id=\"Обзор-данных-1\"><span class=\"toc-item-num\">1&nbsp;&nbsp;</span>Обзор данных</a></span></li><li><span><a href=\"#Предобработка-данных\" data-toc-modified-id=\"Предобработка-данных-2\"><span class=\"toc-item-num\">2&nbsp;&nbsp;</span>Предобработка данных</a></span><ul class=\"toc-item\"><li><span><a href=\"#Удаление-пропусков\" data-toc-modified-id=\"Удаление-пропусков-2.1\"><span class=\"toc-item-num\">2.1&nbsp;&nbsp;</span>Удаление пропусков</a></span></li><li><span><a href=\"#Обработка-аномальных-значений\" data-toc-modified-id=\"Обработка-аномальных-значений-2.2\"><span class=\"toc-item-num\">2.2&nbsp;&nbsp;</span>Обработка аномальных значений</a></span></li><li><span><a href=\"#Удаление-пропусков-(продолжение)\" data-toc-modified-id=\"Удаление-пропусков-(продолжение)-2.3\"><span class=\"toc-item-num\">2.3&nbsp;&nbsp;</span>Удаление пропусков (продолжение)</a></span></li><li><span><a href=\"#Изменение-типов-данных\" data-toc-modified-id=\"Изменение-типов-данных-2.4\"><span class=\"toc-item-num\">2.4&nbsp;&nbsp;</span>Изменение типов данных</a></span></li><li><span><a href=\"#Обработка-дубликатов\" data-toc-modified-id=\"Обработка-дубликатов-2.5\"><span class=\"toc-item-num\">2.5&nbsp;&nbsp;</span>Обработка дубликатов</a></span></li><li><span><a href=\"#Категоризация-данных\" data-toc-modified-id=\"Категоризация-данных-2.6\"><span class=\"toc-item-num\">2.6&nbsp;&nbsp;</span>Категоризация данных</a></span></li></ul></li><li><span><a href=\"#Исследуем-данные-и-ответим-на-вопросы\" data-toc-modified-id=\"Исследуем-данные-и-ответим-на-вопросы-3\"><span class=\"toc-item-num\">3&nbsp;&nbsp;</span>Исследуем данные и ответим на вопросы</a></span><ul class=\"toc-item\"><li><span><a href=\"#Есть-ли-зависимость-между-количеством-детей-и-возвратом-кредита-в-срок?\" data-toc-modified-id=\"Есть-ли-зависимость-между-количеством-детей-и-возвратом-кредита-в-срок?-3.1\"><span class=\"toc-item-num\">3.1&nbsp;&nbsp;</span>Есть ли зависимость между количеством детей и возвратом кредита в срок?</a></span></li><li><span><a href=\"#Есть-ли-зависимость-между-семейным-положением-и-возвратом-кредита-в-срок?\" data-toc-modified-id=\"Есть-ли-зависимость-между-семейным-положением-и-возвратом-кредита-в-срок?-3.2\"><span class=\"toc-item-num\">3.2&nbsp;&nbsp;</span>Есть ли зависимость между семейным положением и возвратом кредита в срок?</a></span></li><li><span><a href=\"#Есть-ли-зависимость-между-уровнем-дохода-и-возвратом-кредита-в-срок?\" data-toc-modified-id=\"Есть-ли-зависимость-между-уровнем-дохода-и-возвратом-кредита-в-срок?-3.3\"><span class=\"toc-item-num\">3.3&nbsp;&nbsp;</span>Есть ли зависимость между уровнем дохода и возвратом кредита в срок?</a></span></li><li><span><a href=\"#Как-разные-цели-кредита-влияют-на-его-возврат-в-срок?\" data-toc-modified-id=\"Как-разные-цели-кредита-влияют-на-его-возврат-в-срок?-3.4\"><span class=\"toc-item-num\">3.4&nbsp;&nbsp;</span>Как разные цели кредита влияют на его возврат в срок?</a></span></li><li><span><a href=\"#Приведем-возможные-причины-появления-пропусков-в-исходных-данных.\" data-toc-modified-id=\"Приведем-возможные-причины-появления-пропусков-в-исходных-данных.-3.5\"><span class=\"toc-item-num\">3.5&nbsp;&nbsp;</span>Приведем возможные причины появления пропусков в исходных данных.</a></span></li><li><span><a href=\"#Объясним,-почему-заполнить-пропуски-медианным-значением-—-лучшее-решение-для-количественных-переменных.\" data-toc-modified-id=\"Объясним,-почему-заполнить-пропуски-медианным-значением-—-лучшее-решение-для-количественных-переменных.-3.6\"><span class=\"toc-item-num\">3.6&nbsp;&nbsp;</span>Объясним, почему заполнить пропуски медианным значением — лучшее решение для количественных переменных.</a></span></li></ul></li><li><span><a href=\"#Общий-вывод\" data-toc-modified-id=\"Общий-вывод-4\"><span class=\"toc-item-num\">4&nbsp;&nbsp;</span>Общий вывод</a></span></li></ul></div>"
   ]
  },
  {
   "cell_type": "markdown",
   "id": "26613308",
   "metadata": {
    "id": "26613308"
   },
   "source": [
    "## Обзор данных \n",
    "Откроем таблицу и изучим общую информацию о данных.  \n",
    "Для этого импортируем библиотеку pandas, считаем данные из csv-файла в датафрейм и сохраним в переменную `data`."
   ]
  },
  {
   "cell_type": "code",
   "execution_count": 1,
   "id": "c5178cf4",
   "metadata": {},
   "outputs": [],
   "source": [
    "# Импорт библиотек\n",
    "\n",
    "import pandas as pd\n",
    "import seaborn as sns\n",
    "import matplotlib.pyplot as plt"
   ]
  },
  {
   "cell_type": "code",
   "execution_count": 2,
   "id": "77a68a90",
   "metadata": {
    "deletable": false,
    "id": "77a68a90"
   },
   "outputs": [],
   "source": [
    "try:\n",
    "    data = pd.read_csv('C:/Users/user/practicum/Porfolio/2. Reliability research/data.csv')\n",
    "except:\n",
    "    data = pd.read_csv('data.csv')"
   ]
  },
  {
   "cell_type": "markdown",
   "id": "45365635",
   "metadata": {
    "id": "45365635"
   },
   "source": [
    "Выведем первые 20 строчек датафрейма `data` на экран."
   ]
  },
  {
   "cell_type": "code",
   "execution_count": 3,
   "id": "b0451a9a",
   "metadata": {
    "deletable": false,
    "id": "b0451a9a",
    "outputId": "1a8f3ef2-d323-4ec2-ddf7-89670b5944c4"
   },
   "outputs": [
    {
     "data": {
      "text/html": [
       "<div>\n",
       "<style scoped>\n",
       "    .dataframe tbody tr th:only-of-type {\n",
       "        vertical-align: middle;\n",
       "    }\n",
       "\n",
       "    .dataframe tbody tr th {\n",
       "        vertical-align: top;\n",
       "    }\n",
       "\n",
       "    .dataframe thead th {\n",
       "        text-align: right;\n",
       "    }\n",
       "</style>\n",
       "<table border=\"1\" class=\"dataframe\">\n",
       "  <thead>\n",
       "    <tr style=\"text-align: right;\">\n",
       "      <th></th>\n",
       "      <th>children</th>\n",
       "      <th>days_employed</th>\n",
       "      <th>dob_years</th>\n",
       "      <th>education</th>\n",
       "      <th>education_id</th>\n",
       "      <th>family_status</th>\n",
       "      <th>family_status_id</th>\n",
       "      <th>gender</th>\n",
       "      <th>income_type</th>\n",
       "      <th>debt</th>\n",
       "      <th>total_income</th>\n",
       "      <th>purpose</th>\n",
       "    </tr>\n",
       "  </thead>\n",
       "  <tbody>\n",
       "    <tr>\n",
       "      <th>0</th>\n",
       "      <td>1</td>\n",
       "      <td>-8437.673028</td>\n",
       "      <td>42</td>\n",
       "      <td>высшее</td>\n",
       "      <td>0</td>\n",
       "      <td>женат / замужем</td>\n",
       "      <td>0</td>\n",
       "      <td>F</td>\n",
       "      <td>сотрудник</td>\n",
       "      <td>0</td>\n",
       "      <td>253875.639453</td>\n",
       "      <td>покупка жилья</td>\n",
       "    </tr>\n",
       "    <tr>\n",
       "      <th>1</th>\n",
       "      <td>1</td>\n",
       "      <td>-4024.803754</td>\n",
       "      <td>36</td>\n",
       "      <td>среднее</td>\n",
       "      <td>1</td>\n",
       "      <td>женат / замужем</td>\n",
       "      <td>0</td>\n",
       "      <td>F</td>\n",
       "      <td>сотрудник</td>\n",
       "      <td>0</td>\n",
       "      <td>112080.014102</td>\n",
       "      <td>приобретение автомобиля</td>\n",
       "    </tr>\n",
       "    <tr>\n",
       "      <th>2</th>\n",
       "      <td>0</td>\n",
       "      <td>-5623.422610</td>\n",
       "      <td>33</td>\n",
       "      <td>Среднее</td>\n",
       "      <td>1</td>\n",
       "      <td>женат / замужем</td>\n",
       "      <td>0</td>\n",
       "      <td>M</td>\n",
       "      <td>сотрудник</td>\n",
       "      <td>0</td>\n",
       "      <td>145885.952297</td>\n",
       "      <td>покупка жилья</td>\n",
       "    </tr>\n",
       "    <tr>\n",
       "      <th>3</th>\n",
       "      <td>3</td>\n",
       "      <td>-4124.747207</td>\n",
       "      <td>32</td>\n",
       "      <td>среднее</td>\n",
       "      <td>1</td>\n",
       "      <td>женат / замужем</td>\n",
       "      <td>0</td>\n",
       "      <td>M</td>\n",
       "      <td>сотрудник</td>\n",
       "      <td>0</td>\n",
       "      <td>267628.550329</td>\n",
       "      <td>дополнительное образование</td>\n",
       "    </tr>\n",
       "    <tr>\n",
       "      <th>4</th>\n",
       "      <td>0</td>\n",
       "      <td>340266.072047</td>\n",
       "      <td>53</td>\n",
       "      <td>среднее</td>\n",
       "      <td>1</td>\n",
       "      <td>гражданский брак</td>\n",
       "      <td>1</td>\n",
       "      <td>F</td>\n",
       "      <td>пенсионер</td>\n",
       "      <td>0</td>\n",
       "      <td>158616.077870</td>\n",
       "      <td>сыграть свадьбу</td>\n",
       "    </tr>\n",
       "    <tr>\n",
       "      <th>5</th>\n",
       "      <td>0</td>\n",
       "      <td>-926.185831</td>\n",
       "      <td>27</td>\n",
       "      <td>высшее</td>\n",
       "      <td>0</td>\n",
       "      <td>гражданский брак</td>\n",
       "      <td>1</td>\n",
       "      <td>M</td>\n",
       "      <td>компаньон</td>\n",
       "      <td>0</td>\n",
       "      <td>255763.565419</td>\n",
       "      <td>покупка жилья</td>\n",
       "    </tr>\n",
       "    <tr>\n",
       "      <th>6</th>\n",
       "      <td>0</td>\n",
       "      <td>-2879.202052</td>\n",
       "      <td>43</td>\n",
       "      <td>высшее</td>\n",
       "      <td>0</td>\n",
       "      <td>женат / замужем</td>\n",
       "      <td>0</td>\n",
       "      <td>F</td>\n",
       "      <td>компаньон</td>\n",
       "      <td>0</td>\n",
       "      <td>240525.971920</td>\n",
       "      <td>операции с жильем</td>\n",
       "    </tr>\n",
       "    <tr>\n",
       "      <th>7</th>\n",
       "      <td>0</td>\n",
       "      <td>-152.779569</td>\n",
       "      <td>50</td>\n",
       "      <td>СРЕДНЕЕ</td>\n",
       "      <td>1</td>\n",
       "      <td>женат / замужем</td>\n",
       "      <td>0</td>\n",
       "      <td>M</td>\n",
       "      <td>сотрудник</td>\n",
       "      <td>0</td>\n",
       "      <td>135823.934197</td>\n",
       "      <td>образование</td>\n",
       "    </tr>\n",
       "    <tr>\n",
       "      <th>8</th>\n",
       "      <td>2</td>\n",
       "      <td>-6929.865299</td>\n",
       "      <td>35</td>\n",
       "      <td>ВЫСШЕЕ</td>\n",
       "      <td>0</td>\n",
       "      <td>гражданский брак</td>\n",
       "      <td>1</td>\n",
       "      <td>F</td>\n",
       "      <td>сотрудник</td>\n",
       "      <td>0</td>\n",
       "      <td>95856.832424</td>\n",
       "      <td>на проведение свадьбы</td>\n",
       "    </tr>\n",
       "    <tr>\n",
       "      <th>9</th>\n",
       "      <td>0</td>\n",
       "      <td>-2188.756445</td>\n",
       "      <td>41</td>\n",
       "      <td>среднее</td>\n",
       "      <td>1</td>\n",
       "      <td>женат / замужем</td>\n",
       "      <td>0</td>\n",
       "      <td>M</td>\n",
       "      <td>сотрудник</td>\n",
       "      <td>0</td>\n",
       "      <td>144425.938277</td>\n",
       "      <td>покупка жилья для семьи</td>\n",
       "    </tr>\n",
       "    <tr>\n",
       "      <th>10</th>\n",
       "      <td>2</td>\n",
       "      <td>-4171.483647</td>\n",
       "      <td>36</td>\n",
       "      <td>высшее</td>\n",
       "      <td>0</td>\n",
       "      <td>женат / замужем</td>\n",
       "      <td>0</td>\n",
       "      <td>M</td>\n",
       "      <td>компаньон</td>\n",
       "      <td>0</td>\n",
       "      <td>113943.491460</td>\n",
       "      <td>покупка недвижимости</td>\n",
       "    </tr>\n",
       "    <tr>\n",
       "      <th>11</th>\n",
       "      <td>0</td>\n",
       "      <td>-792.701887</td>\n",
       "      <td>40</td>\n",
       "      <td>среднее</td>\n",
       "      <td>1</td>\n",
       "      <td>женат / замужем</td>\n",
       "      <td>0</td>\n",
       "      <td>F</td>\n",
       "      <td>сотрудник</td>\n",
       "      <td>0</td>\n",
       "      <td>77069.234271</td>\n",
       "      <td>покупка коммерческой недвижимости</td>\n",
       "    </tr>\n",
       "    <tr>\n",
       "      <th>12</th>\n",
       "      <td>0</td>\n",
       "      <td>NaN</td>\n",
       "      <td>65</td>\n",
       "      <td>среднее</td>\n",
       "      <td>1</td>\n",
       "      <td>гражданский брак</td>\n",
       "      <td>1</td>\n",
       "      <td>M</td>\n",
       "      <td>пенсионер</td>\n",
       "      <td>0</td>\n",
       "      <td>NaN</td>\n",
       "      <td>сыграть свадьбу</td>\n",
       "    </tr>\n",
       "    <tr>\n",
       "      <th>13</th>\n",
       "      <td>0</td>\n",
       "      <td>-1846.641941</td>\n",
       "      <td>54</td>\n",
       "      <td>неоконченное высшее</td>\n",
       "      <td>2</td>\n",
       "      <td>женат / замужем</td>\n",
       "      <td>0</td>\n",
       "      <td>F</td>\n",
       "      <td>сотрудник</td>\n",
       "      <td>0</td>\n",
       "      <td>130458.228857</td>\n",
       "      <td>приобретение автомобиля</td>\n",
       "    </tr>\n",
       "    <tr>\n",
       "      <th>14</th>\n",
       "      <td>0</td>\n",
       "      <td>-1844.956182</td>\n",
       "      <td>56</td>\n",
       "      <td>высшее</td>\n",
       "      <td>0</td>\n",
       "      <td>гражданский брак</td>\n",
       "      <td>1</td>\n",
       "      <td>F</td>\n",
       "      <td>компаньон</td>\n",
       "      <td>1</td>\n",
       "      <td>165127.911772</td>\n",
       "      <td>покупка жилой недвижимости</td>\n",
       "    </tr>\n",
       "    <tr>\n",
       "      <th>15</th>\n",
       "      <td>1</td>\n",
       "      <td>-972.364419</td>\n",
       "      <td>26</td>\n",
       "      <td>среднее</td>\n",
       "      <td>1</td>\n",
       "      <td>женат / замужем</td>\n",
       "      <td>0</td>\n",
       "      <td>F</td>\n",
       "      <td>сотрудник</td>\n",
       "      <td>0</td>\n",
       "      <td>116820.904450</td>\n",
       "      <td>строительство собственной недвижимости</td>\n",
       "    </tr>\n",
       "    <tr>\n",
       "      <th>16</th>\n",
       "      <td>0</td>\n",
       "      <td>-1719.934226</td>\n",
       "      <td>35</td>\n",
       "      <td>среднее</td>\n",
       "      <td>1</td>\n",
       "      <td>женат / замужем</td>\n",
       "      <td>0</td>\n",
       "      <td>F</td>\n",
       "      <td>сотрудник</td>\n",
       "      <td>0</td>\n",
       "      <td>289202.704229</td>\n",
       "      <td>недвижимость</td>\n",
       "    </tr>\n",
       "    <tr>\n",
       "      <th>17</th>\n",
       "      <td>0</td>\n",
       "      <td>-2369.999720</td>\n",
       "      <td>33</td>\n",
       "      <td>высшее</td>\n",
       "      <td>0</td>\n",
       "      <td>гражданский брак</td>\n",
       "      <td>1</td>\n",
       "      <td>M</td>\n",
       "      <td>сотрудник</td>\n",
       "      <td>0</td>\n",
       "      <td>90410.586745</td>\n",
       "      <td>строительство недвижимости</td>\n",
       "    </tr>\n",
       "    <tr>\n",
       "      <th>18</th>\n",
       "      <td>0</td>\n",
       "      <td>400281.136913</td>\n",
       "      <td>53</td>\n",
       "      <td>среднее</td>\n",
       "      <td>1</td>\n",
       "      <td>вдовец / вдова</td>\n",
       "      <td>2</td>\n",
       "      <td>F</td>\n",
       "      <td>пенсионер</td>\n",
       "      <td>0</td>\n",
       "      <td>56823.777243</td>\n",
       "      <td>на покупку подержанного автомобиля</td>\n",
       "    </tr>\n",
       "    <tr>\n",
       "      <th>19</th>\n",
       "      <td>0</td>\n",
       "      <td>-10038.818549</td>\n",
       "      <td>48</td>\n",
       "      <td>СРЕДНЕЕ</td>\n",
       "      <td>1</td>\n",
       "      <td>в разводе</td>\n",
       "      <td>3</td>\n",
       "      <td>F</td>\n",
       "      <td>сотрудник</td>\n",
       "      <td>0</td>\n",
       "      <td>242831.107982</td>\n",
       "      <td>на покупку своего автомобиля</td>\n",
       "    </tr>\n",
       "  </tbody>\n",
       "</table>\n",
       "</div>"
      ],
      "text/plain": [
       "    children  days_employed  dob_years            education  education_id  \\\n",
       "0          1   -8437.673028         42               высшее             0   \n",
       "1          1   -4024.803754         36              среднее             1   \n",
       "2          0   -5623.422610         33              Среднее             1   \n",
       "3          3   -4124.747207         32              среднее             1   \n",
       "4          0  340266.072047         53              среднее             1   \n",
       "5          0    -926.185831         27               высшее             0   \n",
       "6          0   -2879.202052         43               высшее             0   \n",
       "7          0    -152.779569         50              СРЕДНЕЕ             1   \n",
       "8          2   -6929.865299         35               ВЫСШЕЕ             0   \n",
       "9          0   -2188.756445         41              среднее             1   \n",
       "10         2   -4171.483647         36               высшее             0   \n",
       "11         0    -792.701887         40              среднее             1   \n",
       "12         0            NaN         65              среднее             1   \n",
       "13         0   -1846.641941         54  неоконченное высшее             2   \n",
       "14         0   -1844.956182         56               высшее             0   \n",
       "15         1    -972.364419         26              среднее             1   \n",
       "16         0   -1719.934226         35              среднее             1   \n",
       "17         0   -2369.999720         33               высшее             0   \n",
       "18         0  400281.136913         53              среднее             1   \n",
       "19         0  -10038.818549         48              СРЕДНЕЕ             1   \n",
       "\n",
       "       family_status  family_status_id gender income_type  debt  \\\n",
       "0    женат / замужем                 0      F   сотрудник     0   \n",
       "1    женат / замужем                 0      F   сотрудник     0   \n",
       "2    женат / замужем                 0      M   сотрудник     0   \n",
       "3    женат / замужем                 0      M   сотрудник     0   \n",
       "4   гражданский брак                 1      F   пенсионер     0   \n",
       "5   гражданский брак                 1      M   компаньон     0   \n",
       "6    женат / замужем                 0      F   компаньон     0   \n",
       "7    женат / замужем                 0      M   сотрудник     0   \n",
       "8   гражданский брак                 1      F   сотрудник     0   \n",
       "9    женат / замужем                 0      M   сотрудник     0   \n",
       "10   женат / замужем                 0      M   компаньон     0   \n",
       "11   женат / замужем                 0      F   сотрудник     0   \n",
       "12  гражданский брак                 1      M   пенсионер     0   \n",
       "13   женат / замужем                 0      F   сотрудник     0   \n",
       "14  гражданский брак                 1      F   компаньон     1   \n",
       "15   женат / замужем                 0      F   сотрудник     0   \n",
       "16   женат / замужем                 0      F   сотрудник     0   \n",
       "17  гражданский брак                 1      M   сотрудник     0   \n",
       "18    вдовец / вдова                 2      F   пенсионер     0   \n",
       "19         в разводе                 3      F   сотрудник     0   \n",
       "\n",
       "     total_income                                 purpose  \n",
       "0   253875.639453                           покупка жилья  \n",
       "1   112080.014102                 приобретение автомобиля  \n",
       "2   145885.952297                           покупка жилья  \n",
       "3   267628.550329              дополнительное образование  \n",
       "4   158616.077870                         сыграть свадьбу  \n",
       "5   255763.565419                           покупка жилья  \n",
       "6   240525.971920                       операции с жильем  \n",
       "7   135823.934197                             образование  \n",
       "8    95856.832424                   на проведение свадьбы  \n",
       "9   144425.938277                 покупка жилья для семьи  \n",
       "10  113943.491460                    покупка недвижимости  \n",
       "11   77069.234271       покупка коммерческой недвижимости  \n",
       "12            NaN                         сыграть свадьбу  \n",
       "13  130458.228857                 приобретение автомобиля  \n",
       "14  165127.911772              покупка жилой недвижимости  \n",
       "15  116820.904450  строительство собственной недвижимости  \n",
       "16  289202.704229                            недвижимость  \n",
       "17   90410.586745              строительство недвижимости  \n",
       "18   56823.777243      на покупку подержанного автомобиля  \n",
       "19  242831.107982            на покупку своего автомобиля  "
      ]
     },
     "execution_count": 3,
     "metadata": {},
     "output_type": "execute_result"
    }
   ],
   "source": [
    "data.head(20)"
   ]
  },
  {
   "cell_type": "markdown",
   "id": "0ed8f27f",
   "metadata": {
    "id": "0ed8f27f"
   },
   "source": [
    "Выведем основную информацию о датафрейме с помощью метода `info()`."
   ]
  },
  {
   "cell_type": "code",
   "execution_count": 4,
   "id": "ab3f863b",
   "metadata": {
    "deletable": false,
    "id": "ab3f863b",
    "outputId": "15376089-8dad-46c9-b520-c05248d43158"
   },
   "outputs": [
    {
     "name": "stdout",
     "output_type": "stream",
     "text": [
      "<class 'pandas.core.frame.DataFrame'>\n",
      "RangeIndex: 21525 entries, 0 to 21524\n",
      "Data columns (total 12 columns):\n",
      " #   Column            Non-Null Count  Dtype  \n",
      "---  ------            --------------  -----  \n",
      " 0   children          21525 non-null  int64  \n",
      " 1   days_employed     19351 non-null  float64\n",
      " 2   dob_years         21525 non-null  int64  \n",
      " 3   education         21525 non-null  object \n",
      " 4   education_id      21525 non-null  int64  \n",
      " 5   family_status     21525 non-null  object \n",
      " 6   family_status_id  21525 non-null  int64  \n",
      " 7   gender            21525 non-null  object \n",
      " 8   income_type       21525 non-null  object \n",
      " 9   debt              21525 non-null  int64  \n",
      " 10  total_income      19351 non-null  float64\n",
      " 11  purpose           21525 non-null  object \n",
      "dtypes: float64(2), int64(5), object(5)\n",
      "memory usage: 2.0+ MB\n"
     ]
    }
   ],
   "source": [
    "data.info()"
   ]
  },
  {
   "cell_type": "markdown",
   "id": "a1f4e2b3",
   "metadata": {},
   "source": [
    "**Выводы:**\n",
    "    \n",
    "После открытия таблицы и ознакомления с данными, видно, что количество строк в столбцах `days_employed` и `debt` отличается. Тип данных `float64` говорит о том, что в данных столбцах могут быть пропущенные значения типа `NaN`.\n",
    "\n",
    "[Вернуться в начало](#Содержание)"
   ]
  },
  {
   "cell_type": "markdown",
   "id": "60e3e22d",
   "metadata": {
    "id": "60e3e22d"
   },
   "source": [
    "## Предобработка данных"
   ]
  },
  {
   "cell_type": "markdown",
   "id": "03dc170c",
   "metadata": {
    "deletable": false,
    "editable": false,
    "id": "03dc170c"
   },
   "source": [
    "### Удаление пропусков"
   ]
  },
  {
   "cell_type": "markdown",
   "id": "a4f54eef",
   "metadata": {
    "id": "a4f54eef"
   },
   "source": [
    "Выведем количество пропущенных значений для каждого столбца."
   ]
  },
  {
   "cell_type": "code",
   "execution_count": 5,
   "id": "2dc372b2",
   "metadata": {
    "deletable": false,
    "id": "2dc372b2",
    "outputId": "81f4d817-781c-465c-ed15-91ce4446810d"
   },
   "outputs": [
    {
     "data": {
      "text/plain": [
       "children               0\n",
       "days_employed       2174\n",
       "dob_years              0\n",
       "education              0\n",
       "education_id           0\n",
       "family_status          0\n",
       "family_status_id       0\n",
       "gender                 0\n",
       "income_type            0\n",
       "debt                   0\n",
       "total_income        2174\n",
       "purpose                0\n",
       "dtype: int64"
      ]
     },
     "execution_count": 5,
     "metadata": {},
     "output_type": "execute_result"
    }
   ],
   "source": [
    "data.isna().sum()"
   ]
  },
  {
   "cell_type": "markdown",
   "id": "14f011b1",
   "metadata": {
    "id": "14f011b1"
   },
   "source": [
    "В двух столбцах есть пропущенные значения. Один из них — `days_employed`. Пропуски в этом столбце мы обработаем на следующем этапе. Другой столбец с пропущенными значениями — `total_income` — хранит данные о доходах. На сумму дохода сильнее всего влияет тип занятости, поэтому заполнить пропуски в этом столбце нужно медианным значением по каждому типу из столбца `income_type`. Например, у человека с типом занятости `сотрудник` пропуск в столбце `total_income` должен быть заполнен медианным доходом среди всех записей с тем же типом."
   ]
  },
  {
   "cell_type": "code",
   "execution_count": 6,
   "id": "bdabfb6e",
   "metadata": {
    "deletable": false,
    "id": "bdabfb6e"
   },
   "outputs": [],
   "source": [
    "for t in data['income_type'].unique():\n",
    "    data.loc[(data['income_type'] == t) & (data['total_income'].isna()), 'total_income'] = \\\n",
    "    data.loc[(data['income_type'] == t), 'total_income'].median()"
   ]
  },
  {
   "cell_type": "markdown",
   "id": "5be34059",
   "metadata": {
    "deletable": false,
    "editable": false,
    "id": "5be34059"
   },
   "source": [
    "### Обработка аномальных значений"
   ]
  },
  {
   "cell_type": "markdown",
   "id": "a87606cb",
   "metadata": {
    "id": "a87606cb"
   },
   "source": [
    "В данных могут встречаться артефакты (аномалии) — значения, которые не отражают действительность и появились по какой-то ошибке. Таким артефактом будет отрицательное количество дней трудового стажа в столбце `days_employed`. Для реальных данных это нормально. Обработаем значения в этом столбце: заменим все отрицательные значения положительными с помощью метода `abs()`."
   ]
  },
  {
   "cell_type": "code",
   "execution_count": 7,
   "id": "020c46cc",
   "metadata": {
    "deletable": false,
    "id": "020c46cc"
   },
   "outputs": [],
   "source": [
    "data['days_employed'] = data['days_employed'].abs()"
   ]
  },
  {
   "cell_type": "markdown",
   "id": "45538a3a",
   "metadata": {
    "id": "45538a3a"
   },
   "source": [
    "Для каждого типа занятости выведем медианное значение трудового стажа `days_employed` в днях."
   ]
  },
  {
   "cell_type": "code",
   "execution_count": 8,
   "id": "cd3e6328",
   "metadata": {
    "deletable": false,
    "id": "cd3e6328",
    "outputId": "801ef80e-522b-4668-f34e-565af7432bcf"
   },
   "outputs": [
    {
     "data": {
      "text/plain": [
       "income_type\n",
       "безработный        366413.652744\n",
       "в декрете            3296.759962\n",
       "госслужащий          2689.368353\n",
       "компаньон            1547.382223\n",
       "пенсионер          365213.306266\n",
       "предприниматель       520.848083\n",
       "сотрудник            1574.202821\n",
       "студент               578.751554\n",
       "Name: days_employed, dtype: float64"
      ]
     },
     "execution_count": 8,
     "metadata": {},
     "output_type": "execute_result"
    }
   ],
   "source": [
    "data.groupby('income_type')['days_employed'].agg('median')"
   ]
  },
  {
   "cell_type": "markdown",
   "id": "90c5f058",
   "metadata": {
    "id": "90c5f058"
   },
   "source": [
    "У двух типов (безработные и пенсионеры) получатся аномально большие значения. Исправить такие значения сложно, поэтому оставим их как есть."
   ]
  },
  {
   "cell_type": "markdown",
   "id": "9652e50d",
   "metadata": {
    "id": "9652e50d"
   },
   "source": [
    "Выведем перечень уникальных значений столбца `children`."
   ]
  },
  {
   "cell_type": "code",
   "execution_count": 9,
   "id": "dbb37b8e",
   "metadata": {
    "deletable": false,
    "id": "dbb37b8e",
    "outputId": "6975b15c-7f95-4697-d16d-a0c79b657b03"
   },
   "outputs": [
    {
     "data": {
      "text/plain": [
       "array([-1,  0,  1,  2,  3,  4,  5, 20], dtype=int64)"
      ]
     },
     "execution_count": 9,
     "metadata": {},
     "output_type": "execute_result"
    }
   ],
   "source": [
    "data['children'].sort_values().unique()"
   ]
  },
  {
   "cell_type": "markdown",
   "id": "2b8b0715",
   "metadata": {
    "id": "2b8b0715"
   },
   "source": [
    "В столбце `children` есть два аномальных значения. Удалим строки, в которых встречаются такие аномальные значения из датафрейма `data`."
   ]
  },
  {
   "cell_type": "code",
   "execution_count": 10,
   "id": "20009df8",
   "metadata": {
    "deletable": false,
    "id": "20009df8"
   },
   "outputs": [],
   "source": [
    "data = data[(data['children'] != -1) & (data['children'] != 20)]"
   ]
  },
  {
   "cell_type": "markdown",
   "id": "8c6ac9f1",
   "metadata": {
    "id": "8c6ac9f1"
   },
   "source": [
    "Ещё раз выведем перечень уникальных значений столбца `children`, чтобы убедиться, что артефакты удалены."
   ]
  },
  {
   "cell_type": "code",
   "execution_count": 11,
   "id": "07337b81",
   "metadata": {
    "deletable": false,
    "id": "07337b81",
    "outputId": "b2097101-d49d-44d9-901b-32a65c9463d1"
   },
   "outputs": [
    {
     "data": {
      "text/plain": [
       "array([1, 0, 3, 2, 4, 5], dtype=int64)"
      ]
     },
     "execution_count": 11,
     "metadata": {},
     "output_type": "execute_result"
    }
   ],
   "source": [
    "data['children'].unique()"
   ]
  },
  {
   "cell_type": "markdown",
   "id": "ee3f52d4",
   "metadata": {
    "deletable": false,
    "editable": false,
    "id": "ee3f52d4"
   },
   "source": [
    "### Удаление пропусков (продолжение)"
   ]
  },
  {
   "cell_type": "markdown",
   "id": "a700b0e4",
   "metadata": {
    "id": "a700b0e4"
   },
   "source": [
    "Заполним пропуски в столбце `days_employed` медианными значениями по каждого типа занятости `income_type`."
   ]
  },
  {
   "cell_type": "code",
   "execution_count": 12,
   "id": "61946b83",
   "metadata": {
    "deletable": false,
    "id": "61946b83"
   },
   "outputs": [],
   "source": [
    "for t in data['income_type'].unique():\n",
    "    data.loc[(data['income_type'] == t) & (data['days_employed'].isna()), 'days_employed'] = \\\n",
    "    data.loc[(data['income_type'] == t), 'days_employed'].median()"
   ]
  },
  {
   "cell_type": "markdown",
   "id": "550dcd9b",
   "metadata": {
    "id": "550dcd9b"
   },
   "source": [
    "Убедимся, что все пропуски заполнены. Проверим себя и ещё раз выведем количество пропущенных значений для каждого столбца."
   ]
  },
  {
   "cell_type": "code",
   "execution_count": 13,
   "id": "937c7014",
   "metadata": {
    "deletable": false,
    "id": "937c7014",
    "outputId": "8da1e4e1-358e-4e87-98c9-f261bce0a7b2"
   },
   "outputs": [
    {
     "data": {
      "text/plain": [
       "children            0\n",
       "days_employed       0\n",
       "dob_years           0\n",
       "education           0\n",
       "education_id        0\n",
       "family_status       0\n",
       "family_status_id    0\n",
       "gender              0\n",
       "income_type         0\n",
       "debt                0\n",
       "total_income        0\n",
       "purpose             0\n",
       "dtype: int64"
      ]
     },
     "execution_count": 13,
     "metadata": {},
     "output_type": "execute_result"
    }
   ],
   "source": [
    "data.isna().sum()"
   ]
  },
  {
   "cell_type": "markdown",
   "id": "d522e295",
   "metadata": {
    "deletable": false,
    "editable": false,
    "id": "d522e295"
   },
   "source": [
    "### Изменение типов данных"
   ]
  },
  {
   "cell_type": "markdown",
   "id": "c229c581",
   "metadata": {
    "id": "c229c581"
   },
   "source": [
    "Заменим вещественный тип данных в столбце `total_income` на целочисленный с помощью метода `astype()`."
   ]
  },
  {
   "cell_type": "code",
   "execution_count": 14,
   "id": "31036462",
   "metadata": {
    "deletable": false,
    "id": "31036462"
   },
   "outputs": [],
   "source": [
    "data['total_income'] = data['total_income'].astype(int)"
   ]
  },
  {
   "cell_type": "markdown",
   "id": "b8e3d1d9",
   "metadata": {
    "deletable": false,
    "editable": false,
    "id": "b8e3d1d9"
   },
   "source": [
    "### Обработка дубликатов"
   ]
  },
  {
   "cell_type": "markdown",
   "id": "9be53c49",
   "metadata": {
    "id": "9be53c49"
   },
   "source": [
    "Обработаем неявные дубликаты в столбце `education`. В этом столбце есть одни и те же значения, но записанные по-разному: с использованием заглавных и строчных букв. Приведем их к нижнему регистру."
   ]
  },
  {
   "cell_type": "code",
   "execution_count": 15,
   "id": "d89e73e1",
   "metadata": {
    "deletable": false,
    "id": "d89e73e1"
   },
   "outputs": [],
   "source": [
    "data['education'] = data['education'].str.lower()"
   ]
  },
  {
   "cell_type": "markdown",
   "id": "01d4500e",
   "metadata": {
    "id": "01d4500e"
   },
   "source": [
    "Выведем на экран количество строк-дубликатов в данных. Если такие строки присутствуют, удалим их."
   ]
  },
  {
   "cell_type": "code",
   "execution_count": 16,
   "id": "e10efb23",
   "metadata": {
    "deletable": false,
    "id": "e10efb23",
    "outputId": "9684deba-1934-42d1-99e1-cda61740f822"
   },
   "outputs": [
    {
     "data": {
      "text/plain": [
       "71"
      ]
     },
     "execution_count": 16,
     "metadata": {},
     "output_type": "execute_result"
    }
   ],
   "source": [
    "data.duplicated().sum()"
   ]
  },
  {
   "cell_type": "code",
   "execution_count": 17,
   "id": "df853f20",
   "metadata": {
    "deletable": false,
    "id": "df853f20"
   },
   "outputs": [],
   "source": [
    "# Удалим обнаруженные дубликаты\n",
    "data = data.drop_duplicates()"
   ]
  },
  {
   "cell_type": "markdown",
   "id": "627be38f",
   "metadata": {
    "deletable": false,
    "editable": false,
    "id": "627be38f"
   },
   "source": [
    "### Категоризация данных"
   ]
  },
  {
   "cell_type": "markdown",
   "id": "4684c3e0",
   "metadata": {
    "id": "4684c3e0"
   },
   "source": [
    "На основании диапазонов, указанных ниже, создадим в датафрейме `data` столбец `total_income_category` с категориями:\n",
    "\n",
    "- 0–30000 — `'E'`;\n",
    "- 30001–50000 — `'D'`;\n",
    "- 50001–200000 — `'C'`;\n",
    "- 200001–1000000 — `'B'`;\n",
    "- 1000001 и выше — `'A'`.\n",
    "\n",
    "\n",
    "Например, кредитополучателю с доходом 25000 нужно назначить категорию `'E'`, а клиенту, получающему 235000, — `'B'`. Используем собственную функцию с именем `categorize_income()` и метод `apply()`."
   ]
  },
  {
   "cell_type": "code",
   "execution_count": 18,
   "id": "78965238",
   "metadata": {
    "deletable": false,
    "id": "78965238"
   },
   "outputs": [],
   "source": [
    "def categorize_income(income):\n",
    "    try:\n",
    "        if 0 <= income <= 30000:\n",
    "            return 'E'\n",
    "        elif 30001 <= income <= 50000:\n",
    "            return 'D'\n",
    "        elif 50001 <= income <= 200000:\n",
    "            return 'C'\n",
    "        elif 200001 <= income <= 1000000:\n",
    "            return 'B'\n",
    "        elif income >= 1000001:\n",
    "            return 'A'\n",
    "    except:\n",
    "        pass"
   ]
  },
  {
   "cell_type": "code",
   "execution_count": 19,
   "id": "0980ada1",
   "metadata": {
    "deletable": false,
    "id": "0980ada1"
   },
   "outputs": [],
   "source": [
    "# Применяем написанную функцию к столбцу `total_income`\n",
    "data['total_income_category'] = data['total_income'].apply(categorize_income)"
   ]
  },
  {
   "cell_type": "markdown",
   "id": "9917bba0",
   "metadata": {
    "id": "9917bba0"
   },
   "source": [
    "Выведем на экран перечень уникальных целей взятия кредита из столбца `purpose`."
   ]
  },
  {
   "cell_type": "code",
   "execution_count": 20,
   "id": "ee07b65e",
   "metadata": {
    "deletable": false,
    "id": "ee07b65e",
    "outputId": "673c12d9-7d7e-4ae0-9812-c622c89dd244"
   },
   "outputs": [
    {
     "data": {
      "text/plain": [
       "array(['покупка жилья', 'приобретение автомобиля',\n",
       "       'дополнительное образование', 'сыграть свадьбу',\n",
       "       'операции с жильем', 'образование', 'на проведение свадьбы',\n",
       "       'покупка жилья для семьи', 'покупка недвижимости',\n",
       "       'покупка коммерческой недвижимости', 'покупка жилой недвижимости',\n",
       "       'строительство собственной недвижимости', 'недвижимость',\n",
       "       'строительство недвижимости', 'на покупку подержанного автомобиля',\n",
       "       'на покупку своего автомобиля',\n",
       "       'операции с коммерческой недвижимостью',\n",
       "       'строительство жилой недвижимости', 'жилье',\n",
       "       'операции со своей недвижимостью', 'автомобили',\n",
       "       'заняться образованием', 'сделка с подержанным автомобилем',\n",
       "       'получение образования', 'автомобиль', 'свадьба',\n",
       "       'получение дополнительного образования', 'покупка своего жилья',\n",
       "       'операции с недвижимостью', 'получение высшего образования',\n",
       "       'свой автомобиль', 'сделка с автомобилем',\n",
       "       'профильное образование', 'высшее образование',\n",
       "       'покупка жилья для сдачи', 'на покупку автомобиля', 'ремонт жилью',\n",
       "       'заняться высшим образованием'], dtype=object)"
      ]
     },
     "execution_count": 20,
     "metadata": {},
     "output_type": "execute_result"
    }
   ],
   "source": [
    "data['purpose'].unique()"
   ]
  },
  {
   "cell_type": "markdown",
   "id": "52b79d56",
   "metadata": {
    "id": "52b79d56"
   },
   "source": [
    "Создадим функцию, которая на основании данных из столбца `purpose` сформирует новый столбец `purpose_category`, в который войдут следующие категории:\n",
    "\n",
    "- `'операции с автомобилем'`,\n",
    "- `'операции с недвижимостью'`,\n",
    "- `'проведение свадьбы'`,\n",
    "- `'получение образования'`.\n",
    "\n",
    "Например, если в столбце `purpose` находится подстрока `'на покупку автомобиля'`, то в столбце `purpose_category` должна появиться строка `'операции с автомобилем'`.\n",
    "\n",
    "Используем собственную функцию с именем `categorize_purpose()` и метод `apply()`. Изучим данные в столбце `purpose` и определим, какие подстроки помогут нам правильно определить категорию."
   ]
  },
  {
   "cell_type": "code",
   "execution_count": 21,
   "id": "be41da5d",
   "metadata": {
    "deletable": false,
    "id": "be41da5d"
   },
   "outputs": [],
   "source": [
    "def categorize_purpose(row):\n",
    "    try:\n",
    "        if 'автом' in row:\n",
    "            return 'операции с автомобилем'\n",
    "        elif 'жил' in row or 'недвиж' in row:\n",
    "            return 'операции с недвижимостью'\n",
    "        elif 'свад' in row:\n",
    "            return 'проведение свадьбы'\n",
    "        elif 'образов' in row:\n",
    "            return 'получение образования'\n",
    "    except:\n",
    "        return 'нет категории'"
   ]
  },
  {
   "cell_type": "code",
   "execution_count": 22,
   "id": "94c4a19a",
   "metadata": {
    "deletable": false,
    "id": "94c4a19a"
   },
   "outputs": [],
   "source": [
    "# Применяем написанную функцию к столбцу `purpose`\n",
    "data['purpose_category'] = data['purpose'].apply(categorize_purpose)"
   ]
  },
  {
   "cell_type": "markdown",
   "id": "7568aeee",
   "metadata": {},
   "source": [
    "[Вернуться в начало](#Содержание)"
   ]
  },
  {
   "cell_type": "markdown",
   "id": "3d596c34",
   "metadata": {
    "id": "3d596c34"
   },
   "source": [
    "## Исследуем данные и ответим на вопросы"
   ]
  },
  {
   "cell_type": "markdown",
   "id": "62a7c1b3",
   "metadata": {},
   "source": [
    "Напишем функцию, которая будет отображать % задолженности в зависимости от нужного нам параметра."
   ]
  },
  {
   "cell_type": "code",
   "execution_count": 23,
   "id": "5551503a",
   "metadata": {},
   "outputs": [],
   "source": [
    "def pivot(data, index):\n",
    "    \n",
    "    pivot = data.pivot_table(index = index, values = 'debt', aggfunc = ['count', 'sum', 'mean']).reset_index()\n",
    "    pivot.columns = [index, 'Кол-во клиентов', 'Кол-во должников', 'Доля невозврата']\n",
    "    display(pivot.sort_values('Доля невозврата', ascending = False))\n",
    "    \n",
    "    sns.barplot(data = pivot,\n",
    "                x = index,\n",
    "                y = 'Доля невозврата',\n",
    "                palette = 'YlOrBr')\n",
    "    plt.xlabel('Количество детей')\n",
    "    plt.xticks(rotation = 30)\n",
    "    plt.ylabel('% задолженности')\n",
    "    plt.show();"
   ]
  },
  {
   "cell_type": "markdown",
   "id": "648db036",
   "metadata": {
    "id": "648db036"
   },
   "source": [
    "### Есть ли зависимость между количеством детей и возвратом кредита в срок?"
   ]
  },
  {
   "cell_type": "code",
   "execution_count": 24,
   "id": "aced39e6",
   "metadata": {},
   "outputs": [
    {
     "data": {
      "text/html": [
       "<div>\n",
       "<style scoped>\n",
       "    .dataframe tbody tr th:only-of-type {\n",
       "        vertical-align: middle;\n",
       "    }\n",
       "\n",
       "    .dataframe tbody tr th {\n",
       "        vertical-align: top;\n",
       "    }\n",
       "\n",
       "    .dataframe thead th {\n",
       "        text-align: right;\n",
       "    }\n",
       "</style>\n",
       "<table border=\"1\" class=\"dataframe\">\n",
       "  <thead>\n",
       "    <tr style=\"text-align: right;\">\n",
       "      <th></th>\n",
       "      <th>children</th>\n",
       "      <th>Кол-во клиентов</th>\n",
       "      <th>Кол-во должников</th>\n",
       "      <th>Доля невозврата</th>\n",
       "    </tr>\n",
       "  </thead>\n",
       "  <tbody>\n",
       "    <tr>\n",
       "      <th>4</th>\n",
       "      <td>4</td>\n",
       "      <td>41</td>\n",
       "      <td>4</td>\n",
       "      <td>0.097561</td>\n",
       "    </tr>\n",
       "    <tr>\n",
       "      <th>2</th>\n",
       "      <td>2</td>\n",
       "      <td>2052</td>\n",
       "      <td>194</td>\n",
       "      <td>0.094542</td>\n",
       "    </tr>\n",
       "    <tr>\n",
       "      <th>1</th>\n",
       "      <td>1</td>\n",
       "      <td>4808</td>\n",
       "      <td>444</td>\n",
       "      <td>0.092346</td>\n",
       "    </tr>\n",
       "    <tr>\n",
       "      <th>3</th>\n",
       "      <td>3</td>\n",
       "      <td>330</td>\n",
       "      <td>27</td>\n",
       "      <td>0.081818</td>\n",
       "    </tr>\n",
       "    <tr>\n",
       "      <th>0</th>\n",
       "      <td>0</td>\n",
       "      <td>14091</td>\n",
       "      <td>1063</td>\n",
       "      <td>0.075438</td>\n",
       "    </tr>\n",
       "    <tr>\n",
       "      <th>5</th>\n",
       "      <td>5</td>\n",
       "      <td>9</td>\n",
       "      <td>0</td>\n",
       "      <td>0.000000</td>\n",
       "    </tr>\n",
       "  </tbody>\n",
       "</table>\n",
       "</div>"
      ],
      "text/plain": [
       "   children  Кол-во клиентов  Кол-во должников  Доля невозврата\n",
       "4         4               41                 4         0.097561\n",
       "2         2             2052               194         0.094542\n",
       "1         1             4808               444         0.092346\n",
       "3         3              330                27         0.081818\n",
       "0         0            14091              1063         0.075438\n",
       "5         5                9                 0         0.000000"
      ]
     },
     "metadata": {},
     "output_type": "display_data"
    },
    {
     "data": {
      "image/png": "[encoded data removed]",
      "text/plain": [
       "<Figure size 640x480 with 1 Axes>"
      ]
     },
     "metadata": {},
     "output_type": "display_data"
    }
   ],
   "source": [
    "children_pivot = pivot(data, 'children')\n",
    "children_pivot"
   ]
  },
  {
   "cell_type": "markdown",
   "id": "0b757821",
   "metadata": {},
   "source": [
    "**Вывод:** \n",
    "\n",
    "Как видно из полученной таблицы, количество многодетных должников (3 и более детей) слишком мало, чтобы делать по ним выводы. Что же касается должников с 0-2 детьми, то процент тех, кто имел задолженность по возврату кредита растет вместе с количеством детей."
   ]
  },
  {
   "cell_type": "markdown",
   "id": "74c9b3a7",
   "metadata": {
    "id": "74c9b3a7"
   },
   "source": [
    "### Есть ли зависимость между семейным положением и возвратом кредита в срок?"
   ]
  },
  {
   "cell_type": "code",
   "execution_count": 25,
   "id": "255b3cf9",
   "metadata": {},
   "outputs": [
    {
     "data": {
      "text/html": [
       "<div>\n",
       "<style scoped>\n",
       "    .dataframe tbody tr th:only-of-type {\n",
       "        vertical-align: middle;\n",
       "    }\n",
       "\n",
       "    .dataframe tbody tr th {\n",
       "        vertical-align: top;\n",
       "    }\n",
       "\n",
       "    .dataframe thead th {\n",
       "        text-align: right;\n",
       "    }\n",
       "</style>\n",
       "<table border=\"1\" class=\"dataframe\">\n",
       "  <thead>\n",
       "    <tr style=\"text-align: right;\">\n",
       "      <th></th>\n",
       "      <th>family_status</th>\n",
       "      <th>Кол-во клиентов</th>\n",
       "      <th>Кол-во должников</th>\n",
       "      <th>Доля невозврата</th>\n",
       "    </tr>\n",
       "  </thead>\n",
       "  <tbody>\n",
       "    <tr>\n",
       "      <th>0</th>\n",
       "      <td>Не женат / не замужем</td>\n",
       "      <td>2796</td>\n",
       "      <td>273</td>\n",
       "      <td>0.097639</td>\n",
       "    </tr>\n",
       "    <tr>\n",
       "      <th>3</th>\n",
       "      <td>гражданский брак</td>\n",
       "      <td>4134</td>\n",
       "      <td>385</td>\n",
       "      <td>0.093130</td>\n",
       "    </tr>\n",
       "    <tr>\n",
       "      <th>4</th>\n",
       "      <td>женат / замужем</td>\n",
       "      <td>12261</td>\n",
       "      <td>927</td>\n",
       "      <td>0.075606</td>\n",
       "    </tr>\n",
       "    <tr>\n",
       "      <th>1</th>\n",
       "      <td>в разводе</td>\n",
       "      <td>1189</td>\n",
       "      <td>84</td>\n",
       "      <td>0.070648</td>\n",
       "    </tr>\n",
       "    <tr>\n",
       "      <th>2</th>\n",
       "      <td>вдовец / вдова</td>\n",
       "      <td>951</td>\n",
       "      <td>63</td>\n",
       "      <td>0.066246</td>\n",
       "    </tr>\n",
       "  </tbody>\n",
       "</table>\n",
       "</div>"
      ],
      "text/plain": [
       "           family_status  Кол-во клиентов  Кол-во должников  Доля невозврата\n",
       "0  Не женат / не замужем             2796               273         0.097639\n",
       "3       гражданский брак             4134               385         0.093130\n",
       "4        женат / замужем            12261               927         0.075606\n",
       "1              в разводе             1189                84         0.070648\n",
       "2         вдовец / вдова              951                63         0.066246"
      ]
     },
     "metadata": {},
     "output_type": "display_data"
    },
    {
     "data": {
      "image/png": "[encoded data removed]",
      "text/plain": [
       "<Figure size 640x480 with 1 Axes>"
      ]
     },
     "metadata": {},
     "output_type": "display_data"
    }
   ],
   "source": [
    "family_pivot = pivot(data, 'family_status')\n",
    "family_pivot"
   ]
  },
  {
   "cell_type": "markdown",
   "id": "ac61973b",
   "metadata": {},
   "source": [
    "**Вывод:** \n",
    "\n",
    "Как видно из обновленной таблицы, люди, побывавшие в официальном браке - более надежны, чем те, кто в официальном браке не состоял. Возможно это связано с возрастом заемщика."
   ]
  },
  {
   "cell_type": "markdown",
   "id": "9529de68",
   "metadata": {
    "id": "9529de68"
   },
   "source": [
    "### Есть ли зависимость между уровнем дохода и возвратом кредита в срок?"
   ]
  },
  {
   "cell_type": "code",
   "execution_count": 26,
   "id": "f257da69",
   "metadata": {},
   "outputs": [
    {
     "data": {
      "text/html": [
       "<div>\n",
       "<style scoped>\n",
       "    .dataframe tbody tr th:only-of-type {\n",
       "        vertical-align: middle;\n",
       "    }\n",
       "\n",
       "    .dataframe tbody tr th {\n",
       "        vertical-align: top;\n",
       "    }\n",
       "\n",
       "    .dataframe thead th {\n",
       "        text-align: right;\n",
       "    }\n",
       "</style>\n",
       "<table border=\"1\" class=\"dataframe\">\n",
       "  <thead>\n",
       "    <tr style=\"text-align: right;\">\n",
       "      <th></th>\n",
       "      <th>total_income_category</th>\n",
       "      <th>Кол-во клиентов</th>\n",
       "      <th>Кол-во должников</th>\n",
       "      <th>Доля невозврата</th>\n",
       "    </tr>\n",
       "  </thead>\n",
       "  <tbody>\n",
       "    <tr>\n",
       "      <th>4</th>\n",
       "      <td>E</td>\n",
       "      <td>22</td>\n",
       "      <td>2</td>\n",
       "      <td>0.090909</td>\n",
       "    </tr>\n",
       "    <tr>\n",
       "      <th>2</th>\n",
       "      <td>C</td>\n",
       "      <td>15921</td>\n",
       "      <td>1353</td>\n",
       "      <td>0.084982</td>\n",
       "    </tr>\n",
       "    <tr>\n",
       "      <th>0</th>\n",
       "      <td>A</td>\n",
       "      <td>25</td>\n",
       "      <td>2</td>\n",
       "      <td>0.080000</td>\n",
       "    </tr>\n",
       "    <tr>\n",
       "      <th>1</th>\n",
       "      <td>B</td>\n",
       "      <td>5014</td>\n",
       "      <td>354</td>\n",
       "      <td>0.070602</td>\n",
       "    </tr>\n",
       "    <tr>\n",
       "      <th>3</th>\n",
       "      <td>D</td>\n",
       "      <td>349</td>\n",
       "      <td>21</td>\n",
       "      <td>0.060172</td>\n",
       "    </tr>\n",
       "  </tbody>\n",
       "</table>\n",
       "</div>"
      ],
      "text/plain": [
       "  total_income_category  Кол-во клиентов  Кол-во должников  Доля невозврата\n",
       "4                     E               22                 2         0.090909\n",
       "2                     C            15921              1353         0.084982\n",
       "0                     A               25                 2         0.080000\n",
       "1                     B             5014               354         0.070602\n",
       "3                     D              349                21         0.060172"
      ]
     },
     "metadata": {},
     "output_type": "display_data"
    },
    {
     "data": {
      "image/png": "[encoded data removed]",
      "text/plain": [
       "<Figure size 640x480 with 1 Axes>"
      ]
     },
     "metadata": {},
     "output_type": "display_data"
    }
   ],
   "source": [
    "income_pivot = pivot(data, 'total_income_category')\n",
    "income_pivot"
   ]
  },
  {
   "cell_type": "markdown",
   "id": "e47529f6",
   "metadata": {},
   "source": [
    "**Вывод:** \n",
    "\n",
    "Как видно из полученной таблицы, количества заёмщиков, имеющих уровень дохода A, D и E - недостаточно, чтобы сделать по ним вывод. Поэтому вывод сделать можно только по самым распростарненным категориям - B и C. Исходя из результата, можно сказать, что высокий уровень дохода увеличивает вероятность возврата кредита в срок."
   ]
  },
  {
   "cell_type": "markdown",
   "id": "1dcc9b12",
   "metadata": {
    "id": "1dcc9b12"
   },
   "source": [
    "### Как разные цели кредита влияют на его возврат в срок?"
   ]
  },
  {
   "cell_type": "code",
   "execution_count": 27,
   "id": "f28aaf36",
   "metadata": {},
   "outputs": [
    {
     "data": {
      "text/html": [
       "<div>\n",
       "<style scoped>\n",
       "    .dataframe tbody tr th:only-of-type {\n",
       "        vertical-align: middle;\n",
       "    }\n",
       "\n",
       "    .dataframe tbody tr th {\n",
       "        vertical-align: top;\n",
       "    }\n",
       "\n",
       "    .dataframe thead th {\n",
       "        text-align: right;\n",
       "    }\n",
       "</style>\n",
       "<table border=\"1\" class=\"dataframe\">\n",
       "  <thead>\n",
       "    <tr style=\"text-align: right;\">\n",
       "      <th></th>\n",
       "      <th>purpose_category</th>\n",
       "      <th>Кол-во клиентов</th>\n",
       "      <th>Кол-во должников</th>\n",
       "      <th>Доля невозврата</th>\n",
       "    </tr>\n",
       "  </thead>\n",
       "  <tbody>\n",
       "    <tr>\n",
       "      <th>0</th>\n",
       "      <td>операции с автомобилем</td>\n",
       "      <td>4279</td>\n",
       "      <td>400</td>\n",
       "      <td>0.093480</td>\n",
       "    </tr>\n",
       "    <tr>\n",
       "      <th>2</th>\n",
       "      <td>получение образования</td>\n",
       "      <td>3988</td>\n",
       "      <td>369</td>\n",
       "      <td>0.092528</td>\n",
       "    </tr>\n",
       "    <tr>\n",
       "      <th>3</th>\n",
       "      <td>проведение свадьбы</td>\n",
       "      <td>2313</td>\n",
       "      <td>183</td>\n",
       "      <td>0.079118</td>\n",
       "    </tr>\n",
       "    <tr>\n",
       "      <th>1</th>\n",
       "      <td>операции с недвижимостью</td>\n",
       "      <td>10751</td>\n",
       "      <td>780</td>\n",
       "      <td>0.072551</td>\n",
       "    </tr>\n",
       "  </tbody>\n",
       "</table>\n",
       "</div>"
      ],
      "text/plain": [
       "           purpose_category  Кол-во клиентов  Кол-во должников  \\\n",
       "0    операции с автомобилем             4279               400   \n",
       "2     получение образования             3988               369   \n",
       "3        проведение свадьбы             2313               183   \n",
       "1  операции с недвижимостью            10751               780   \n",
       "\n",
       "   Доля невозврата  \n",
       "0         0.093480  \n",
       "2         0.092528  \n",
       "3         0.079118  \n",
       "1         0.072551  "
      ]
     },
     "metadata": {},
     "output_type": "display_data"
    },
    {
     "data": {
      "image/png": "[encoded data removed]",
      "text/plain": [
       "<Figure size 640x480 with 1 Axes>"
      ]
     },
     "metadata": {},
     "output_type": "display_data"
    }
   ],
   "source": [
    "purpose_pivot = pivot(data, 'purpose_category')\n",
    "purpose_pivot"
   ]
  },
  {
   "cell_type": "markdown",
   "id": "ccf94b22",
   "metadata": {},
   "source": [
    "**Вывод:** \n",
    "\n",
    "Как видно из полученной таблицы, наибольший процент должников у заемщиков кредита с такими целями как \"операции с автомобилем\" и \"получение образования\"."
   ]
  },
  {
   "cell_type": "markdown",
   "id": "46c1f10b",
   "metadata": {
    "id": "46c1f10b"
   },
   "source": [
    "### Приведем возможные причины появления пропусков в исходных данных."
   ]
  },
  {
   "cell_type": "markdown",
   "id": "3697d2a9",
   "metadata": {
    "id": "3697d2a9"
   },
   "source": [
    "Пропуски в данных были в столбцах total_income (ежемесячный доход) и days_employed (общий трудовой стаж в днях).\n",
    "1. Для начала разберем пропуски в столбце total_income (ежемесячный доход).\n",
    "Как было сказано в задании 5 - \"На сумму дохода сильнее всего влияет тип занятости\". Для начала посмотрим на список уникальных значений столбца \"income_type\" (Тип занятости)."
   ]
  },
  {
   "cell_type": "code",
   "execution_count": 28,
   "id": "a9918d5b",
   "metadata": {},
   "outputs": [
    {
     "name": "stdout",
     "output_type": "stream",
     "text": [
      "['сотрудник' 'пенсионер' 'компаньон' 'госслужащий' 'безработный'\n",
      " 'предприниматель' 'студент' 'в декрете']\n"
     ]
    }
   ],
   "source": [
    "print (data['income_type'].unique())"
   ]
  },
  {
   "cell_type": "markdown",
   "id": "2f9eb445",
   "metadata": {},
   "source": [
    "Мы увидели такие значения, как \"безработный\" и \"студент\". В зависимости от жизненных обстоятельств, человек, подходящий под одно из этих описаний, может действительно не иметь ежемесячного дохода. Также, такие категории потенциальных заемщиков, как \"в декрете\", могут не иметь дохода, т.к. закон не предусматривает выплаты декретного пособия для неработающих женщин (ст. 6 ФЗ от 19.05.1995 №81-ФЗ)."
   ]
  },
  {
   "cell_type": "markdown",
   "id": "68f6817b",
   "metadata": {},
   "source": [
    "2. Теперь разберем пропуски в \"days_employed\" (Общий трудовой стаж в днях).  \n",
    "Опять же, обратим внимание на список уникальных значений столбца \"income_type\" (Тип занятости). \"Безработный\" заемщик, может быть вчерашним студентом, который ещё не нашел работу. Заёмщик \"в декрете\" - это может быть молодая девушка, которая после окончания университета стала матерью ещё не успев поработать или, её обеспечивает муж, давая ей возможность не работать и заниматься детьми. \n",
    "Также, человек мог работать не официально и поэтому, в его трудовой книжке не будет соответствующих отметок."
   ]
  },
  {
   "cell_type": "markdown",
   "id": "ef802834",
   "metadata": {},
   "source": [
    "3. Человеческий фактор. Люди не всегда указывают о себе всю информацию и ограничиваются полями, обязательными для заполнения. Также, возможно был сделать неправильной запрос или проведено неудачное объединение таблиц.\n",
    "4.  Технический фактор. На этапе выгрузки и загрузки данных могут возникать технические проблемы/сбои."
   ]
  },
  {
   "cell_type": "markdown",
   "id": "3137d257",
   "metadata": {
    "id": "3137d257"
   },
   "source": [
    "### Объясним, почему заполнить пропуски медианным значением — лучшее решение для количественных переменных."
   ]
  },
  {
   "cell_type": "markdown",
   "id": "cf40012a",
   "metadata": {
    "deletable": false,
    "id": "cf40012a"
   },
   "source": [
    "Потому что количественные переменные могут сильно отличаться друг от друга и, при подсчете среднего значения, мы получим искаженную цифру, которая не будет отражать действительность. Например, возьмем список значений: 1, 5, 10, 15, 35, 484 и найдем среднее и медиану."
   ]
  },
  {
   "cell_type": "code",
   "execution_count": 29,
   "id": "618be350",
   "metadata": {},
   "outputs": [
    {
     "name": "stdout",
     "output_type": "stream",
     "text": [
      "91.66666666666667\n"
     ]
    }
   ],
   "source": [
    "# Находим среднее\n",
    "bb = pd.Series([1, 5, 10, 15, 35, 484])\n",
    "print (bb.mean())"
   ]
  },
  {
   "cell_type": "code",
   "execution_count": 30,
   "id": "9958fcc6",
   "metadata": {},
   "outputs": [
    {
     "name": "stdout",
     "output_type": "stream",
     "text": [
      "12.5\n"
     ]
    }
   ],
   "source": [
    "# Находим медиану\n",
    "bb = pd.Series([1, 5, 10, 15, 35, 484])\n",
    "print (bb.median())"
   ]
  },
  {
   "cell_type": "markdown",
   "id": "10731959",
   "metadata": {},
   "source": [
    "Как мы видим из примера выше, для нашего списка среднее значение равно 91,66, а медианное 12,5. Медиана позволяет получить \"правдивые\" данные.\n",
    "\n",
    "Среднее и медиана различаются, если в выборке присутствуют выбросы (значения, выделяющиеся из общей выборки). Эти значения могут быть как аномально высокими, так и аномально низкими. Медиана позволяет нивелировать их влияние."
   ]
  },
  {
   "cell_type": "markdown",
   "id": "8b289da8",
   "metadata": {},
   "source": [
    "[Вернуться в начало](#Содержание)"
   ]
  },
  {
   "cell_type": "markdown",
   "id": "57bc304e",
   "metadata": {
    "id": "57bc304e"
   },
   "source": [
    "## Общий вывод"
   ]
  },
  {
   "cell_type": "markdown",
   "id": "620e0971",
   "metadata": {},
   "source": [
    "Для проведения требуемого исследования, сначала необходимо было предобработать представленные данные. Было выявлено, что в таблице есть пропущенные значения, а так же дубликаты. После этого, были обработаны дубликаты, а также проведена категоризация данных. Всё это позволило подготовить данные к исследованию, предотвратить появление ошибок и искаженных выводов.\n",
    "\n",
    "В результате проведенного исследования надёжности заемщиков, были выявлено:\n",
    "    \n",
    "1. Чем больше детей у заёмщика, тем больше вероятность появления задолженности по кредиту. Это актуально только для заёмщиков с 0-2 детьми, т.к. для многодетных заёмщиков (3 и более детей) слишком мало данных, чтобы делать по ним выводы.\n",
    "\n",
    "\n",
    "2. Заёмщики, побывавшие в официальном браке - более надежны, чем те, кто в официальном браке не состоял.\n",
    "    \n",
    "    \n",
    "3. Заёмщики, имеющие высокий уровень дохода, имеют низкую вероятность появления задолженностей по кредиту. Однако это применимо только к заёмщикам, имеющим самые распространенные уровни дохода -  B и C. Количества заёмщиков, имеющих уровень дохода A, D и E - недостаточно, чтобы сделать по ним вывод.\n",
    "    \n",
    "    \n",
    "4. Заёмщики, которые берут кредит с такими целями как \"операции с автомобилем\" и \"получение образования\" - имеют наибольший процент невозврата кредита в срок. Гораздо надежнее оказались заёмщики, с такими целями как \"операции с недвижимостью\" и \"проведение свадьбы\".\n",
    "\n",
    "    \n",
    "Для построения более детальной картины и для дальнейшего улучшения модели кредитного скоринга, считаю, что банку необходимо обратить внимание на следующие рекомендации:\n",
    "    \n",
    "1. Т.к. в предоставленных данных было обнаружено большое количество пропусков, считаю, что банку следует перессмотреть способ сбора и предоставления данных о клиентах. В анкету можно внести следующие изменения:\n",
    "    - сделать обязательными к заполнению поля о доходе (`total_income`) и стаже работы (`days_employed`);\n",
    "    - ввести автопроверку вводимых данных, чтобы избежать появления аномальных значений, которые были обнаружены в п.2.2.\n",
    "    \n",
    "\n",
    "2. Имеющиеся данные можно рассмотреть более детельно, учитывая несколько факторов одновременно. Например, к изучению зависимости между семейным положением и возвратом кредита в срок, стоит обратить внимание также и на возраст заёмщика. \n",
    "\n",
    "\n",
    "3. Ввести иную категоризация по доходам. Т.к. наибольшее количество заемщиков, имеет категория С, возможно следует разбить данную категорию на две дополнительных. Например, сделать категорию С1, с уровнем дохода 50001–100000, и категорию С2, с уровнем дохода 100001–200000.\n",
    "\n",
    "[Вернуться в начало](#Содержание)"
   ]
  }
 ],
 "metadata": {
  "ExecuteTimeLog": [
   {
    "duration": 92,
    "start_time": "2023-08-02T17:41:23.176Z"
   },
   {
    "duration": 13,
    "start_time": "2023-08-02T17:41:28.037Z"
   },
   {
    "duration": 624,
    "start_time": "2023-08-02T17:41:38.899Z"
   },
   {
    "duration": 51,
    "start_time": "2023-08-02T17:41:39.527Z"
   },
   {
    "duration": 29,
    "start_time": "2023-08-02T17:41:39.581Z"
   },
   {
    "duration": 48,
    "start_time": "2023-08-02T17:41:39.613Z"
   },
   {
    "duration": 55,
    "start_time": "2023-08-02T17:41:39.665Z"
   },
   {
    "duration": 31,
    "start_time": "2023-08-02T17:41:39.723Z"
   },
   {
    "duration": 26,
    "start_time": "2023-08-02T17:41:39.757Z"
   },
   {
    "duration": 13,
    "start_time": "2023-08-02T17:41:39.785Z"
   },
   {
    "duration": 20,
    "start_time": "2023-08-02T17:41:39.801Z"
   },
   {
    "duration": 25,
    "start_time": "2023-08-02T17:41:39.830Z"
   },
   {
    "duration": 82,
    "start_time": "2023-08-02T17:41:39.858Z"
   },
   {
    "duration": 22,
    "start_time": "2023-08-02T17:41:39.944Z"
   },
   {
    "duration": 7,
    "start_time": "2023-08-02T17:41:39.969Z"
   },
   {
    "duration": 33,
    "start_time": "2023-08-02T17:41:39.979Z"
   },
   {
    "duration": 68,
    "start_time": "2023-08-02T17:41:40.015Z"
   },
   {
    "duration": 37,
    "start_time": "2023-08-02T17:41:40.086Z"
   },
   {
    "duration": 25,
    "start_time": "2023-08-02T17:41:40.127Z"
   },
   {
    "duration": 19,
    "start_time": "2023-08-02T17:41:40.155Z"
   },
   {
    "duration": 23,
    "start_time": "2023-08-02T17:41:40.177Z"
   },
   {
    "duration": 10,
    "start_time": "2023-08-02T17:41:40.203Z"
   },
   {
    "duration": 44,
    "start_time": "2023-08-02T17:41:40.217Z"
   },
   {
    "duration": 14,
    "start_time": "2023-08-02T17:41:40.264Z"
   },
   {
    "duration": 11,
    "start_time": "2023-08-02T17:41:40.281Z"
   },
   {
    "duration": 9,
    "start_time": "2023-08-02T17:41:40.295Z"
   },
   {
    "duration": 22,
    "start_time": "2023-08-02T17:41:40.307Z"
   },
   {
    "duration": 9,
    "start_time": "2023-08-02T17:42:12.383Z"
   },
   {
    "duration": 13,
    "start_time": "2023-08-02T17:43:08.959Z"
   },
   {
    "duration": 10,
    "start_time": "2023-08-02T17:43:25.730Z"
   },
   {
    "duration": 12,
    "start_time": "2023-08-02T17:43:37.575Z"
   },
   {
    "duration": 9,
    "start_time": "2023-08-02T17:43:45.218Z"
   },
   {
    "duration": 6,
    "start_time": "2023-08-02T17:43:50.570Z"
   },
   {
    "duration": 9,
    "start_time": "2023-08-02T17:43:54.799Z"
   },
   {
    "duration": 12,
    "start_time": "2023-08-02T17:44:47.312Z"
   },
   {
    "duration": 23,
    "start_time": "2023-08-02T17:46:39.567Z"
   },
   {
    "duration": 20,
    "start_time": "2023-08-02T17:47:30.029Z"
   },
   {
    "duration": 6,
    "start_time": "2023-08-02T17:47:57.320Z"
   },
   {
    "duration": 19,
    "start_time": "2023-08-02T17:52:40.248Z"
   },
   {
    "duration": 22,
    "start_time": "2023-08-02T17:53:25.059Z"
   },
   {
    "duration": 23,
    "start_time": "2023-08-02T17:53:47.026Z"
   },
   {
    "duration": 30,
    "start_time": "2023-08-02T17:53:56.335Z"
   },
   {
    "duration": 33,
    "start_time": "2023-08-02T17:56:03.284Z"
   },
   {
    "duration": 21,
    "start_time": "2023-08-02T17:56:10.347Z"
   },
   {
    "duration": 22,
    "start_time": "2023-08-02T17:57:39.520Z"
   },
   {
    "duration": 20,
    "start_time": "2023-08-02T18:04:15.915Z"
   },
   {
    "duration": 35,
    "start_time": "2023-08-02T18:04:56.251Z"
   },
   {
    "duration": 37,
    "start_time": "2023-08-02T18:05:38.122Z"
   },
   {
    "duration": 27,
    "start_time": "2023-08-02T18:05:44.643Z"
   },
   {
    "duration": 8,
    "start_time": "2023-08-02T18:06:11.262Z"
   },
   {
    "duration": 8,
    "start_time": "2023-08-02T18:06:20.834Z"
   },
   {
    "duration": 22,
    "start_time": "2023-08-02T18:06:32.475Z"
   },
   {
    "duration": 11,
    "start_time": "2023-08-02T18:10:16.837Z"
   },
   {
    "duration": 8,
    "start_time": "2023-08-02T18:10:37.737Z"
   },
   {
    "duration": 7,
    "start_time": "2023-08-02T18:10:46.676Z"
   },
   {
    "duration": 8,
    "start_time": "2023-08-02T18:11:11.194Z"
   },
   {
    "duration": 582,
    "start_time": "2023-08-03T15:44:26.272Z"
   },
   {
    "duration": 26,
    "start_time": "2023-08-03T15:44:26.856Z"
   },
   {
    "duration": 30,
    "start_time": "2023-08-03T15:44:26.884Z"
   },
   {
    "duration": 13,
    "start_time": "2023-08-03T15:44:26.916Z"
   },
   {
    "duration": 47,
    "start_time": "2023-08-03T15:44:26.931Z"
   },
   {
    "duration": 3,
    "start_time": "2023-08-03T15:44:26.980Z"
   },
   {
    "duration": 18,
    "start_time": "2023-08-03T15:44:26.984Z"
   },
   {
    "duration": 21,
    "start_time": "2023-08-03T15:44:27.004Z"
   },
   {
    "duration": 14,
    "start_time": "2023-08-03T15:44:27.027Z"
   },
   {
    "duration": 16,
    "start_time": "2023-08-03T15:44:27.044Z"
   },
   {
    "duration": 37,
    "start_time": "2023-08-03T15:44:27.062Z"
   },
   {
    "duration": 9,
    "start_time": "2023-08-03T15:44:27.100Z"
   },
   {
    "duration": 17,
    "start_time": "2023-08-03T15:44:27.111Z"
   },
   {
    "duration": 20,
    "start_time": "2023-08-03T15:44:27.129Z"
   },
   {
    "duration": 47,
    "start_time": "2023-08-03T15:44:27.151Z"
   },
   {
    "duration": 21,
    "start_time": "2023-08-03T15:44:27.200Z"
   },
   {
    "duration": 4,
    "start_time": "2023-08-03T15:44:27.223Z"
   },
   {
    "duration": 26,
    "start_time": "2023-08-03T15:44:27.228Z"
   },
   {
    "duration": 18,
    "start_time": "2023-08-03T15:44:27.257Z"
   },
   {
    "duration": 20,
    "start_time": "2023-08-03T15:44:27.277Z"
   },
   {
    "duration": 31,
    "start_time": "2023-08-03T15:44:27.299Z"
   },
   {
    "duration": 32,
    "start_time": "2023-08-03T15:44:27.332Z"
   },
   {
    "duration": 5,
    "start_time": "2023-08-03T15:44:27.367Z"
   },
   {
    "duration": 10,
    "start_time": "2023-08-03T15:44:27.373Z"
   },
   {
    "duration": 11,
    "start_time": "2023-08-03T15:44:27.384Z"
   },
   {
    "duration": 65,
    "start_time": "2023-08-03T15:47:11.620Z"
   },
   {
    "duration": 23,
    "start_time": "2023-08-03T15:47:14.650Z"
   },
   {
    "duration": 24,
    "start_time": "2023-08-03T15:56:02.733Z"
   },
   {
    "duration": 85,
    "start_time": "2023-08-03T16:08:22.035Z"
   },
   {
    "duration": 6,
    "start_time": "2023-08-03T16:08:25.159Z"
   },
   {
    "duration": 7,
    "start_time": "2023-08-03T16:08:45.898Z"
   },
   {
    "duration": 89,
    "start_time": "2023-08-03T16:08:54.369Z"
   },
   {
    "duration": 73,
    "start_time": "2023-08-03T16:09:42.067Z"
   },
   {
    "duration": 82,
    "start_time": "2023-08-03T16:09:49.768Z"
   },
   {
    "duration": 82,
    "start_time": "2023-08-03T16:10:07.729Z"
   },
   {
    "duration": 77,
    "start_time": "2023-08-03T16:10:21.145Z"
   },
   {
    "duration": 7,
    "start_time": "2023-08-03T16:10:26.710Z"
   },
   {
    "duration": 6,
    "start_time": "2023-08-03T16:10:40.398Z"
   },
   {
    "duration": 7,
    "start_time": "2023-08-03T16:11:07.338Z"
   },
   {
    "duration": 6,
    "start_time": "2023-08-03T16:11:12.746Z"
   },
   {
    "duration": 12,
    "start_time": "2023-08-03T16:11:24.697Z"
   },
   {
    "duration": 12,
    "start_time": "2023-08-03T16:11:57.522Z"
   },
   {
    "duration": 13,
    "start_time": "2023-08-03T16:15:01.171Z"
   },
   {
    "duration": 13,
    "start_time": "2023-08-03T16:15:15.218Z"
   },
   {
    "duration": 19,
    "start_time": "2023-08-03T16:16:08.707Z"
   },
   {
    "duration": 14,
    "start_time": "2023-08-03T16:16:23.908Z"
   },
   {
    "duration": 7,
    "start_time": "2023-08-03T16:18:14.269Z"
   },
   {
    "duration": 8,
    "start_time": "2023-08-03T16:20:10.570Z"
   },
   {
    "duration": 16,
    "start_time": "2023-08-03T16:20:36.796Z"
   },
   {
    "duration": 6,
    "start_time": "2023-08-03T16:20:58.317Z"
   },
   {
    "duration": 496,
    "start_time": "2023-08-03T16:21:08.607Z"
   },
   {
    "duration": 24,
    "start_time": "2023-08-03T16:21:09.105Z"
   },
   {
    "duration": 35,
    "start_time": "2023-08-03T16:21:09.131Z"
   },
   {
    "duration": 11,
    "start_time": "2023-08-03T16:21:09.169Z"
   },
   {
    "duration": 68,
    "start_time": "2023-08-03T16:21:09.182Z"
   },
   {
    "duration": 3,
    "start_time": "2023-08-03T16:21:09.252Z"
   },
   {
    "duration": 33,
    "start_time": "2023-08-03T16:21:09.258Z"
   },
   {
    "duration": 4,
    "start_time": "2023-08-03T16:21:09.293Z"
   },
   {
    "duration": 22,
    "start_time": "2023-08-03T16:21:09.299Z"
   },
   {
    "duration": 4,
    "start_time": "2023-08-03T16:21:09.324Z"
   },
   {
    "duration": 49,
    "start_time": "2023-08-03T16:21:09.330Z"
   },
   {
    "duration": 9,
    "start_time": "2023-08-03T16:21:09.381Z"
   },
   {
    "duration": 5,
    "start_time": "2023-08-03T16:21:09.392Z"
   },
   {
    "duration": 16,
    "start_time": "2023-08-03T16:21:09.398Z"
   },
   {
    "duration": 26,
    "start_time": "2023-08-03T16:21:09.415Z"
   },
   {
    "duration": 33,
    "start_time": "2023-08-03T16:21:09.443Z"
   },
   {
    "duration": 4,
    "start_time": "2023-08-03T16:21:09.478Z"
   },
   {
    "duration": 38,
    "start_time": "2023-08-03T16:21:09.484Z"
   },
   {
    "duration": 11,
    "start_time": "2023-08-03T16:21:09.523Z"
   },
   {
    "duration": 7,
    "start_time": "2023-08-03T16:21:09.536Z"
   },
   {
    "duration": 24,
    "start_time": "2023-08-03T16:21:09.545Z"
   },
   {
    "duration": 12,
    "start_time": "2023-08-03T16:21:09.570Z"
   },
   {
    "duration": 3,
    "start_time": "2023-08-03T16:21:09.584Z"
   },
   {
    "duration": 8,
    "start_time": "2023-08-03T16:21:09.589Z"
   },
   {
    "duration": 18,
    "start_time": "2023-08-03T16:21:09.599Z"
   },
   {
    "duration": 4,
    "start_time": "2023-08-03T16:21:20.129Z"
   },
   {
    "duration": 19,
    "start_time": "2023-08-03T16:21:25.446Z"
   },
   {
    "duration": 21,
    "start_time": "2023-08-03T16:22:03.274Z"
   },
   {
    "duration": 623,
    "start_time": "2023-08-03T16:25:51.468Z"
   },
   {
    "duration": 76,
    "start_time": "2023-08-03T16:27:03.037Z"
   },
   {
    "duration": 14,
    "start_time": "2023-08-03T16:34:57.665Z"
   },
   {
    "duration": 475,
    "start_time": "2023-08-03T16:35:36.020Z"
   },
   {
    "duration": 23,
    "start_time": "2023-08-03T16:35:36.498Z"
   },
   {
    "duration": 18,
    "start_time": "2023-08-03T16:35:36.522Z"
   },
   {
    "duration": 15,
    "start_time": "2023-08-03T16:35:36.557Z"
   },
   {
    "duration": 34,
    "start_time": "2023-08-03T16:35:36.574Z"
   },
   {
    "duration": 4,
    "start_time": "2023-08-03T16:35:36.609Z"
   },
   {
    "duration": 17,
    "start_time": "2023-08-03T16:35:36.614Z"
   },
   {
    "duration": 28,
    "start_time": "2023-08-03T16:35:36.633Z"
   },
   {
    "duration": 23,
    "start_time": "2023-08-03T16:35:36.663Z"
   },
   {
    "duration": 21,
    "start_time": "2023-08-03T16:35:36.689Z"
   },
   {
    "duration": 66,
    "start_time": "2023-08-03T16:35:36.712Z"
   },
   {
    "duration": 9,
    "start_time": "2023-08-03T16:35:36.780Z"
   },
   {
    "duration": 18,
    "start_time": "2023-08-03T16:35:36.791Z"
   },
   {
    "duration": 33,
    "start_time": "2023-08-03T16:35:36.811Z"
   },
   {
    "duration": 29,
    "start_time": "2023-08-03T16:35:36.846Z"
   },
   {
    "duration": 17,
    "start_time": "2023-08-03T16:35:36.877Z"
   },
   {
    "duration": 53,
    "start_time": "2023-08-03T16:35:36.896Z"
   },
   {
    "duration": 28,
    "start_time": "2023-08-03T16:35:36.951Z"
   },
   {
    "duration": 14,
    "start_time": "2023-08-03T16:35:36.981Z"
   },
   {
    "duration": 5,
    "start_time": "2023-08-03T16:35:36.997Z"
   },
   {
    "duration": 16,
    "start_time": "2023-08-03T16:35:37.003Z"
   },
   {
    "duration": 74,
    "start_time": "2023-08-03T16:35:37.020Z"
   },
   {
    "duration": 0,
    "start_time": "2023-08-03T16:35:37.096Z"
   },
   {
    "duration": 0,
    "start_time": "2023-08-03T16:35:37.098Z"
   },
   {
    "duration": 0,
    "start_time": "2023-08-03T16:35:37.100Z"
   },
   {
    "duration": 333,
    "start_time": "2023-08-03T16:36:11.055Z"
   },
   {
    "duration": 306,
    "start_time": "2023-08-03T16:36:50.140Z"
   },
   {
    "duration": 3,
    "start_time": "2023-08-03T16:40:55.010Z"
   },
   {
    "duration": 467,
    "start_time": "2023-08-03T16:41:01.304Z"
   },
   {
    "duration": 24,
    "start_time": "2023-08-03T16:41:01.773Z"
   },
   {
    "duration": 79,
    "start_time": "2023-08-03T16:41:01.799Z"
   },
   {
    "duration": 46,
    "start_time": "2023-08-03T16:41:01.880Z"
   },
   {
    "duration": 56,
    "start_time": "2023-08-03T16:41:01.928Z"
   },
   {
    "duration": 4,
    "start_time": "2023-08-03T16:41:01.986Z"
   },
   {
    "duration": 64,
    "start_time": "2023-08-03T16:41:01.992Z"
   },
   {
    "duration": 15,
    "start_time": "2023-08-03T16:41:02.058Z"
   },
   {
    "duration": 41,
    "start_time": "2023-08-03T16:41:02.074Z"
   },
   {
    "duration": 38,
    "start_time": "2023-08-03T16:41:02.117Z"
   },
   {
    "duration": 69,
    "start_time": "2023-08-03T16:41:02.157Z"
   },
   {
    "duration": 35,
    "start_time": "2023-08-03T16:41:02.228Z"
   },
   {
    "duration": 24,
    "start_time": "2023-08-03T16:41:02.266Z"
   },
   {
    "duration": 39,
    "start_time": "2023-08-03T16:41:02.292Z"
   },
   {
    "duration": 47,
    "start_time": "2023-08-03T16:41:02.333Z"
   },
   {
    "duration": 29,
    "start_time": "2023-08-03T16:41:02.382Z"
   },
   {
    "duration": 80,
    "start_time": "2023-08-03T16:41:02.413Z"
   },
   {
    "duration": 42,
    "start_time": "2023-08-03T16:41:02.494Z"
   },
   {
    "duration": 29,
    "start_time": "2023-08-03T16:41:02.538Z"
   },
   {
    "duration": 19,
    "start_time": "2023-08-03T16:41:02.570Z"
   },
   {
    "duration": 43,
    "start_time": "2023-08-03T16:41:02.591Z"
   },
   {
    "duration": 22,
    "start_time": "2023-08-03T16:41:02.636Z"
   },
   {
    "duration": 25,
    "start_time": "2023-08-03T16:41:02.660Z"
   },
   {
    "duration": 30,
    "start_time": "2023-08-03T16:41:02.687Z"
   },
   {
    "duration": 31,
    "start_time": "2023-08-03T16:41:02.719Z"
   },
   {
    "duration": 5,
    "start_time": "2023-08-03T16:43:11.333Z"
   },
   {
    "duration": 80,
    "start_time": "2023-08-03T16:50:21.451Z"
   },
   {
    "duration": 72,
    "start_time": "2023-08-03T16:50:27.518Z"
   },
   {
    "duration": 4,
    "start_time": "2023-08-03T16:50:53.429Z"
   },
   {
    "duration": 5,
    "start_time": "2023-08-03T16:51:13.998Z"
   },
   {
    "duration": 61,
    "start_time": "2023-08-03T16:54:44.836Z"
   },
   {
    "duration": 688,
    "start_time": "2023-08-03T16:54:49.896Z"
   },
   {
    "duration": 892,
    "start_time": "2023-08-03T16:55:03.801Z"
   },
   {
    "duration": 528,
    "start_time": "2023-08-03T16:55:29.472Z"
   },
   {
    "duration": 6,
    "start_time": "2023-08-03T16:55:41.393Z"
   },
   {
    "duration": 5,
    "start_time": "2023-08-03T16:55:56.995Z"
   },
   {
    "duration": 2374,
    "start_time": "2023-08-03T16:59:50.190Z"
   },
   {
    "duration": 12,
    "start_time": "2023-08-03T17:00:04.557Z"
   },
   {
    "duration": 7,
    "start_time": "2023-08-03T17:13:26.930Z"
   },
   {
    "duration": 5,
    "start_time": "2023-08-03T17:13:33.668Z"
   },
   {
    "duration": 4,
    "start_time": "2023-08-03T17:13:49.256Z"
   },
   {
    "duration": 6,
    "start_time": "2023-08-03T17:15:20.469Z"
   },
   {
    "duration": 3,
    "start_time": "2023-08-03T17:19:10.281Z"
   },
   {
    "duration": 496,
    "start_time": "2023-08-03T17:19:36.839Z"
   },
   {
    "duration": 27,
    "start_time": "2023-08-03T17:19:37.338Z"
   },
   {
    "duration": 21,
    "start_time": "2023-08-03T17:19:37.366Z"
   },
   {
    "duration": 16,
    "start_time": "2023-08-03T17:19:37.390Z"
   },
   {
    "duration": 65,
    "start_time": "2023-08-03T17:19:37.408Z"
   },
   {
    "duration": 4,
    "start_time": "2023-08-03T17:19:37.474Z"
   },
   {
    "duration": 19,
    "start_time": "2023-08-03T17:19:37.480Z"
   },
   {
    "duration": 6,
    "start_time": "2023-08-03T17:19:37.501Z"
   },
   {
    "duration": 9,
    "start_time": "2023-08-03T17:19:37.509Z"
   },
   {
    "duration": 4,
    "start_time": "2023-08-03T17:19:37.521Z"
   },
   {
    "duration": 58,
    "start_time": "2023-08-03T17:19:37.526Z"
   },
   {
    "duration": 9,
    "start_time": "2023-08-03T17:19:37.586Z"
   },
   {
    "duration": 29,
    "start_time": "2023-08-03T17:19:37.597Z"
   },
   {
    "duration": 11,
    "start_time": "2023-08-03T17:19:37.627Z"
   },
   {
    "duration": 44,
    "start_time": "2023-08-03T17:19:37.640Z"
   },
   {
    "duration": 37,
    "start_time": "2023-08-03T17:19:37.686Z"
   },
   {
    "duration": 21,
    "start_time": "2023-08-03T17:19:37.725Z"
   },
   {
    "duration": 24,
    "start_time": "2023-08-03T17:19:37.748Z"
   },
   {
    "duration": 6,
    "start_time": "2023-08-03T17:19:37.774Z"
   },
   {
    "duration": 10,
    "start_time": "2023-08-03T17:19:37.781Z"
   },
   {
    "duration": 29,
    "start_time": "2023-08-03T17:19:37.792Z"
   },
   {
    "duration": 14,
    "start_time": "2023-08-03T17:19:37.823Z"
   },
   {
    "duration": 15,
    "start_time": "2023-08-03T17:19:37.838Z"
   },
   {
    "duration": 7,
    "start_time": "2023-08-03T17:19:37.854Z"
   },
   {
    "duration": 8,
    "start_time": "2023-08-03T17:19:37.863Z"
   },
   {
    "duration": 4,
    "start_time": "2023-08-03T17:21:15.317Z"
   },
   {
    "duration": 6,
    "start_time": "2023-08-03T17:21:38.329Z"
   },
   {
    "duration": 6,
    "start_time": "2023-08-03T17:27:45.314Z"
   },
   {
    "duration": 4,
    "start_time": "2023-08-03T17:31:55.631Z"
   },
   {
    "duration": 73,
    "start_time": "2023-08-03T17:36:39.811Z"
   },
   {
    "duration": 15,
    "start_time": "2023-08-03T17:40:09.834Z"
   },
   {
    "duration": 13,
    "start_time": "2023-08-03T17:41:15.966Z"
   },
   {
    "duration": 14,
    "start_time": "2023-08-03T17:45:22.650Z"
   },
   {
    "duration": 14,
    "start_time": "2023-08-03T17:46:13.070Z"
   },
   {
    "duration": 13,
    "start_time": "2023-08-03T17:46:52.355Z"
   },
   {
    "duration": 75,
    "start_time": "2023-08-03T17:47:35.046Z"
   },
   {
    "duration": 14,
    "start_time": "2023-08-03T17:47:39.810Z"
   },
   {
    "duration": 14,
    "start_time": "2023-08-03T17:47:46.611Z"
   },
   {
    "duration": 18,
    "start_time": "2023-08-03T17:47:57.744Z"
   },
   {
    "duration": 7,
    "start_time": "2023-08-03T17:48:52.541Z"
   },
   {
    "duration": 18,
    "start_time": "2023-08-03T17:49:04.166Z"
   },
   {
    "duration": 36,
    "start_time": "2023-08-03T17:49:49.356Z"
   },
   {
    "duration": 5,
    "start_time": "2023-08-03T17:53:25.729Z"
   },
   {
    "duration": 19,
    "start_time": "2023-08-03T17:53:53.709Z"
   },
   {
    "duration": 21,
    "start_time": "2023-08-03T17:55:04.249Z"
   },
   {
    "duration": 14,
    "start_time": "2023-08-03T17:55:14.322Z"
   },
   {
    "duration": 17,
    "start_time": "2023-08-03T17:55:31.373Z"
   },
   {
    "duration": 1251,
    "start_time": "2023-08-03T17:57:57.245Z"
   },
   {
    "duration": 14,
    "start_time": "2023-08-03T18:00:00.974Z"
   },
   {
    "duration": 25,
    "start_time": "2023-08-03T18:00:17.147Z"
   },
   {
    "duration": 13,
    "start_time": "2023-08-03T18:00:34.274Z"
   },
   {
    "duration": 12,
    "start_time": "2023-08-03T18:01:32.043Z"
   },
   {
    "duration": 14,
    "start_time": "2023-08-03T18:01:36.652Z"
   },
   {
    "duration": 14,
    "start_time": "2023-08-03T18:02:28.147Z"
   },
   {
    "duration": 17,
    "start_time": "2023-08-03T18:05:05.433Z"
   },
   {
    "duration": 19,
    "start_time": "2023-08-03T18:05:21.548Z"
   },
   {
    "duration": 27,
    "start_time": "2023-08-03T18:05:54.813Z"
   },
   {
    "duration": 20,
    "start_time": "2023-08-03T18:06:46.609Z"
   },
   {
    "duration": 27,
    "start_time": "2023-08-03T18:07:10.263Z"
   },
   {
    "duration": 27,
    "start_time": "2023-08-03T18:07:50.198Z"
   },
   {
    "duration": 29,
    "start_time": "2023-08-03T18:08:34.797Z"
   },
   {
    "duration": 35,
    "start_time": "2023-08-03T18:11:02.393Z"
   },
   {
    "duration": 39,
    "start_time": "2023-08-03T18:11:13.651Z"
   },
   {
    "duration": 39,
    "start_time": "2023-08-03T18:15:27.769Z"
   },
   {
    "duration": 34,
    "start_time": "2023-08-03T18:15:47.397Z"
   },
   {
    "duration": 56,
    "start_time": "2023-08-04T15:38:34.053Z"
   },
   {
    "duration": 545,
    "start_time": "2023-08-04T15:38:41.195Z"
   },
   {
    "duration": 24,
    "start_time": "2023-08-04T15:38:41.742Z"
   },
   {
    "duration": 21,
    "start_time": "2023-08-04T15:38:41.767Z"
   },
   {
    "duration": 15,
    "start_time": "2023-08-04T15:38:41.789Z"
   },
   {
    "duration": 44,
    "start_time": "2023-08-04T15:38:41.806Z"
   },
   {
    "duration": 4,
    "start_time": "2023-08-04T15:38:41.852Z"
   },
   {
    "duration": 34,
    "start_time": "2023-08-04T15:38:41.857Z"
   },
   {
    "duration": 4,
    "start_time": "2023-08-04T15:38:41.893Z"
   },
   {
    "duration": 13,
    "start_time": "2023-08-04T15:38:41.898Z"
   },
   {
    "duration": 27,
    "start_time": "2023-08-04T15:38:41.912Z"
   },
   {
    "duration": 79,
    "start_time": "2023-08-04T15:38:41.940Z"
   },
   {
    "duration": 12,
    "start_time": "2023-08-04T15:38:42.020Z"
   },
   {
    "duration": 18,
    "start_time": "2023-08-04T15:38:42.035Z"
   },
   {
    "duration": 39,
    "start_time": "2023-08-04T15:38:42.057Z"
   },
   {
    "duration": 23,
    "start_time": "2023-08-04T15:38:42.097Z"
   },
   {
    "duration": 17,
    "start_time": "2023-08-04T15:38:42.122Z"
   },
   {
    "duration": 4,
    "start_time": "2023-08-04T15:38:42.140Z"
   },
   {
    "duration": 31,
    "start_time": "2023-08-04T15:38:42.146Z"
   },
   {
    "duration": 9,
    "start_time": "2023-08-04T15:38:42.179Z"
   },
   {
    "duration": 9,
    "start_time": "2023-08-04T15:38:42.190Z"
   },
   {
    "duration": 39,
    "start_time": "2023-08-04T15:38:42.200Z"
   },
   {
    "duration": 69,
    "start_time": "2023-08-04T15:38:42.241Z"
   },
   {
    "duration": 7,
    "start_time": "2023-08-04T15:38:42.313Z"
   },
   {
    "duration": 33,
    "start_time": "2023-08-04T15:38:42.321Z"
   },
   {
    "duration": 9,
    "start_time": "2023-08-04T15:38:42.356Z"
   },
   {
    "duration": 18,
    "start_time": "2023-08-04T15:38:42.367Z"
   },
   {
    "duration": 5,
    "start_time": "2023-08-04T15:38:50.228Z"
   },
   {
    "duration": 13,
    "start_time": "2023-08-04T15:38:55.746Z"
   },
   {
    "duration": 6,
    "start_time": "2023-08-04T15:39:52.399Z"
   },
   {
    "duration": 21,
    "start_time": "2023-08-04T15:50:11.466Z"
   },
   {
    "duration": 16,
    "start_time": "2023-08-04T15:51:52.565Z"
   },
   {
    "duration": 93,
    "start_time": "2023-08-04T16:01:05.062Z"
   },
   {
    "duration": 74,
    "start_time": "2023-08-04T16:01:13.228Z"
   },
   {
    "duration": 13,
    "start_time": "2023-08-04T16:01:41.846Z"
   },
   {
    "duration": 85,
    "start_time": "2023-08-04T16:03:36.204Z"
   },
   {
    "duration": 26,
    "start_time": "2023-08-04T16:04:19.689Z"
   },
   {
    "duration": 16,
    "start_time": "2023-08-04T16:04:35.000Z"
   },
   {
    "duration": 22,
    "start_time": "2023-08-04T16:05:06.724Z"
   },
   {
    "duration": 21,
    "start_time": "2023-08-04T16:05:35.538Z"
   },
   {
    "duration": 29,
    "start_time": "2023-08-04T16:07:29.389Z"
   },
   {
    "duration": 32,
    "start_time": "2023-08-04T16:07:46.953Z"
   },
   {
    "duration": 31,
    "start_time": "2023-08-04T16:08:03.390Z"
   },
   {
    "duration": 20,
    "start_time": "2023-08-04T16:10:02.937Z"
   },
   {
    "duration": 19,
    "start_time": "2023-08-04T16:10:09.235Z"
   },
   {
    "duration": 17,
    "start_time": "2023-08-04T16:11:34.150Z"
   },
   {
    "duration": 15,
    "start_time": "2023-08-04T16:12:44.800Z"
   },
   {
    "duration": 14,
    "start_time": "2023-08-04T16:14:49.410Z"
   },
   {
    "duration": 27,
    "start_time": "2023-08-04T16:14:53.491Z"
   },
   {
    "duration": 18,
    "start_time": "2023-08-04T16:15:18.714Z"
   },
   {
    "duration": 18,
    "start_time": "2023-08-04T16:15:37.748Z"
   },
   {
    "duration": 8,
    "start_time": "2023-08-04T16:17:52.095Z"
   },
   {
    "duration": 7,
    "start_time": "2023-08-04T16:20:11.599Z"
   },
   {
    "duration": 118,
    "start_time": "2023-08-04T16:20:22.454Z"
   },
   {
    "duration": 7,
    "start_time": "2023-08-04T16:20:44.404Z"
   },
   {
    "duration": 4,
    "start_time": "2023-08-04T16:21:02.606Z"
   },
   {
    "duration": 10,
    "start_time": "2023-08-04T16:23:24.605Z"
   },
   {
    "duration": 17,
    "start_time": "2023-08-04T16:23:32.898Z"
   },
   {
    "duration": 5,
    "start_time": "2023-08-04T16:24:46.705Z"
   },
   {
    "duration": 84,
    "start_time": "2023-08-04T16:26:25.646Z"
   },
   {
    "duration": 10,
    "start_time": "2023-08-04T16:27:51.032Z"
   },
   {
    "duration": 73,
    "start_time": "2023-08-04T16:30:05.754Z"
   },
   {
    "duration": 86,
    "start_time": "2023-08-04T16:30:37.159Z"
   },
   {
    "duration": 15,
    "start_time": "2023-08-04T16:31:12.367Z"
   },
   {
    "duration": 76,
    "start_time": "2023-08-04T16:31:15.634Z"
   },
   {
    "duration": 102,
    "start_time": "2023-08-04T16:31:29.655Z"
   },
   {
    "duration": 36,
    "start_time": "2023-08-04T16:31:48.405Z"
   },
   {
    "duration": 33,
    "start_time": "2023-08-04T16:32:00.200Z"
   },
   {
    "duration": 29,
    "start_time": "2023-08-04T16:32:52.943Z"
   },
   {
    "duration": 27,
    "start_time": "2023-08-04T16:33:08.203Z"
   },
   {
    "duration": 82,
    "start_time": "2023-08-04T16:35:50.718Z"
   },
   {
    "duration": 65,
    "start_time": "2023-08-04T16:35:54.403Z"
   },
   {
    "duration": 18,
    "start_time": "2023-08-04T16:36:20.799Z"
   },
   {
    "duration": 22,
    "start_time": "2023-08-04T16:36:32.835Z"
   },
   {
    "duration": 99,
    "start_time": "2023-08-04T16:40:34.215Z"
   },
   {
    "duration": 19,
    "start_time": "2023-08-04T16:41:54.925Z"
   },
   {
    "duration": 34,
    "start_time": "2023-08-04T16:42:26.596Z"
   },
   {
    "duration": 33,
    "start_time": "2023-08-04T16:42:32.795Z"
   },
   {
    "duration": 27,
    "start_time": "2023-08-04T16:42:46.717Z"
   },
   {
    "duration": 4,
    "start_time": "2023-08-04T16:44:17.424Z"
   },
   {
    "duration": 28,
    "start_time": "2023-08-04T16:48:08.029Z"
   },
   {
    "duration": 6,
    "start_time": "2023-08-04T16:49:34.535Z"
   },
   {
    "duration": 5,
    "start_time": "2023-08-04T16:49:53.036Z"
   },
   {
    "duration": 32,
    "start_time": "2023-08-04T16:52:39.993Z"
   },
   {
    "duration": 26,
    "start_time": "2023-08-04T16:52:54.238Z"
   },
   {
    "duration": 33,
    "start_time": "2023-08-04T16:53:38.163Z"
   },
   {
    "duration": 26,
    "start_time": "2023-08-04T17:02:32.803Z"
   },
   {
    "duration": 28,
    "start_time": "2023-08-04T17:02:38.807Z"
   },
   {
    "duration": 18,
    "start_time": "2023-08-04T17:02:41.524Z"
   },
   {
    "duration": 7,
    "start_time": "2023-08-04T17:18:21.858Z"
   },
   {
    "duration": 4,
    "start_time": "2023-08-04T17:18:27.259Z"
   },
   {
    "duration": 11,
    "start_time": "2023-08-04T17:34:19.503Z"
   },
   {
    "duration": 22,
    "start_time": "2023-08-04T17:34:42.854Z"
   },
   {
    "duration": 7,
    "start_time": "2023-08-04T17:38:28.866Z"
   },
   {
    "duration": 7,
    "start_time": "2023-08-04T17:38:32.613Z"
   },
   {
    "duration": 65,
    "start_time": "2023-08-04T17:41:14.598Z"
   },
   {
    "duration": 26,
    "start_time": "2023-08-04T17:41:18.862Z"
   },
   {
    "duration": 22,
    "start_time": "2023-08-04T17:42:19.948Z"
   },
   {
    "duration": 30,
    "start_time": "2023-08-04T17:42:55.355Z"
   },
   {
    "duration": 5,
    "start_time": "2023-08-04T17:47:07.791Z"
   },
   {
    "duration": 11,
    "start_time": "2023-08-04T17:48:12.098Z"
   },
   {
    "duration": 16,
    "start_time": "2023-08-04T17:49:18.275Z"
   },
   {
    "duration": 4,
    "start_time": "2023-08-04T17:50:26.350Z"
   },
   {
    "duration": 5,
    "start_time": "2023-08-04T17:51:50.729Z"
   },
   {
    "duration": 6,
    "start_time": "2023-08-04T17:52:10.101Z"
   },
   {
    "duration": 9,
    "start_time": "2023-08-04T17:52:30.603Z"
   },
   {
    "duration": 14,
    "start_time": "2023-08-04T17:53:42.316Z"
   },
   {
    "duration": 5,
    "start_time": "2023-08-04T17:53:49.008Z"
   },
   {
    "duration": 20,
    "start_time": "2023-08-04T17:54:13.141Z"
   },
   {
    "duration": 8,
    "start_time": "2023-08-04T17:54:53.636Z"
   },
   {
    "duration": 11,
    "start_time": "2023-08-04T17:55:04.117Z"
   },
   {
    "duration": 14,
    "start_time": "2023-08-04T17:55:31.391Z"
   },
   {
    "duration": 4,
    "start_time": "2023-08-04T17:56:04.039Z"
   },
   {
    "duration": 15,
    "start_time": "2023-08-04T17:56:17.220Z"
   },
   {
    "duration": 595,
    "start_time": "2023-08-04T17:57:47.758Z"
   },
   {
    "duration": 615,
    "start_time": "2023-08-04T17:57:59.318Z"
   },
   {
    "duration": 12,
    "start_time": "2023-08-04T17:58:40.575Z"
   },
   {
    "duration": 6,
    "start_time": "2023-08-04T17:59:24.292Z"
   },
   {
    "duration": 490,
    "start_time": "2023-08-04T17:59:54.453Z"
   },
   {
    "duration": 23,
    "start_time": "2023-08-04T17:59:54.945Z"
   },
   {
    "duration": 45,
    "start_time": "2023-08-04T17:59:54.969Z"
   },
   {
    "duration": 39,
    "start_time": "2023-08-04T17:59:55.016Z"
   },
   {
    "duration": 63,
    "start_time": "2023-08-04T17:59:55.057Z"
   },
   {
    "duration": 3,
    "start_time": "2023-08-04T17:59:55.122Z"
   },
   {
    "duration": 25,
    "start_time": "2023-08-04T17:59:55.127Z"
   },
   {
    "duration": 17,
    "start_time": "2023-08-04T17:59:55.154Z"
   },
   {
    "duration": 19,
    "start_time": "2023-08-04T17:59:55.172Z"
   },
   {
    "duration": 5,
    "start_time": "2023-08-04T17:59:55.196Z"
   },
   {
    "duration": 34,
    "start_time": "2023-08-04T17:59:55.203Z"
   },
   {
    "duration": 9,
    "start_time": "2023-08-04T17:59:55.239Z"
   },
   {
    "duration": 8,
    "start_time": "2023-08-04T17:59:55.250Z"
   },
   {
    "duration": 28,
    "start_time": "2023-08-04T17:59:55.259Z"
   },
   {
    "duration": 29,
    "start_time": "2023-08-04T17:59:55.288Z"
   },
   {
    "duration": 18,
    "start_time": "2023-08-04T17:59:55.319Z"
   },
   {
    "duration": 4,
    "start_time": "2023-08-04T17:59:55.339Z"
   },
   {
    "duration": 30,
    "start_time": "2023-08-04T17:59:55.345Z"
   },
   {
    "duration": 9,
    "start_time": "2023-08-04T17:59:55.377Z"
   },
   {
    "duration": 10,
    "start_time": "2023-08-04T17:59:55.388Z"
   },
   {
    "duration": 21,
    "start_time": "2023-08-04T17:59:55.400Z"
   },
   {
    "duration": 38,
    "start_time": "2023-08-04T17:59:55.423Z"
   },
   {
    "duration": 52,
    "start_time": "2023-08-04T17:59:55.463Z"
   },
   {
    "duration": 34,
    "start_time": "2023-08-04T17:59:55.517Z"
   },
   {
    "duration": 53,
    "start_time": "2023-08-04T17:59:55.554Z"
   },
   {
    "duration": 18,
    "start_time": "2023-08-04T17:59:55.609Z"
   },
   {
    "duration": 118,
    "start_time": "2023-08-04T18:39:11.041Z"
   },
   {
    "duration": 5,
    "start_time": "2023-08-04T18:39:26.704Z"
   },
   {
    "duration": 4,
    "start_time": "2023-08-04T18:39:41.317Z"
   },
   {
    "duration": 10,
    "start_time": "2023-08-04T18:41:17.401Z"
   },
   {
    "duration": 7,
    "start_time": "2023-08-04T18:46:00.693Z"
   },
   {
    "duration": 6,
    "start_time": "2023-08-04T18:46:02.514Z"
   },
   {
    "duration": 89,
    "start_time": "2023-08-04T18:46:32.645Z"
   },
   {
    "duration": 21,
    "start_time": "2023-08-04T18:54:09.394Z"
   },
   {
    "duration": 17,
    "start_time": "2023-08-04T18:54:11.051Z"
   },
   {
    "duration": 18,
    "start_time": "2023-08-04T19:05:35.953Z"
   },
   {
    "duration": 67,
    "start_time": "2023-08-04T19:22:56.346Z"
   },
   {
    "duration": 15,
    "start_time": "2023-08-04T19:23:02.132Z"
   },
   {
    "duration": 18,
    "start_time": "2023-08-04T19:23:39.500Z"
   },
   {
    "duration": 80,
    "start_time": "2023-08-04T19:23:48.187Z"
   },
   {
    "duration": 16,
    "start_time": "2023-08-04T19:23:53.102Z"
   },
   {
    "duration": 19,
    "start_time": "2023-08-04T19:24:17.573Z"
   },
   {
    "duration": 13,
    "start_time": "2023-08-04T19:24:27.193Z"
   },
   {
    "duration": 13,
    "start_time": "2023-08-04T19:25:04.546Z"
   },
   {
    "duration": 9,
    "start_time": "2023-08-04T19:27:23.014Z"
   },
   {
    "duration": 86,
    "start_time": "2023-08-04T19:29:06.205Z"
   },
   {
    "duration": 10,
    "start_time": "2023-08-04T19:29:10.025Z"
   },
   {
    "duration": 6,
    "start_time": "2023-08-04T19:29:18.462Z"
   },
   {
    "duration": 57,
    "start_time": "2023-08-04T19:35:30.874Z"
   },
   {
    "duration": 61,
    "start_time": "2023-08-04T19:36:13.566Z"
   },
   {
    "duration": 34,
    "start_time": "2023-08-04T19:39:33.553Z"
   },
   {
    "duration": 40,
    "start_time": "2023-08-04T19:39:42.409Z"
   },
   {
    "duration": 35,
    "start_time": "2023-08-04T19:40:03.299Z"
   },
   {
    "duration": 32,
    "start_time": "2023-08-04T19:41:05.548Z"
   },
   {
    "duration": 18,
    "start_time": "2023-08-04T19:41:32.031Z"
   },
   {
    "duration": 26,
    "start_time": "2023-08-04T19:41:49.991Z"
   },
   {
    "duration": 19,
    "start_time": "2023-08-04T19:50:23.208Z"
   },
   {
    "duration": 32,
    "start_time": "2023-08-04T19:51:16.468Z"
   },
   {
    "duration": 100,
    "start_time": "2023-08-04T19:52:28.086Z"
   },
   {
    "duration": 24,
    "start_time": "2023-08-04T19:52:39.518Z"
   },
   {
    "duration": 46,
    "start_time": "2023-08-04T19:54:56.811Z"
   },
   {
    "duration": 9,
    "start_time": "2023-08-04T19:56:19.503Z"
   },
   {
    "duration": 4,
    "start_time": "2023-08-04T19:56:41.160Z"
   },
   {
    "duration": 5,
    "start_time": "2023-08-04T19:56:49.189Z"
   },
   {
    "duration": 11,
    "start_time": "2023-08-04T19:56:58.601Z"
   },
   {
    "duration": 5,
    "start_time": "2023-08-04T19:57:31.152Z"
   },
   {
    "duration": 7,
    "start_time": "2023-08-04T19:58:10.957Z"
   },
   {
    "duration": 11,
    "start_time": "2023-08-04T19:58:51.893Z"
   },
   {
    "duration": 11,
    "start_time": "2023-08-04T19:58:55.951Z"
   },
   {
    "duration": 5,
    "start_time": "2023-08-04T19:59:17.402Z"
   },
   {
    "duration": 4,
    "start_time": "2023-08-04T19:59:24.300Z"
   },
   {
    "duration": 5,
    "start_time": "2023-08-04T19:59:41.031Z"
   },
   {
    "duration": 4,
    "start_time": "2023-08-04T20:00:27.019Z"
   },
   {
    "duration": 35,
    "start_time": "2023-08-04T20:00:55.609Z"
   },
   {
    "duration": 18,
    "start_time": "2023-08-04T20:01:56.115Z"
   },
   {
    "duration": 31,
    "start_time": "2023-08-04T20:02:02.211Z"
   },
   {
    "duration": 48,
    "start_time": "2023-08-04T20:06:31.664Z"
   },
   {
    "duration": 56,
    "start_time": "2023-08-04T20:06:53.758Z"
   },
   {
    "duration": 34,
    "start_time": "2023-08-04T20:07:23.253Z"
   },
   {
    "duration": 30,
    "start_time": "2023-08-04T20:07:36.921Z"
   },
   {
    "duration": 28,
    "start_time": "2023-08-04T20:07:50.144Z"
   },
   {
    "duration": 28,
    "start_time": "2023-08-04T20:08:45.232Z"
   },
   {
    "duration": 540,
    "start_time": "2023-08-04T20:10:07.668Z"
   },
   {
    "duration": 28,
    "start_time": "2023-08-04T20:10:08.211Z"
   },
   {
    "duration": 34,
    "start_time": "2023-08-04T20:10:08.240Z"
   },
   {
    "duration": 15,
    "start_time": "2023-08-04T20:10:08.281Z"
   },
   {
    "duration": 45,
    "start_time": "2023-08-04T20:10:08.298Z"
   },
   {
    "duration": 3,
    "start_time": "2023-08-04T20:10:08.345Z"
   },
   {
    "duration": 28,
    "start_time": "2023-08-04T20:10:08.349Z"
   },
   {
    "duration": 6,
    "start_time": "2023-08-04T20:10:08.386Z"
   },
   {
    "duration": 9,
    "start_time": "2023-08-04T20:10:08.394Z"
   },
   {
    "duration": 7,
    "start_time": "2023-08-04T20:10:08.406Z"
   },
   {
    "duration": 65,
    "start_time": "2023-08-04T20:10:08.415Z"
   },
   {
    "duration": 20,
    "start_time": "2023-08-04T20:10:08.482Z"
   },
   {
    "duration": 7,
    "start_time": "2023-08-04T20:10:08.503Z"
   },
   {
    "duration": 17,
    "start_time": "2023-08-04T20:10:08.513Z"
   },
   {
    "duration": 23,
    "start_time": "2023-08-04T20:10:08.531Z"
   },
   {
    "duration": 34,
    "start_time": "2023-08-04T20:10:08.556Z"
   },
   {
    "duration": 5,
    "start_time": "2023-08-04T20:10:08.592Z"
   },
   {
    "duration": 19,
    "start_time": "2023-08-04T20:10:08.599Z"
   },
   {
    "duration": 11,
    "start_time": "2023-08-04T20:10:08.620Z"
   },
   {
    "duration": 7,
    "start_time": "2023-08-04T20:10:08.633Z"
   },
   {
    "duration": 10,
    "start_time": "2023-08-04T20:10:08.642Z"
   },
   {
    "duration": 42,
    "start_time": "2023-08-04T20:10:08.653Z"
   },
   {
    "duration": 36,
    "start_time": "2023-08-04T20:10:08.697Z"
   },
   {
    "duration": 63,
    "start_time": "2023-08-04T20:10:08.735Z"
   },
   {
    "duration": 34,
    "start_time": "2023-08-04T20:10:08.801Z"
   },
   {
    "duration": 19,
    "start_time": "2023-08-04T20:10:08.836Z"
   },
   {
    "duration": 27,
    "start_time": "2023-08-04T20:10:08.856Z"
   },
   {
    "duration": 22,
    "start_time": "2023-08-04T20:10:08.887Z"
   },
   {
    "duration": 28,
    "start_time": "2023-08-04T20:11:38.325Z"
   },
   {
    "duration": 29,
    "start_time": "2023-08-04T20:12:06.654Z"
   },
   {
    "duration": 31,
    "start_time": "2023-08-04T20:15:15.499Z"
   },
   {
    "duration": 5,
    "start_time": "2023-08-04T20:15:27.395Z"
   },
   {
    "duration": 86,
    "start_time": "2023-08-04T20:15:31.551Z"
   },
   {
    "duration": 841,
    "start_time": "2023-08-04T20:53:20.282Z"
   },
   {
    "duration": 26,
    "start_time": "2023-08-04T20:53:21.124Z"
   },
   {
    "duration": 24,
    "start_time": "2023-08-04T20:53:21.151Z"
   },
   {
    "duration": 17,
    "start_time": "2023-08-04T20:53:21.177Z"
   },
   {
    "duration": 81,
    "start_time": "2023-08-04T20:53:21.195Z"
   },
   {
    "duration": 3,
    "start_time": "2023-08-04T20:53:21.278Z"
   },
   {
    "duration": 60,
    "start_time": "2023-08-04T20:53:21.282Z"
   },
   {
    "duration": 18,
    "start_time": "2023-08-04T20:53:21.344Z"
   },
   {
    "duration": 26,
    "start_time": "2023-08-04T20:53:21.363Z"
   },
   {
    "duration": 70,
    "start_time": "2023-08-04T20:53:21.392Z"
   },
   {
    "duration": 62,
    "start_time": "2023-08-04T20:53:21.463Z"
   },
   {
    "duration": 24,
    "start_time": "2023-08-04T20:53:21.527Z"
   },
   {
    "duration": 35,
    "start_time": "2023-08-04T20:53:21.552Z"
   },
   {
    "duration": 18,
    "start_time": "2023-08-04T20:53:21.588Z"
   },
   {
    "duration": 75,
    "start_time": "2023-08-04T20:53:21.607Z"
   },
   {
    "duration": 24,
    "start_time": "2023-08-04T20:53:21.684Z"
   },
   {
    "duration": 34,
    "start_time": "2023-08-04T20:53:21.709Z"
   },
   {
    "duration": 14,
    "start_time": "2023-08-04T20:53:21.745Z"
   },
   {
    "duration": 19,
    "start_time": "2023-08-04T20:53:21.760Z"
   },
   {
    "duration": 9,
    "start_time": "2023-08-04T20:53:21.781Z"
   },
   {
    "duration": 55,
    "start_time": "2023-08-04T20:53:21.791Z"
   },
   {
    "duration": 22,
    "start_time": "2023-08-04T20:53:21.847Z"
   },
   {
    "duration": 39,
    "start_time": "2023-08-04T20:53:21.871Z"
   },
   {
    "duration": 43,
    "start_time": "2023-08-04T20:53:21.912Z"
   },
   {
    "duration": 24,
    "start_time": "2023-08-04T20:53:21.957Z"
   },
   {
    "duration": 4,
    "start_time": "2023-08-04T20:53:21.982Z"
   },
   {
    "duration": 16,
    "start_time": "2023-08-04T20:53:21.987Z"
   },
   {
    "duration": 35,
    "start_time": "2023-08-04T20:53:22.012Z"
   },
   {
    "duration": 47,
    "start_time": "2023-08-06T05:45:34.656Z"
   },
   {
    "duration": 747,
    "start_time": "2023-08-06T05:45:41.411Z"
   },
   {
    "duration": 21,
    "start_time": "2023-08-06T05:45:42.160Z"
   },
   {
    "duration": 14,
    "start_time": "2023-08-06T05:45:42.182Z"
   },
   {
    "duration": 9,
    "start_time": "2023-08-06T05:45:42.198Z"
   },
   {
    "duration": 40,
    "start_time": "2023-08-06T05:45:42.208Z"
   },
   {
    "duration": 3,
    "start_time": "2023-08-06T05:45:42.250Z"
   },
   {
    "duration": 11,
    "start_time": "2023-08-06T05:45:42.254Z"
   },
   {
    "duration": 5,
    "start_time": "2023-08-06T05:45:42.267Z"
   },
   {
    "duration": 16,
    "start_time": "2023-08-06T05:45:42.273Z"
   },
   {
    "duration": 4,
    "start_time": "2023-08-06T05:45:42.297Z"
   },
   {
    "duration": 38,
    "start_time": "2023-08-06T05:45:42.302Z"
   },
   {
    "duration": 9,
    "start_time": "2023-08-06T05:45:42.342Z"
   },
   {
    "duration": 4,
    "start_time": "2023-08-06T05:45:42.352Z"
   },
   {
    "duration": 18,
    "start_time": "2023-08-06T05:45:42.358Z"
   },
   {
    "duration": 31,
    "start_time": "2023-08-06T05:45:42.378Z"
   },
   {
    "duration": 16,
    "start_time": "2023-08-06T05:45:42.411Z"
   },
   {
    "duration": 3,
    "start_time": "2023-08-06T05:45:42.429Z"
   },
   {
    "duration": 17,
    "start_time": "2023-08-06T05:45:42.434Z"
   },
   {
    "duration": 9,
    "start_time": "2023-08-06T05:45:42.452Z"
   },
   {
    "duration": 4,
    "start_time": "2023-08-06T05:45:42.462Z"
   },
   {
    "duration": 29,
    "start_time": "2023-08-06T05:45:42.469Z"
   },
   {
    "duration": 20,
    "start_time": "2023-08-06T05:45:42.500Z"
   },
   {
    "duration": 10,
    "start_time": "2023-08-06T05:45:42.522Z"
   },
   {
    "duration": 32,
    "start_time": "2023-08-06T05:45:42.533Z"
   },
   {
    "duration": 51,
    "start_time": "2023-08-06T05:45:42.567Z"
   },
   {
    "duration": 26,
    "start_time": "2023-08-06T05:45:42.620Z"
   },
   {
    "duration": 4,
    "start_time": "2023-08-06T05:45:42.648Z"
   },
   {
    "duration": 4,
    "start_time": "2023-08-06T05:45:42.656Z"
   },
   {
    "duration": 33,
    "start_time": "2023-08-06T05:45:42.662Z"
   },
   {
    "duration": 21,
    "start_time": "2023-08-06T05:47:59.365Z"
   },
   {
    "duration": 21,
    "start_time": "2023-08-06T05:48:08.211Z"
   },
   {
    "duration": 19,
    "start_time": "2023-08-06T05:48:18.236Z"
   },
   {
    "duration": 10,
    "start_time": "2023-08-06T05:53:40.773Z"
   },
   {
    "duration": 11,
    "start_time": "2023-08-06T05:54:47.301Z"
   },
   {
    "duration": 87,
    "start_time": "2023-08-06T05:54:59.859Z"
   },
   {
    "duration": 113,
    "start_time": "2023-08-06T05:55:03.646Z"
   },
   {
    "duration": 90,
    "start_time": "2023-08-06T05:55:09.587Z"
   },
   {
    "duration": 19,
    "start_time": "2023-08-06T05:55:13.226Z"
   },
   {
    "duration": 21,
    "start_time": "2023-08-06T05:56:12.373Z"
   },
   {
    "duration": 88,
    "start_time": "2023-08-06T06:00:47.489Z"
   },
   {
    "duration": 26,
    "start_time": "2023-08-06T06:01:02.946Z"
   },
   {
    "duration": 22,
    "start_time": "2023-08-06T06:01:51.887Z"
   },
   {
    "duration": 20,
    "start_time": "2023-08-06T06:03:48.385Z"
   },
   {
    "duration": 21,
    "start_time": "2023-08-06T06:05:53.245Z"
   },
   {
    "duration": 5,
    "start_time": "2023-08-06T06:06:47.636Z"
   },
   {
    "duration": 4,
    "start_time": "2023-08-06T06:07:02.617Z"
   },
   {
    "duration": 6,
    "start_time": "2023-08-06T06:07:08.911Z"
   },
   {
    "duration": 25,
    "start_time": "2023-08-06T06:09:17.938Z"
   },
   {
    "duration": 23,
    "start_time": "2023-08-06T06:09:44.623Z"
   },
   {
    "duration": 23,
    "start_time": "2023-08-06T06:10:16.315Z"
   },
   {
    "duration": 18,
    "start_time": "2023-08-06T06:10:30.216Z"
   },
   {
    "duration": 24,
    "start_time": "2023-08-06T06:10:37.396Z"
   },
   {
    "duration": 28,
    "start_time": "2023-08-06T06:10:46.351Z"
   },
   {
    "duration": 8,
    "start_time": "2023-08-06T06:11:52.526Z"
   },
   {
    "duration": 7,
    "start_time": "2023-08-06T06:12:01.276Z"
   },
   {
    "duration": 4,
    "start_time": "2023-08-06T06:14:38.616Z"
   },
   {
    "duration": 3,
    "start_time": "2023-08-06T06:14:57.590Z"
   },
   {
    "duration": 4,
    "start_time": "2023-08-06T06:15:11.127Z"
   },
   {
    "duration": 11,
    "start_time": "2023-08-06T06:16:07.943Z"
   },
   {
    "duration": 5,
    "start_time": "2023-08-06T06:16:36.284Z"
   },
   {
    "duration": 3,
    "start_time": "2023-08-06T06:16:45.234Z"
   },
   {
    "duration": 5,
    "start_time": "2023-08-06T06:16:54.223Z"
   },
   {
    "duration": 10,
    "start_time": "2023-08-06T06:17:19.736Z"
   },
   {
    "duration": 25,
    "start_time": "2023-08-06T06:17:35.086Z"
   },
   {
    "duration": 28,
    "start_time": "2023-08-06T06:19:37.307Z"
   },
   {
    "duration": 26,
    "start_time": "2023-08-06T06:19:46.405Z"
   },
   {
    "duration": 26,
    "start_time": "2023-08-06T06:19:58.729Z"
   },
   {
    "duration": 25,
    "start_time": "2023-08-06T06:20:36.429Z"
   },
   {
    "duration": 20,
    "start_time": "2023-08-06T06:20:48.005Z"
   },
   {
    "duration": 24,
    "start_time": "2023-08-06T06:22:36.321Z"
   },
   {
    "duration": 12,
    "start_time": "2023-08-06T06:22:53.415Z"
   },
   {
    "duration": 23,
    "start_time": "2023-08-06T06:24:55.899Z"
   },
   {
    "duration": 18,
    "start_time": "2023-08-06T06:25:16.675Z"
   },
   {
    "duration": 13,
    "start_time": "2023-08-06T06:27:01.299Z"
   },
   {
    "duration": 89,
    "start_time": "2023-08-06T06:53:19.221Z"
   },
   {
    "duration": 111,
    "start_time": "2023-08-06T06:53:38.337Z"
   },
   {
    "duration": 0,
    "start_time": "2023-08-06T06:53:38.450Z"
   },
   {
    "duration": 0,
    "start_time": "2023-08-06T06:53:38.451Z"
   },
   {
    "duration": 0,
    "start_time": "2023-08-06T06:53:38.452Z"
   },
   {
    "duration": 0,
    "start_time": "2023-08-06T06:53:38.453Z"
   },
   {
    "duration": 0,
    "start_time": "2023-08-06T06:53:38.454Z"
   },
   {
    "duration": 0,
    "start_time": "2023-08-06T06:53:38.456Z"
   },
   {
    "duration": 0,
    "start_time": "2023-08-06T06:53:38.457Z"
   },
   {
    "duration": 0,
    "start_time": "2023-08-06T06:53:38.458Z"
   },
   {
    "duration": 0,
    "start_time": "2023-08-06T06:53:38.459Z"
   },
   {
    "duration": 0,
    "start_time": "2023-08-06T06:53:38.460Z"
   },
   {
    "duration": 0,
    "start_time": "2023-08-06T06:53:38.462Z"
   },
   {
    "duration": 0,
    "start_time": "2023-08-06T06:53:38.463Z"
   },
   {
    "duration": 0,
    "start_time": "2023-08-06T06:53:38.464Z"
   },
   {
    "duration": 0,
    "start_time": "2023-08-06T06:53:38.465Z"
   },
   {
    "duration": 0,
    "start_time": "2023-08-06T06:53:38.466Z"
   },
   {
    "duration": 0,
    "start_time": "2023-08-06T06:53:38.467Z"
   },
   {
    "duration": 0,
    "start_time": "2023-08-06T06:53:38.468Z"
   },
   {
    "duration": 0,
    "start_time": "2023-08-06T06:53:38.469Z"
   },
   {
    "duration": 0,
    "start_time": "2023-08-06T06:53:38.470Z"
   },
   {
    "duration": 0,
    "start_time": "2023-08-06T06:53:38.471Z"
   },
   {
    "duration": 0,
    "start_time": "2023-08-06T06:53:38.472Z"
   },
   {
    "duration": 0,
    "start_time": "2023-08-06T06:53:38.473Z"
   },
   {
    "duration": 0,
    "start_time": "2023-08-06T06:53:38.475Z"
   },
   {
    "duration": 0,
    "start_time": "2023-08-06T06:53:38.476Z"
   },
   {
    "duration": 0,
    "start_time": "2023-08-06T06:53:38.477Z"
   },
   {
    "duration": 0,
    "start_time": "2023-08-06T06:53:38.478Z"
   },
   {
    "duration": 0,
    "start_time": "2023-08-06T06:53:38.479Z"
   },
   {
    "duration": 0,
    "start_time": "2023-08-06T06:53:38.480Z"
   },
   {
    "duration": 0,
    "start_time": "2023-08-06T06:53:38.481Z"
   },
   {
    "duration": 0,
    "start_time": "2023-08-06T06:53:38.482Z"
   },
   {
    "duration": 149,
    "start_time": "2023-08-06T07:01:31.324Z"
   },
   {
    "duration": 51,
    "start_time": "2023-08-06T07:04:31.585Z"
   },
   {
    "duration": 525,
    "start_time": "2023-08-06T07:04:38.676Z"
   },
   {
    "duration": 27,
    "start_time": "2023-08-06T07:04:39.203Z"
   },
   {
    "duration": 15,
    "start_time": "2023-08-06T07:04:39.231Z"
   },
   {
    "duration": 10,
    "start_time": "2023-08-06T07:04:39.248Z"
   },
   {
    "duration": 59,
    "start_time": "2023-08-06T07:04:39.259Z"
   },
   {
    "duration": 4,
    "start_time": "2023-08-06T07:04:39.319Z"
   },
   {
    "duration": 11,
    "start_time": "2023-08-06T07:04:39.324Z"
   },
   {
    "duration": 4,
    "start_time": "2023-08-06T07:04:39.337Z"
   },
   {
    "duration": 8,
    "start_time": "2023-08-06T07:04:39.343Z"
   },
   {
    "duration": 4,
    "start_time": "2023-08-06T07:04:39.355Z"
   },
   {
    "duration": 65,
    "start_time": "2023-08-06T07:04:39.360Z"
   },
   {
    "duration": 10,
    "start_time": "2023-08-06T07:04:39.426Z"
   },
   {
    "duration": 5,
    "start_time": "2023-08-06T07:04:39.438Z"
   },
   {
    "duration": 19,
    "start_time": "2023-08-06T07:04:39.444Z"
   },
   {
    "duration": 42,
    "start_time": "2023-08-06T07:04:39.464Z"
   },
   {
    "duration": 16,
    "start_time": "2023-08-06T07:04:39.510Z"
   },
   {
    "duration": 4,
    "start_time": "2023-08-06T07:04:39.528Z"
   },
   {
    "duration": 13,
    "start_time": "2023-08-06T07:04:39.533Z"
   },
   {
    "duration": 9,
    "start_time": "2023-08-06T07:04:39.547Z"
   },
   {
    "duration": 5,
    "start_time": "2023-08-06T07:04:39.557Z"
   },
   {
    "duration": 12,
    "start_time": "2023-08-06T07:04:39.563Z"
   },
   {
    "duration": 43,
    "start_time": "2023-08-06T07:04:39.576Z"
   },
   {
    "duration": 4,
    "start_time": "2023-08-06T07:04:39.620Z"
   },
   {
    "duration": 13,
    "start_time": "2023-08-06T07:04:39.625Z"
   },
   {
    "duration": 31,
    "start_time": "2023-08-06T07:04:39.640Z"
   },
   {
    "duration": 36,
    "start_time": "2023-08-06T07:04:39.697Z"
   },
   {
    "duration": 27,
    "start_time": "2023-08-06T07:04:39.735Z"
   },
   {
    "duration": 4,
    "start_time": "2023-08-06T07:04:39.765Z"
   },
   {
    "duration": 40,
    "start_time": "2023-08-06T07:04:39.770Z"
   },
   {
    "duration": 8,
    "start_time": "2023-08-06T07:04:39.812Z"
   },
   {
    "duration": 26,
    "start_time": "2023-08-06T07:07:32.597Z"
   },
   {
    "duration": 1063,
    "start_time": "2023-08-07T16:43:37.233Z"
   },
   {
    "duration": 21,
    "start_time": "2023-08-07T16:43:38.298Z"
   },
   {
    "duration": 20,
    "start_time": "2023-08-07T16:43:38.321Z"
   },
   {
    "duration": 14,
    "start_time": "2023-08-07T16:43:38.343Z"
   },
   {
    "duration": 54,
    "start_time": "2023-08-07T16:43:38.359Z"
   },
   {
    "duration": 4,
    "start_time": "2023-08-07T16:43:38.414Z"
   },
   {
    "duration": 9,
    "start_time": "2023-08-07T16:43:38.419Z"
   },
   {
    "duration": 6,
    "start_time": "2023-08-07T16:43:38.430Z"
   },
   {
    "duration": 12,
    "start_time": "2023-08-07T16:43:38.438Z"
   },
   {
    "duration": 14,
    "start_time": "2023-08-07T16:43:38.452Z"
   },
   {
    "duration": 39,
    "start_time": "2023-08-07T16:43:38.467Z"
   },
   {
    "duration": 9,
    "start_time": "2023-08-07T16:43:38.507Z"
   },
   {
    "duration": 7,
    "start_time": "2023-08-07T16:43:38.517Z"
   },
   {
    "duration": 17,
    "start_time": "2023-08-07T16:43:38.525Z"
   },
   {
    "duration": 17,
    "start_time": "2023-08-07T16:43:38.544Z"
   },
   {
    "duration": 36,
    "start_time": "2023-08-07T16:43:38.563Z"
   },
   {
    "duration": 4,
    "start_time": "2023-08-07T16:43:38.601Z"
   },
   {
    "duration": 16,
    "start_time": "2023-08-07T16:43:38.607Z"
   },
   {
    "duration": 19,
    "start_time": "2023-08-07T16:43:38.625Z"
   },
   {
    "duration": 8,
    "start_time": "2023-08-07T16:43:38.645Z"
   },
   {
    "duration": 18,
    "start_time": "2023-08-07T16:43:38.655Z"
   },
   {
    "duration": 31,
    "start_time": "2023-08-07T16:43:38.675Z"
   },
   {
    "duration": 4,
    "start_time": "2023-08-07T16:43:38.708Z"
   },
   {
    "duration": 18,
    "start_time": "2023-08-07T16:43:38.713Z"
   },
   {
    "duration": 44,
    "start_time": "2023-08-07T16:43:38.733Z"
   },
   {
    "duration": 56,
    "start_time": "2023-08-07T16:43:38.779Z"
   },
   {
    "duration": 24,
    "start_time": "2023-08-07T16:43:38.836Z"
   },
   {
    "duration": 7,
    "start_time": "2023-08-07T16:43:38.863Z"
   },
   {
    "duration": 36,
    "start_time": "2023-08-07T16:43:38.872Z"
   },
   {
    "duration": 24,
    "start_time": "2023-08-07T16:43:38.910Z"
   },
   {
    "duration": 70,
    "start_time": "2023-08-07T16:50:05.115Z"
   },
   {
    "duration": 20,
    "start_time": "2023-08-07T16:50:11.450Z"
   },
   {
    "duration": 35,
    "start_time": "2023-08-07T16:50:25.201Z"
   },
   {
    "duration": 9,
    "start_time": "2023-08-07T16:51:09.852Z"
   },
   {
    "duration": 12,
    "start_time": "2023-08-07T16:51:11.431Z"
   },
   {
    "duration": 5,
    "start_time": "2023-08-07T16:53:00.173Z"
   },
   {
    "duration": 4,
    "start_time": "2023-08-07T16:53:03.410Z"
   },
   {
    "duration": 6,
    "start_time": "2023-08-07T16:53:05.727Z"
   },
   {
    "duration": 11,
    "start_time": "2023-08-07T16:53:21.897Z"
   },
   {
    "duration": 11,
    "start_time": "2023-08-07T16:53:27.963Z"
   },
   {
    "duration": 12,
    "start_time": "2023-08-07T16:55:02.812Z"
   },
   {
    "duration": 15,
    "start_time": "2023-08-07T16:55:51.287Z"
   },
   {
    "duration": 1318,
    "start_time": "2023-08-07T16:58:18.369Z"
   },
   {
    "duration": 1279,
    "start_time": "2023-08-07T16:58:32.228Z"
   },
   {
    "duration": 10,
    "start_time": "2023-08-07T16:58:41.760Z"
   },
   {
    "duration": 13,
    "start_time": "2023-08-07T16:58:46.909Z"
   },
   {
    "duration": 16,
    "start_time": "2023-08-07T16:58:52.143Z"
   },
   {
    "duration": 16,
    "start_time": "2023-08-07T17:10:47.669Z"
   },
   {
    "duration": 15,
    "start_time": "2023-08-07T17:11:09.606Z"
   },
   {
    "duration": 17,
    "start_time": "2023-08-07T17:11:21.471Z"
   },
   {
    "duration": 15,
    "start_time": "2023-08-07T17:12:37.950Z"
   },
   {
    "duration": 16,
    "start_time": "2023-08-07T17:12:49.759Z"
   },
   {
    "duration": 20,
    "start_time": "2023-08-07T17:12:58.192Z"
   },
   {
    "duration": 17,
    "start_time": "2023-08-07T17:13:03.524Z"
   },
   {
    "duration": 21,
    "start_time": "2023-08-07T17:14:34.942Z"
   },
   {
    "duration": 24,
    "start_time": "2023-08-07T17:15:12.483Z"
   },
   {
    "duration": 5,
    "start_time": "2023-08-07T17:15:20.492Z"
   },
   {
    "duration": 18,
    "start_time": "2023-08-07T17:15:23.553Z"
   },
   {
    "duration": 18,
    "start_time": "2023-08-07T17:15:39.652Z"
   },
   {
    "duration": 16,
    "start_time": "2023-08-07T17:15:47.163Z"
   },
   {
    "duration": 18,
    "start_time": "2023-08-07T17:15:59.590Z"
   },
   {
    "duration": 24,
    "start_time": "2023-08-07T17:16:06.249Z"
   },
   {
    "duration": 22,
    "start_time": "2023-08-07T17:17:37.414Z"
   },
   {
    "duration": 21,
    "start_time": "2023-08-07T17:17:55.696Z"
   },
   {
    "duration": 22,
    "start_time": "2023-08-07T17:18:00.056Z"
   },
   {
    "duration": 21,
    "start_time": "2023-08-07T17:18:58.466Z"
   },
   {
    "duration": 20,
    "start_time": "2023-08-07T17:19:03.339Z"
   },
   {
    "duration": 82,
    "start_time": "2023-08-07T17:21:27.371Z"
   },
   {
    "duration": 4,
    "start_time": "2023-08-07T17:21:40.544Z"
   },
   {
    "duration": 14,
    "start_time": "2023-08-07T17:24:37.160Z"
   },
   {
    "duration": 14,
    "start_time": "2023-08-07T17:24:41.216Z"
   },
   {
    "duration": 21,
    "start_time": "2023-08-07T17:24:43.663Z"
   },
   {
    "duration": 21,
    "start_time": "2023-08-07T17:25:09.303Z"
   },
   {
    "duration": 28,
    "start_time": "2023-08-07T17:25:26.336Z"
   },
   {
    "duration": 15,
    "start_time": "2023-08-07T17:25:54.040Z"
   },
   {
    "duration": 19,
    "start_time": "2023-08-07T17:26:59.088Z"
   },
   {
    "duration": 18,
    "start_time": "2023-08-07T17:27:23.026Z"
   },
   {
    "duration": 16,
    "start_time": "2023-08-07T17:27:25.014Z"
   },
   {
    "duration": 7,
    "start_time": "2023-08-07T17:33:12.273Z"
   },
   {
    "duration": 18,
    "start_time": "2023-08-07T17:38:00.980Z"
   },
   {
    "duration": 19,
    "start_time": "2023-08-07T17:38:12.521Z"
   },
   {
    "duration": 24,
    "start_time": "2023-08-07T17:38:16.503Z"
   },
   {
    "duration": 16,
    "start_time": "2023-08-07T17:38:20.729Z"
   },
   {
    "duration": 17,
    "start_time": "2023-08-07T17:38:23.409Z"
   },
   {
    "duration": 17,
    "start_time": "2023-08-07T17:38:26.976Z"
   },
   {
    "duration": 20,
    "start_time": "2023-08-07T17:41:33.559Z"
   },
   {
    "duration": 17,
    "start_time": "2023-08-07T17:41:47.900Z"
   },
   {
    "duration": 21,
    "start_time": "2023-08-07T17:42:08.069Z"
   },
   {
    "duration": 18,
    "start_time": "2023-08-07T17:42:52.388Z"
   },
   {
    "duration": 20,
    "start_time": "2023-08-07T17:42:56.289Z"
   },
   {
    "duration": 21,
    "start_time": "2023-08-07T17:44:15.949Z"
   },
   {
    "duration": 22,
    "start_time": "2023-08-07T17:45:10.751Z"
   },
   {
    "duration": 21,
    "start_time": "2023-08-07T17:45:40.262Z"
   },
   {
    "duration": 22,
    "start_time": "2023-08-07T17:45:44.927Z"
   },
   {
    "duration": 19,
    "start_time": "2023-08-07T17:45:53.909Z"
   },
   {
    "duration": 19,
    "start_time": "2023-08-07T17:46:04.894Z"
   },
   {
    "duration": 28,
    "start_time": "2023-08-07T17:46:21.053Z"
   },
   {
    "duration": 5,
    "start_time": "2023-08-07T17:46:36.892Z"
   },
   {
    "duration": 20,
    "start_time": "2023-08-07T17:46:39.338Z"
   },
   {
    "duration": 20,
    "start_time": "2023-08-07T17:46:45.801Z"
   },
   {
    "duration": 20,
    "start_time": "2023-08-07T17:46:49.483Z"
   },
   {
    "duration": 73,
    "start_time": "2023-08-07T17:47:10.916Z"
   },
   {
    "duration": 20,
    "start_time": "2023-08-07T17:47:13.833Z"
   },
   {
    "duration": 21,
    "start_time": "2023-08-07T17:47:29.048Z"
   },
   {
    "duration": 20,
    "start_time": "2023-08-07T17:47:36.210Z"
   },
   {
    "duration": 20,
    "start_time": "2023-08-07T17:48:24.591Z"
   },
   {
    "duration": 22,
    "start_time": "2023-08-07T17:48:28.886Z"
   },
   {
    "duration": 20,
    "start_time": "2023-08-07T17:48:39.301Z"
   },
   {
    "duration": 21,
    "start_time": "2023-08-07T17:48:43.194Z"
   },
   {
    "duration": 19,
    "start_time": "2023-08-07T17:48:48.515Z"
   },
   {
    "duration": 22,
    "start_time": "2023-08-07T17:48:52.751Z"
   },
   {
    "duration": 19,
    "start_time": "2023-08-07T17:49:14.783Z"
   },
   {
    "duration": 20,
    "start_time": "2023-08-07T17:49:18.698Z"
   },
   {
    "duration": 23,
    "start_time": "2023-08-07T17:49:22.254Z"
   },
   {
    "duration": 21,
    "start_time": "2023-08-07T17:49:27.911Z"
   },
   {
    "duration": 16,
    "start_time": "2023-08-07T17:49:36.364Z"
   },
   {
    "duration": 18,
    "start_time": "2023-08-07T17:50:17.406Z"
   },
   {
    "duration": 24,
    "start_time": "2023-08-07T17:50:23.566Z"
   },
   {
    "duration": 17,
    "start_time": "2023-08-07T17:50:33.386Z"
   },
   {
    "duration": 16,
    "start_time": "2023-08-07T17:50:37.866Z"
   },
   {
    "duration": 75,
    "start_time": "2023-08-07T17:52:47.034Z"
   },
   {
    "duration": 83,
    "start_time": "2023-08-07T17:52:53.148Z"
   },
   {
    "duration": 19,
    "start_time": "2023-08-07T17:55:08.698Z"
   },
   {
    "duration": 25,
    "start_time": "2023-08-07T17:55:17.145Z"
   },
   {
    "duration": 72,
    "start_time": "2023-08-07T17:55:34.230Z"
   },
   {
    "duration": 76,
    "start_time": "2023-08-07T17:55:40.151Z"
   },
   {
    "duration": 17,
    "start_time": "2023-08-07T17:55:45.008Z"
   },
   {
    "duration": 13,
    "start_time": "2023-08-07T17:55:58.704Z"
   },
   {
    "duration": 11,
    "start_time": "2023-08-07T17:56:03.083Z"
   },
   {
    "duration": 12,
    "start_time": "2023-08-07T17:56:14.296Z"
   },
   {
    "duration": 473,
    "start_time": "2023-08-07T17:56:27.458Z"
   },
   {
    "duration": 23,
    "start_time": "2023-08-07T17:56:27.932Z"
   },
   {
    "duration": 19,
    "start_time": "2023-08-07T17:56:27.957Z"
   },
   {
    "duration": 26,
    "start_time": "2023-08-07T17:56:27.978Z"
   },
   {
    "duration": 38,
    "start_time": "2023-08-07T17:56:28.006Z"
   },
   {
    "duration": 3,
    "start_time": "2023-08-07T17:56:28.046Z"
   },
   {
    "duration": 16,
    "start_time": "2023-08-07T17:56:28.051Z"
   },
   {
    "duration": 21,
    "start_time": "2023-08-07T17:56:28.069Z"
   },
   {
    "duration": 27,
    "start_time": "2023-08-07T17:56:28.092Z"
   },
   {
    "duration": 14,
    "start_time": "2023-08-07T17:56:28.124Z"
   },
   {
    "duration": 49,
    "start_time": "2023-08-07T17:56:28.140Z"
   },
   {
    "duration": 10,
    "start_time": "2023-08-07T17:56:28.191Z"
   },
   {
    "duration": 6,
    "start_time": "2023-08-07T17:56:28.202Z"
   },
   {
    "duration": 31,
    "start_time": "2023-08-07T17:56:28.209Z"
   },
   {
    "duration": 35,
    "start_time": "2023-08-07T17:56:28.242Z"
   },
   {
    "duration": 17,
    "start_time": "2023-08-07T17:56:28.279Z"
   },
   {
    "duration": 11,
    "start_time": "2023-08-07T17:56:28.298Z"
   },
   {
    "duration": 12,
    "start_time": "2023-08-07T17:56:28.310Z"
   },
   {
    "duration": 43,
    "start_time": "2023-08-07T17:56:28.324Z"
   },
   {
    "duration": 24,
    "start_time": "2023-08-07T17:56:28.368Z"
   },
   {
    "duration": 22,
    "start_time": "2023-08-07T17:56:28.393Z"
   },
   {
    "duration": 40,
    "start_time": "2023-08-07T17:56:28.417Z"
   },
   {
    "duration": 30,
    "start_time": "2023-08-07T17:56:28.458Z"
   },
   {
    "duration": 52,
    "start_time": "2023-08-07T17:56:28.489Z"
   },
   {
    "duration": 33,
    "start_time": "2023-08-07T17:56:28.543Z"
   },
   {
    "duration": 73,
    "start_time": "2023-08-07T17:56:28.577Z"
   },
   {
    "duration": 28,
    "start_time": "2023-08-07T17:56:28.652Z"
   },
   {
    "duration": 17,
    "start_time": "2023-08-07T17:56:28.683Z"
   },
   {
    "duration": 32,
    "start_time": "2023-08-07T17:56:28.701Z"
   },
   {
    "duration": 27,
    "start_time": "2023-08-07T17:56:28.734Z"
   },
   {
    "duration": 12,
    "start_time": "2023-08-07T17:56:58.756Z"
   },
   {
    "duration": 20,
    "start_time": "2023-08-07T17:57:32.613Z"
   },
   {
    "duration": 26,
    "start_time": "2023-08-07T17:58:18.568Z"
   },
   {
    "duration": 17,
    "start_time": "2023-08-07T17:58:28.591Z"
   },
   {
    "duration": 17,
    "start_time": "2023-08-07T17:58:43.789Z"
   },
   {
    "duration": 18,
    "start_time": "2023-08-07T17:59:04.916Z"
   },
   {
    "duration": 20,
    "start_time": "2023-08-07T17:59:58.002Z"
   },
   {
    "duration": 19,
    "start_time": "2023-08-07T18:00:31.075Z"
   },
   {
    "duration": 26,
    "start_time": "2023-08-07T18:00:40.955Z"
   },
   {
    "duration": 76,
    "start_time": "2023-08-07T18:04:06.236Z"
   },
   {
    "duration": 70,
    "start_time": "2023-08-07T18:04:23.838Z"
   },
   {
    "duration": 20,
    "start_time": "2023-08-07T18:04:40.662Z"
   },
   {
    "duration": 22,
    "start_time": "2023-08-07T18:04:58.108Z"
   },
   {
    "duration": 21,
    "start_time": "2023-08-07T18:05:36.850Z"
   },
   {
    "duration": 79,
    "start_time": "2023-08-07T18:08:18.317Z"
   },
   {
    "duration": 24,
    "start_time": "2023-08-07T18:09:09.009Z"
   },
   {
    "duration": 21,
    "start_time": "2023-08-07T18:12:04.979Z"
   },
   {
    "duration": 19,
    "start_time": "2023-08-07T18:12:12.447Z"
   },
   {
    "duration": 21,
    "start_time": "2023-08-07T18:12:22.494Z"
   },
   {
    "duration": 20,
    "start_time": "2023-08-07T18:12:27.097Z"
   },
   {
    "duration": 19,
    "start_time": "2023-08-07T18:12:29.882Z"
   },
   {
    "duration": 19,
    "start_time": "2023-08-07T18:12:34.960Z"
   },
   {
    "duration": 19,
    "start_time": "2023-08-07T18:12:37.446Z"
   },
   {
    "duration": 25,
    "start_time": "2023-08-07T18:12:46.040Z"
   },
   {
    "duration": 18,
    "start_time": "2023-08-07T18:12:50.135Z"
   },
   {
    "duration": 19,
    "start_time": "2023-08-07T18:12:53.253Z"
   },
   {
    "duration": 26,
    "start_time": "2023-08-07T18:12:54.115Z"
   },
   {
    "duration": 19,
    "start_time": "2023-08-07T18:13:02.821Z"
   },
   {
    "duration": 27,
    "start_time": "2023-08-07T18:14:59.915Z"
   },
   {
    "duration": 19,
    "start_time": "2023-08-07T18:15:34.795Z"
   },
   {
    "duration": 491,
    "start_time": "2023-08-07T18:17:59.973Z"
   },
   {
    "duration": 22,
    "start_time": "2023-08-07T18:18:00.466Z"
   },
   {
    "duration": 26,
    "start_time": "2023-08-07T18:18:00.490Z"
   },
   {
    "duration": 38,
    "start_time": "2023-08-07T18:18:00.518Z"
   },
   {
    "duration": 78,
    "start_time": "2023-08-07T18:18:00.558Z"
   },
   {
    "duration": 17,
    "start_time": "2023-08-07T18:18:00.637Z"
   },
   {
    "duration": 44,
    "start_time": "2023-08-07T18:18:00.655Z"
   },
   {
    "duration": 16,
    "start_time": "2023-08-07T18:18:00.702Z"
   },
   {
    "duration": 49,
    "start_time": "2023-08-07T18:18:00.719Z"
   },
   {
    "duration": 36,
    "start_time": "2023-08-07T18:18:00.772Z"
   },
   {
    "duration": 94,
    "start_time": "2023-08-07T18:18:00.810Z"
   },
   {
    "duration": 39,
    "start_time": "2023-08-07T18:18:00.906Z"
   },
   {
    "duration": 31,
    "start_time": "2023-08-07T18:18:00.946Z"
   },
   {
    "duration": 43,
    "start_time": "2023-08-07T18:18:00.979Z"
   },
   {
    "duration": 52,
    "start_time": "2023-08-07T18:18:01.024Z"
   },
   {
    "duration": 45,
    "start_time": "2023-08-07T18:18:01.077Z"
   },
   {
    "duration": 17,
    "start_time": "2023-08-07T18:18:01.123Z"
   },
   {
    "duration": 24,
    "start_time": "2023-08-07T18:18:01.141Z"
   },
   {
    "duration": 53,
    "start_time": "2023-08-07T18:18:01.167Z"
   },
   {
    "duration": 35,
    "start_time": "2023-08-07T18:18:01.222Z"
   },
   {
    "duration": 31,
    "start_time": "2023-08-07T18:18:01.258Z"
   },
   {
    "duration": 52,
    "start_time": "2023-08-07T18:18:01.290Z"
   },
   {
    "duration": 45,
    "start_time": "2023-08-07T18:18:01.344Z"
   },
   {
    "duration": 54,
    "start_time": "2023-08-07T18:18:01.390Z"
   },
   {
    "duration": 21,
    "start_time": "2023-08-07T18:18:01.446Z"
   },
   {
    "duration": 56,
    "start_time": "2023-08-07T18:18:01.469Z"
   },
   {
    "duration": 32,
    "start_time": "2023-08-07T18:18:01.526Z"
   },
   {
    "duration": 4,
    "start_time": "2023-08-07T18:18:01.562Z"
   },
   {
    "duration": 46,
    "start_time": "2023-08-07T18:18:01.568Z"
   },
   {
    "duration": 35,
    "start_time": "2023-08-07T18:18:01.616Z"
   },
   {
    "duration": 27,
    "start_time": "2023-08-07T18:18:15.579Z"
   },
   {
    "duration": 43,
    "start_time": "2023-08-07T18:18:19.401Z"
   },
   {
    "duration": 21,
    "start_time": "2023-08-07T18:18:49.663Z"
   },
   {
    "duration": 19,
    "start_time": "2023-08-07T18:19:04.208Z"
   },
   {
    "duration": 20,
    "start_time": "2023-08-07T18:21:32.771Z"
   },
   {
    "duration": 19,
    "start_time": "2023-08-07T18:21:41.563Z"
   },
   {
    "duration": 18,
    "start_time": "2023-08-07T18:21:49.400Z"
   },
   {
    "duration": 19,
    "start_time": "2023-08-07T18:21:51.919Z"
   },
   {
    "duration": 19,
    "start_time": "2023-08-07T18:21:56.349Z"
   },
   {
    "duration": 21,
    "start_time": "2023-08-07T18:22:06.183Z"
   },
   {
    "duration": 19,
    "start_time": "2023-08-07T18:22:11.277Z"
   },
   {
    "duration": 21,
    "start_time": "2023-08-07T18:22:14.577Z"
   },
   {
    "duration": 16,
    "start_time": "2023-08-07T18:22:21.288Z"
   },
   {
    "duration": 18,
    "start_time": "2023-08-07T18:22:26.309Z"
   },
   {
    "duration": 17,
    "start_time": "2023-08-07T18:22:29.479Z"
   },
   {
    "duration": 24,
    "start_time": "2023-08-07T18:22:32.559Z"
   },
   {
    "duration": 19,
    "start_time": "2023-08-07T18:22:36.453Z"
   },
   {
    "duration": 22,
    "start_time": "2023-08-07T18:22:38.116Z"
   },
   {
    "duration": 19,
    "start_time": "2023-08-07T18:22:42.453Z"
   },
   {
    "duration": 17,
    "start_time": "2023-08-07T18:22:47.305Z"
   },
   {
    "duration": 433,
    "start_time": "2023-08-07T18:22:51.864Z"
   },
   {
    "duration": 20,
    "start_time": "2023-08-07T18:22:52.299Z"
   },
   {
    "duration": 14,
    "start_time": "2023-08-07T18:22:52.321Z"
   },
   {
    "duration": 9,
    "start_time": "2023-08-07T18:22:52.336Z"
   },
   {
    "duration": 28,
    "start_time": "2023-08-07T18:22:52.346Z"
   },
   {
    "duration": 25,
    "start_time": "2023-08-07T18:22:52.375Z"
   },
   {
    "duration": 7,
    "start_time": "2023-08-07T18:22:52.401Z"
   },
   {
    "duration": 10,
    "start_time": "2023-08-07T18:22:52.409Z"
   },
   {
    "duration": 10,
    "start_time": "2023-08-07T18:22:52.421Z"
   },
   {
    "duration": 5,
    "start_time": "2023-08-07T18:22:52.434Z"
   },
   {
    "duration": 29,
    "start_time": "2023-08-07T18:22:52.440Z"
   },
   {
    "duration": 8,
    "start_time": "2023-08-07T18:22:52.470Z"
   },
   {
    "duration": 25,
    "start_time": "2023-08-07T18:22:52.479Z"
   },
   {
    "duration": 25,
    "start_time": "2023-08-07T18:22:52.505Z"
   },
   {
    "duration": 30,
    "start_time": "2023-08-07T18:22:52.531Z"
   },
   {
    "duration": 15,
    "start_time": "2023-08-07T18:22:52.562Z"
   },
   {
    "duration": 3,
    "start_time": "2023-08-07T18:22:52.578Z"
   },
   {
    "duration": 10,
    "start_time": "2023-08-07T18:22:52.583Z"
   },
   {
    "duration": 5,
    "start_time": "2023-08-07T18:22:52.594Z"
   },
   {
    "duration": 8,
    "start_time": "2023-08-07T18:22:52.601Z"
   },
   {
    "duration": 10,
    "start_time": "2023-08-07T18:22:52.611Z"
   },
   {
    "duration": 23,
    "start_time": "2023-08-07T18:22:52.622Z"
   },
   {
    "duration": 16,
    "start_time": "2023-08-07T18:22:52.646Z"
   },
   {
    "duration": 41,
    "start_time": "2023-08-07T18:22:52.663Z"
   },
   {
    "duration": 19,
    "start_time": "2023-08-07T18:22:52.705Z"
   },
   {
    "duration": 26,
    "start_time": "2023-08-07T18:22:52.725Z"
   },
   {
    "duration": 23,
    "start_time": "2023-08-07T18:22:52.752Z"
   },
   {
    "duration": 4,
    "start_time": "2023-08-07T18:22:52.799Z"
   },
   {
    "duration": 8,
    "start_time": "2023-08-07T18:22:52.805Z"
   },
   {
    "duration": 11,
    "start_time": "2023-08-07T18:22:52.815Z"
   },
   {
    "duration": 20,
    "start_time": "2023-08-07T18:23:57.433Z"
   },
   {
    "duration": 26,
    "start_time": "2023-08-07T18:24:35.210Z"
   },
   {
    "duration": 24,
    "start_time": "2023-08-07T18:24:54.658Z"
   },
   {
    "duration": 21,
    "start_time": "2023-08-07T18:28:07.094Z"
   },
   {
    "duration": 21,
    "start_time": "2023-08-07T18:28:09.498Z"
   },
   {
    "duration": 25,
    "start_time": "2023-08-07T18:28:18.019Z"
   },
   {
    "duration": 32,
    "start_time": "2023-08-07T18:28:26.307Z"
   },
   {
    "duration": 19,
    "start_time": "2023-08-07T18:28:39.272Z"
   },
   {
    "duration": 20,
    "start_time": "2023-08-07T18:28:42.727Z"
   },
   {
    "duration": 20,
    "start_time": "2023-08-07T18:28:44.609Z"
   },
   {
    "duration": 31,
    "start_time": "2023-08-07T18:28:45.365Z"
   },
   {
    "duration": 26,
    "start_time": "2023-08-07T18:28:51.026Z"
   },
   {
    "duration": 473,
    "start_time": "2023-08-07T18:28:56.069Z"
   },
   {
    "duration": 19,
    "start_time": "2023-08-07T18:28:56.544Z"
   },
   {
    "duration": 13,
    "start_time": "2023-08-07T18:28:56.565Z"
   },
   {
    "duration": 21,
    "start_time": "2023-08-07T18:28:56.579Z"
   },
   {
    "duration": 29,
    "start_time": "2023-08-07T18:28:56.602Z"
   },
   {
    "duration": 3,
    "start_time": "2023-08-07T18:28:56.632Z"
   },
   {
    "duration": 10,
    "start_time": "2023-08-07T18:28:56.636Z"
   },
   {
    "duration": 6,
    "start_time": "2023-08-07T18:28:56.647Z"
   },
   {
    "duration": 9,
    "start_time": "2023-08-07T18:28:56.655Z"
   },
   {
    "duration": 4,
    "start_time": "2023-08-07T18:28:56.665Z"
   },
   {
    "duration": 50,
    "start_time": "2023-08-07T18:28:56.671Z"
   },
   {
    "duration": 8,
    "start_time": "2023-08-07T18:28:56.722Z"
   },
   {
    "duration": 3,
    "start_time": "2023-08-07T18:28:56.731Z"
   },
   {
    "duration": 10,
    "start_time": "2023-08-07T18:28:56.736Z"
   },
   {
    "duration": 17,
    "start_time": "2023-08-07T18:28:56.747Z"
   },
   {
    "duration": 34,
    "start_time": "2023-08-07T18:28:56.765Z"
   },
   {
    "duration": 3,
    "start_time": "2023-08-07T18:28:56.801Z"
   },
   {
    "duration": 12,
    "start_time": "2023-08-07T18:28:56.805Z"
   },
   {
    "duration": 15,
    "start_time": "2023-08-07T18:28:56.819Z"
   },
   {
    "duration": 4,
    "start_time": "2023-08-07T18:28:56.835Z"
   },
   {
    "duration": 15,
    "start_time": "2023-08-07T18:28:56.840Z"
   },
   {
    "duration": 28,
    "start_time": "2023-08-07T18:28:56.856Z"
   },
   {
    "duration": 19,
    "start_time": "2023-08-07T18:28:56.886Z"
   },
   {
    "duration": 21,
    "start_time": "2023-08-07T18:28:56.906Z"
   },
   {
    "duration": 39,
    "start_time": "2023-08-07T18:28:56.929Z"
   },
   {
    "duration": 20,
    "start_time": "2023-08-07T18:28:56.970Z"
   },
   {
    "duration": 27,
    "start_time": "2023-08-07T18:28:57.000Z"
   },
   {
    "duration": 25,
    "start_time": "2023-08-07T18:28:57.029Z"
   },
   {
    "duration": 3,
    "start_time": "2023-08-07T18:28:57.056Z"
   },
   {
    "duration": 28,
    "start_time": "2023-08-07T18:28:57.061Z"
   },
   {
    "duration": 9,
    "start_time": "2023-08-07T18:28:57.090Z"
   },
   {
    "duration": 21,
    "start_time": "2023-08-07T18:29:09.467Z"
   },
   {
    "duration": 503,
    "start_time": "2023-08-07T18:29:16.895Z"
   },
   {
    "duration": 20,
    "start_time": "2023-08-07T18:29:17.400Z"
   },
   {
    "duration": 24,
    "start_time": "2023-08-07T18:29:17.421Z"
   },
   {
    "duration": 8,
    "start_time": "2023-08-07T18:29:17.447Z"
   },
   {
    "duration": 38,
    "start_time": "2023-08-07T18:29:17.456Z"
   },
   {
    "duration": 3,
    "start_time": "2023-08-07T18:29:17.500Z"
   },
   {
    "duration": 32,
    "start_time": "2023-08-07T18:29:17.505Z"
   },
   {
    "duration": 10,
    "start_time": "2023-08-07T18:29:17.539Z"
   },
   {
    "duration": 21,
    "start_time": "2023-08-07T18:29:17.551Z"
   },
   {
    "duration": 12,
    "start_time": "2023-08-07T18:29:17.574Z"
   },
   {
    "duration": 47,
    "start_time": "2023-08-07T18:29:17.587Z"
   },
   {
    "duration": 9,
    "start_time": "2023-08-07T18:29:17.635Z"
   },
   {
    "duration": 18,
    "start_time": "2023-08-07T18:29:17.645Z"
   },
   {
    "duration": 32,
    "start_time": "2023-08-07T18:29:17.664Z"
   },
   {
    "duration": 30,
    "start_time": "2023-08-07T18:29:17.697Z"
   },
   {
    "duration": 38,
    "start_time": "2023-08-07T18:29:17.729Z"
   },
   {
    "duration": 8,
    "start_time": "2023-08-07T18:29:17.769Z"
   },
   {
    "duration": 14,
    "start_time": "2023-08-07T18:29:17.778Z"
   },
   {
    "duration": 17,
    "start_time": "2023-08-07T18:29:17.794Z"
   },
   {
    "duration": 24,
    "start_time": "2023-08-07T18:29:17.813Z"
   },
   {
    "duration": 11,
    "start_time": "2023-08-07T18:29:17.838Z"
   },
   {
    "duration": 21,
    "start_time": "2023-08-07T18:29:17.850Z"
   },
   {
    "duration": 16,
    "start_time": "2023-08-07T18:29:17.872Z"
   },
   {
    "duration": 21,
    "start_time": "2023-08-07T18:29:17.889Z"
   },
   {
    "duration": 30,
    "start_time": "2023-08-07T18:29:17.913Z"
   },
   {
    "duration": 22,
    "start_time": "2023-08-07T18:29:17.944Z"
   },
   {
    "duration": 34,
    "start_time": "2023-08-07T18:29:17.967Z"
   },
   {
    "duration": 24,
    "start_time": "2023-08-07T18:29:18.004Z"
   },
   {
    "duration": 5,
    "start_time": "2023-08-07T18:29:18.030Z"
   },
   {
    "duration": 13,
    "start_time": "2023-08-07T18:29:18.037Z"
   },
   {
    "duration": 13,
    "start_time": "2023-08-07T18:29:18.051Z"
   },
   {
    "duration": 22,
    "start_time": "2023-08-07T18:29:27.768Z"
   },
   {
    "duration": 485,
    "start_time": "2023-08-07T18:29:34.972Z"
   },
   {
    "duration": 19,
    "start_time": "2023-08-07T18:29:35.459Z"
   },
   {
    "duration": 14,
    "start_time": "2023-08-07T18:29:35.479Z"
   },
   {
    "duration": 23,
    "start_time": "2023-08-07T18:29:35.496Z"
   },
   {
    "duration": 58,
    "start_time": "2023-08-07T18:29:35.520Z"
   },
   {
    "duration": 3,
    "start_time": "2023-08-07T18:29:35.579Z"
   },
   {
    "duration": 25,
    "start_time": "2023-08-07T18:29:35.583Z"
   },
   {
    "duration": 9,
    "start_time": "2023-08-07T18:29:35.609Z"
   },
   {
    "duration": 26,
    "start_time": "2023-08-07T18:29:35.619Z"
   },
   {
    "duration": 4,
    "start_time": "2023-08-07T18:29:35.647Z"
   },
   {
    "duration": 35,
    "start_time": "2023-08-07T18:29:35.652Z"
   },
   {
    "duration": 8,
    "start_time": "2023-08-07T18:29:35.689Z"
   },
   {
    "duration": 21,
    "start_time": "2023-08-07T18:29:35.699Z"
   },
   {
    "duration": 22,
    "start_time": "2023-08-07T18:29:35.721Z"
   },
   {
    "duration": 21,
    "start_time": "2023-08-07T18:29:35.745Z"
   },
   {
    "duration": 15,
    "start_time": "2023-08-07T18:29:35.768Z"
   },
   {
    "duration": 3,
    "start_time": "2023-08-07T18:29:35.785Z"
   },
   {
    "duration": 17,
    "start_time": "2023-08-07T18:29:35.789Z"
   },
   {
    "duration": 12,
    "start_time": "2023-08-07T18:29:35.807Z"
   },
   {
    "duration": 7,
    "start_time": "2023-08-07T18:29:35.820Z"
   },
   {
    "duration": 12,
    "start_time": "2023-08-07T18:29:35.829Z"
   },
   {
    "duration": 23,
    "start_time": "2023-08-07T18:29:35.842Z"
   },
   {
    "duration": 16,
    "start_time": "2023-08-07T18:29:35.866Z"
   },
   {
    "duration": 31,
    "start_time": "2023-08-07T18:29:35.883Z"
   },
   {
    "duration": 37,
    "start_time": "2023-08-07T18:29:35.916Z"
   },
   {
    "duration": 24,
    "start_time": "2023-08-07T18:29:35.954Z"
   },
   {
    "duration": 53,
    "start_time": "2023-08-07T18:29:35.980Z"
   },
   {
    "duration": 30,
    "start_time": "2023-08-07T18:29:36.036Z"
   },
   {
    "duration": 5,
    "start_time": "2023-08-07T18:29:36.068Z"
   },
   {
    "duration": 26,
    "start_time": "2023-08-07T18:29:36.074Z"
   },
   {
    "duration": 12,
    "start_time": "2023-08-07T18:29:36.102Z"
   },
   {
    "duration": 41,
    "start_time": "2023-08-07T18:34:22.106Z"
   },
   {
    "duration": 25,
    "start_time": "2023-08-07T18:35:07.415Z"
   },
   {
    "duration": 23,
    "start_time": "2023-08-07T18:35:23.977Z"
   },
   {
    "duration": 19,
    "start_time": "2023-08-07T18:36:22.604Z"
   },
   {
    "duration": 19,
    "start_time": "2023-08-07T18:36:33.927Z"
   },
   {
    "duration": 23,
    "start_time": "2023-08-07T18:45:54.463Z"
   },
   {
    "duration": 5,
    "start_time": "2023-08-07T18:46:32.619Z"
   },
   {
    "duration": 72,
    "start_time": "2023-08-07T18:46:37.415Z"
   },
   {
    "duration": 34,
    "start_time": "2023-08-07T18:46:56.164Z"
   },
   {
    "duration": 25,
    "start_time": "2023-08-07T18:48:50.955Z"
   },
   {
    "duration": 29,
    "start_time": "2023-08-07T18:50:00.055Z"
   },
   {
    "duration": 70,
    "start_time": "2023-08-07T19:03:50.778Z"
   },
   {
    "duration": 3,
    "start_time": "2023-08-07T19:06:07.979Z"
   },
   {
    "duration": 3,
    "start_time": "2023-08-07T19:06:24.669Z"
   },
   {
    "duration": 20,
    "start_time": "2023-08-07T19:06:29.361Z"
   },
   {
    "duration": 3,
    "start_time": "2023-08-07T19:06:45.463Z"
   },
   {
    "duration": 22,
    "start_time": "2023-08-07T19:06:48.011Z"
   },
   {
    "duration": 3,
    "start_time": "2023-08-07T19:07:02.810Z"
   },
   {
    "duration": 31,
    "start_time": "2023-08-07T19:07:06.465Z"
   },
   {
    "duration": 78,
    "start_time": "2023-08-07T19:12:30.762Z"
   },
   {
    "duration": 85,
    "start_time": "2023-08-07T20:04:53.384Z"
   },
   {
    "duration": 1488,
    "start_time": "2023-08-07T20:48:21.453Z"
   },
   {
    "duration": 36,
    "start_time": "2023-08-07T20:48:22.947Z"
   },
   {
    "duration": 19,
    "start_time": "2023-08-07T20:48:22.986Z"
   },
   {
    "duration": 64,
    "start_time": "2023-08-07T20:48:23.006Z"
   },
   {
    "duration": 73,
    "start_time": "2023-08-07T20:48:23.072Z"
   },
   {
    "duration": 21,
    "start_time": "2023-08-07T20:48:23.146Z"
   },
   {
    "duration": 21,
    "start_time": "2023-08-07T20:48:23.169Z"
   },
   {
    "duration": 5,
    "start_time": "2023-08-07T20:48:23.192Z"
   },
   {
    "duration": 76,
    "start_time": "2023-08-07T20:48:23.198Z"
   },
   {
    "duration": 36,
    "start_time": "2023-08-07T20:48:23.277Z"
   },
   {
    "duration": 73,
    "start_time": "2023-08-07T20:48:23.330Z"
   },
   {
    "duration": 21,
    "start_time": "2023-08-07T20:48:23.422Z"
   },
   {
    "duration": 32,
    "start_time": "2023-08-07T20:48:23.447Z"
   },
   {
    "duration": 22,
    "start_time": "2023-08-07T20:48:23.481Z"
   },
   {
    "duration": 101,
    "start_time": "2023-08-07T20:48:23.508Z"
   },
   {
    "duration": 53,
    "start_time": "2023-08-07T20:48:23.613Z"
   },
   {
    "duration": 112,
    "start_time": "2023-08-07T20:48:23.669Z"
   },
   {
    "duration": 13,
    "start_time": "2023-08-07T20:48:23.783Z"
   },
   {
    "duration": 65,
    "start_time": "2023-08-07T20:48:23.797Z"
   },
   {
    "duration": 12,
    "start_time": "2023-08-07T20:48:23.864Z"
   },
   {
    "duration": 15,
    "start_time": "2023-08-07T20:48:23.878Z"
   },
   {
    "duration": 73,
    "start_time": "2023-08-07T20:48:23.895Z"
   },
   {
    "duration": 52,
    "start_time": "2023-08-07T20:48:23.970Z"
   },
   {
    "duration": 22,
    "start_time": "2023-08-07T20:48:24.025Z"
   },
   {
    "duration": 29,
    "start_time": "2023-08-07T20:48:24.048Z"
   },
   {
    "duration": 3,
    "start_time": "2023-08-07T20:48:24.079Z"
   },
   {
    "duration": 24,
    "start_time": "2023-08-07T20:48:24.084Z"
   },
   {
    "duration": 4,
    "start_time": "2023-08-07T20:48:24.112Z"
   },
   {
    "duration": 34,
    "start_time": "2023-08-07T20:48:24.119Z"
   },
   {
    "duration": 32,
    "start_time": "2023-08-07T20:48:24.154Z"
   },
   {
    "duration": 5,
    "start_time": "2023-08-07T20:48:24.188Z"
   },
   {
    "duration": 56,
    "start_time": "2023-08-07T20:48:24.197Z"
   },
   {
    "duration": 573,
    "start_time": "2023-08-07T22:48:05.094Z"
   },
   {
    "duration": 22,
    "start_time": "2023-08-07T22:48:05.669Z"
   },
   {
    "duration": 70,
    "start_time": "2023-08-07T22:48:05.700Z"
   },
   {
    "duration": 14,
    "start_time": "2023-08-07T22:48:05.773Z"
   },
   {
    "duration": 97,
    "start_time": "2023-08-07T22:48:05.789Z"
   },
   {
    "duration": 6,
    "start_time": "2023-08-07T22:48:05.889Z"
   },
   {
    "duration": 51,
    "start_time": "2023-08-07T22:48:05.897Z"
   },
   {
    "duration": 19,
    "start_time": "2023-08-07T22:48:05.950Z"
   },
   {
    "duration": 19,
    "start_time": "2023-08-07T22:48:05.971Z"
   },
   {
    "duration": 36,
    "start_time": "2023-08-07T22:48:05.995Z"
   },
   {
    "duration": 68,
    "start_time": "2023-08-07T22:48:06.042Z"
   },
   {
    "duration": 17,
    "start_time": "2023-08-07T22:48:06.111Z"
   },
   {
    "duration": 54,
    "start_time": "2023-08-07T22:48:06.130Z"
   },
   {
    "duration": 65,
    "start_time": "2023-08-07T22:48:06.187Z"
   },
   {
    "duration": 75,
    "start_time": "2023-08-07T22:48:06.255Z"
   },
   {
    "duration": 18,
    "start_time": "2023-08-07T22:48:06.338Z"
   },
   {
    "duration": 4,
    "start_time": "2023-08-07T22:48:06.359Z"
   },
   {
    "duration": 12,
    "start_time": "2023-08-07T22:48:06.364Z"
   },
   {
    "duration": 12,
    "start_time": "2023-08-07T22:48:06.377Z"
   },
   {
    "duration": 53,
    "start_time": "2023-08-07T22:48:06.391Z"
   },
   {
    "duration": 15,
    "start_time": "2023-08-07T22:48:06.445Z"
   },
   {
    "duration": 959,
    "start_time": "2023-08-07T22:48:06.462Z"
   },
   {
    "duration": 5,
    "start_time": "2023-08-07T22:48:07.423Z"
   },
   {
    "duration": 88,
    "start_time": "2023-08-07T22:48:07.430Z"
   },
   {
    "duration": 4,
    "start_time": "2023-08-07T22:48:07.521Z"
   },
   {
    "duration": 46,
    "start_time": "2023-08-07T22:48:07.527Z"
   },
   {
    "duration": 3,
    "start_time": "2023-08-07T22:48:07.575Z"
   },
   {
    "duration": 53,
    "start_time": "2023-08-07T22:48:07.580Z"
   },
   {
    "duration": 15,
    "start_time": "2023-08-07T22:48:07.635Z"
   },
   {
    "duration": 36,
    "start_time": "2023-08-07T22:48:07.651Z"
   },
   {
    "duration": 9,
    "start_time": "2023-08-07T22:48:07.688Z"
   },
   {
    "duration": 59,
    "start_time": "2023-08-07T22:48:07.698Z"
   },
   {
    "duration": 10,
    "start_time": "2023-08-07T22:48:07.759Z"
   },
   {
    "duration": 101,
    "start_time": "2023-08-09T10:01:01.025Z"
   },
   {
    "duration": 607,
    "start_time": "2023-08-09T10:01:35.390Z"
   },
   {
    "duration": 705,
    "start_time": "2023-08-09T10:01:44.693Z"
   },
   {
    "duration": 31,
    "start_time": "2023-08-09T10:01:45.401Z"
   },
   {
    "duration": 22,
    "start_time": "2023-08-09T10:01:45.434Z"
   },
   {
    "duration": 11,
    "start_time": "2023-08-09T10:01:45.458Z"
   },
   {
    "duration": 49,
    "start_time": "2023-08-09T10:01:45.471Z"
   },
   {
    "duration": 4,
    "start_time": "2023-08-09T10:01:45.521Z"
   },
   {
    "duration": 34,
    "start_time": "2023-08-09T10:01:45.526Z"
   },
   {
    "duration": 30,
    "start_time": "2023-08-09T10:01:45.561Z"
   },
   {
    "duration": 39,
    "start_time": "2023-08-09T10:01:45.593Z"
   },
   {
    "duration": 34,
    "start_time": "2023-08-09T10:01:45.636Z"
   },
   {
    "duration": 66,
    "start_time": "2023-08-09T10:01:45.671Z"
   },
   {
    "duration": 10,
    "start_time": "2023-08-09T10:01:45.739Z"
   },
   {
    "duration": 16,
    "start_time": "2023-08-09T10:01:45.751Z"
   },
   {
    "duration": 18,
    "start_time": "2023-08-09T10:01:45.769Z"
   },
   {
    "duration": 80,
    "start_time": "2023-08-09T10:01:45.789Z"
   },
   {
    "duration": 58,
    "start_time": "2023-08-09T10:01:45.871Z"
   },
   {
    "duration": 37,
    "start_time": "2023-08-09T10:01:45.931Z"
   },
   {
    "duration": 31,
    "start_time": "2023-08-09T10:01:45.970Z"
   },
   {
    "duration": 29,
    "start_time": "2023-08-09T10:01:46.002Z"
   },
   {
    "duration": 27,
    "start_time": "2023-08-09T10:01:46.033Z"
   },
   {
    "duration": 27,
    "start_time": "2023-08-09T10:01:46.062Z"
   },
   {
    "duration": 587,
    "start_time": "2023-08-09T10:01:46.091Z"
   },
   {
    "duration": 4,
    "start_time": "2023-08-09T10:01:46.680Z"
   },
   {
    "duration": 61,
    "start_time": "2023-08-09T10:01:46.686Z"
   },
   {
    "duration": 3,
    "start_time": "2023-08-09T10:01:46.750Z"
   },
   {
    "duration": 70,
    "start_time": "2023-08-09T10:01:46.788Z"
   },
   {
    "duration": 4,
    "start_time": "2023-08-09T10:01:46.859Z"
   },
   {
    "duration": 58,
    "start_time": "2023-08-09T10:01:46.867Z"
   },
   {
    "duration": 3,
    "start_time": "2023-08-09T10:01:46.927Z"
   },
   {
    "duration": 47,
    "start_time": "2023-08-09T10:01:46.932Z"
   },
   {
    "duration": 13,
    "start_time": "2023-08-09T10:01:46.981Z"
   },
   {
    "duration": 36,
    "start_time": "2023-08-09T10:01:46.996Z"
   },
   {
    "duration": 23,
    "start_time": "2023-08-09T10:01:47.034Z"
   },
   {
    "duration": 131,
    "start_time": "2023-08-09T10:15:08.445Z"
   },
   {
    "duration": 31,
    "start_time": "2023-08-09T10:15:16.740Z"
   },
   {
    "duration": 32,
    "start_time": "2023-08-09T10:16:08.587Z"
   },
   {
    "duration": 22,
    "start_time": "2023-08-09T10:16:28.411Z"
   },
   {
    "duration": 23,
    "start_time": "2023-08-09T10:16:50.540Z"
   },
   {
    "duration": 25,
    "start_time": "2023-08-09T10:17:17.460Z"
   },
   {
    "duration": 21,
    "start_time": "2023-08-09T10:18:30.356Z"
   },
   {
    "duration": 22,
    "start_time": "2023-08-09T10:18:53.252Z"
   },
   {
    "duration": 27,
    "start_time": "2023-08-09T10:19:26.052Z"
   },
   {
    "duration": 23,
    "start_time": "2023-08-09T10:19:33.403Z"
   },
   {
    "duration": 22,
    "start_time": "2023-08-09T10:19:39.635Z"
   },
   {
    "duration": 30,
    "start_time": "2023-08-09T10:19:45.053Z"
   },
   {
    "duration": 97,
    "start_time": "2023-08-09T10:20:04.866Z"
   },
   {
    "duration": 410,
    "start_time": "2023-08-09T10:21:45.444Z"
   },
   {
    "duration": 108,
    "start_time": "2023-08-09T10:21:52.571Z"
   },
   {
    "duration": 365,
    "start_time": "2023-08-09T10:22:16.103Z"
   },
   {
    "duration": 76,
    "start_time": "2023-08-09T10:22:20.275Z"
   },
   {
    "duration": 70,
    "start_time": "2023-08-09T10:31:47.495Z"
   },
   {
    "duration": 14,
    "start_time": "2023-08-09T10:34:30.850Z"
   },
   {
    "duration": 18,
    "start_time": "2023-08-09T10:34:44.756Z"
   },
   {
    "duration": 72,
    "start_time": "2023-08-09T10:34:50.505Z"
   },
   {
    "duration": 46,
    "start_time": "2023-08-09T10:35:19.986Z"
   },
   {
    "duration": 44,
    "start_time": "2023-08-09T10:35:25.651Z"
   },
   {
    "duration": 82,
    "start_time": "2023-08-09T10:35:36.681Z"
   },
   {
    "duration": 19,
    "start_time": "2023-08-09T10:36:17.915Z"
   },
   {
    "duration": 95,
    "start_time": "2023-08-09T10:37:25.473Z"
   },
   {
    "duration": 93,
    "start_time": "2023-08-09T10:37:45.409Z"
   },
   {
    "duration": 69,
    "start_time": "2023-08-09T10:38:18.406Z"
   },
   {
    "duration": 137,
    "start_time": "2023-08-09T10:38:22.704Z"
   },
   {
    "duration": 22,
    "start_time": "2023-08-09T10:39:02.224Z"
   },
   {
    "duration": 21,
    "start_time": "2023-08-09T10:39:47.441Z"
   },
   {
    "duration": 85,
    "start_time": "2023-08-09T10:40:12.283Z"
   },
   {
    "duration": 94,
    "start_time": "2023-08-09T10:40:46.921Z"
   },
   {
    "duration": 50,
    "start_time": "2023-08-09T10:41:16.369Z"
   },
   {
    "duration": 46,
    "start_time": "2023-08-09T10:41:56.404Z"
   },
   {
    "duration": 82,
    "start_time": "2023-08-09T10:42:23.929Z"
   },
   {
    "duration": 78,
    "start_time": "2023-08-09T10:42:48.082Z"
   },
   {
    "duration": 104,
    "start_time": "2023-08-09T10:42:55.265Z"
   },
   {
    "duration": 99,
    "start_time": "2023-08-09T10:43:18.813Z"
   },
   {
    "duration": 91,
    "start_time": "2023-08-09T10:43:52.736Z"
   },
   {
    "duration": 3,
    "start_time": "2023-08-09T10:53:29.488Z"
   },
   {
    "duration": 73,
    "start_time": "2023-08-09T10:54:52.385Z"
   },
   {
    "duration": 3,
    "start_time": "2023-08-09T10:56:18.457Z"
   },
   {
    "duration": 105,
    "start_time": "2023-08-09T10:57:20.584Z"
   },
   {
    "duration": 4,
    "start_time": "2023-08-09T10:57:33.744Z"
   },
   {
    "duration": 4,
    "start_time": "2023-08-09T10:58:34.820Z"
   },
   {
    "duration": 69,
    "start_time": "2023-08-09T10:58:40.809Z"
   },
   {
    "duration": 7,
    "start_time": "2023-08-09T10:59:06.920Z"
   },
   {
    "duration": 95,
    "start_time": "2023-08-09T11:16:53.949Z"
   },
   {
    "duration": 125,
    "start_time": "2023-08-09T11:17:02.766Z"
   },
   {
    "duration": 587,
    "start_time": "2023-08-09T11:17:15.872Z"
   },
   {
    "duration": 43,
    "start_time": "2023-08-09T11:17:16.462Z"
   },
   {
    "duration": 33,
    "start_time": "2023-08-09T11:17:16.506Z"
   },
   {
    "duration": 77,
    "start_time": "2023-08-09T11:17:16.541Z"
   },
   {
    "duration": 73,
    "start_time": "2023-08-09T11:17:16.621Z"
   },
   {
    "duration": 25,
    "start_time": "2023-08-09T11:17:16.702Z"
   },
   {
    "duration": 82,
    "start_time": "2023-08-09T11:17:16.729Z"
   },
   {
    "duration": 36,
    "start_time": "2023-08-09T11:17:16.813Z"
   },
   {
    "duration": 54,
    "start_time": "2023-08-09T11:17:16.851Z"
   },
   {
    "duration": 23,
    "start_time": "2023-08-09T11:17:16.910Z"
   },
   {
    "duration": 78,
    "start_time": "2023-08-09T11:17:16.935Z"
   },
   {
    "duration": 17,
    "start_time": "2023-08-09T11:17:17.015Z"
   },
   {
    "duration": 28,
    "start_time": "2023-08-09T11:17:17.034Z"
   },
   {
    "duration": 55,
    "start_time": "2023-08-09T11:17:17.066Z"
   },
   {
    "duration": 42,
    "start_time": "2023-08-09T11:17:17.124Z"
   },
   {
    "duration": 81,
    "start_time": "2023-08-09T11:17:17.169Z"
   },
   {
    "duration": 70,
    "start_time": "2023-08-09T11:17:17.253Z"
   },
   {
    "duration": 118,
    "start_time": "2023-08-09T11:17:17.325Z"
   },
   {
    "duration": 41,
    "start_time": "2023-08-09T11:17:17.446Z"
   },
   {
    "duration": 47,
    "start_time": "2023-08-09T11:17:17.489Z"
   },
   {
    "duration": 48,
    "start_time": "2023-08-09T11:17:17.538Z"
   },
   {
    "duration": 667,
    "start_time": "2023-08-09T11:17:17.588Z"
   },
   {
    "duration": 4,
    "start_time": "2023-08-09T11:17:18.258Z"
   },
   {
    "duration": 47,
    "start_time": "2023-08-09T11:17:18.265Z"
   },
   {
    "duration": 138,
    "start_time": "2023-08-09T11:17:18.314Z"
   },
   {
    "duration": 4,
    "start_time": "2023-08-09T11:17:18.454Z"
   },
   {
    "duration": 24,
    "start_time": "2023-08-09T11:17:18.462Z"
   },
   {
    "duration": 143,
    "start_time": "2023-08-09T11:17:18.490Z"
   },
   {
    "duration": 4,
    "start_time": "2023-08-09T11:17:18.636Z"
   },
   {
    "duration": 59,
    "start_time": "2023-08-09T11:17:18.642Z"
   },
   {
    "duration": 113,
    "start_time": "2023-08-09T11:17:18.704Z"
   },
   {
    "duration": 3,
    "start_time": "2023-08-09T11:17:18.823Z"
   },
   {
    "duration": 10,
    "start_time": "2023-08-09T11:17:18.828Z"
   },
   {
    "duration": 100,
    "start_time": "2023-08-09T11:17:18.840Z"
   },
   {
    "duration": 6,
    "start_time": "2023-08-09T11:17:18.941Z"
   },
   {
    "duration": 23,
    "start_time": "2023-08-09T11:17:18.950Z"
   },
   {
    "duration": 23,
    "start_time": "2023-08-09T11:17:18.975Z"
   },
   {
    "duration": 567,
    "start_time": "2023-08-09T14:43:24.959Z"
   },
   {
    "duration": 23,
    "start_time": "2023-08-09T14:43:25.529Z"
   },
   {
    "duration": 24,
    "start_time": "2023-08-09T14:43:25.553Z"
   },
   {
    "duration": 12,
    "start_time": "2023-08-09T14:43:25.580Z"
   },
   {
    "duration": 34,
    "start_time": "2023-08-09T14:43:25.594Z"
   },
   {
    "duration": 3,
    "start_time": "2023-08-09T14:43:25.630Z"
   },
   {
    "duration": 22,
    "start_time": "2023-08-09T14:43:25.635Z"
   },
   {
    "duration": 5,
    "start_time": "2023-08-09T14:43:25.666Z"
   },
   {
    "duration": 9,
    "start_time": "2023-08-09T14:43:25.673Z"
   },
   {
    "duration": 6,
    "start_time": "2023-08-09T14:43:25.686Z"
   },
   {
    "duration": 76,
    "start_time": "2023-08-09T14:43:25.694Z"
   },
   {
    "duration": 14,
    "start_time": "2023-08-09T14:43:25.772Z"
   },
   {
    "duration": 4,
    "start_time": "2023-08-09T14:43:25.788Z"
   },
   {
    "duration": 13,
    "start_time": "2023-08-09T14:43:25.794Z"
   },
   {
    "duration": 31,
    "start_time": "2023-08-09T14:43:25.809Z"
   },
   {
    "duration": 45,
    "start_time": "2023-08-09T14:43:25.842Z"
   },
   {
    "duration": 4,
    "start_time": "2023-08-09T14:43:25.890Z"
   },
   {
    "duration": 21,
    "start_time": "2023-08-09T14:43:25.896Z"
   },
   {
    "duration": 8,
    "start_time": "2023-08-09T14:43:25.919Z"
   },
   {
    "duration": 4,
    "start_time": "2023-08-09T14:43:25.929Z"
   },
   {
    "duration": 13,
    "start_time": "2023-08-09T14:43:25.934Z"
   },
   {
    "duration": 811,
    "start_time": "2023-08-09T14:43:25.949Z"
   },
   {
    "duration": 3,
    "start_time": "2023-08-09T14:43:26.762Z"
   },
   {
    "duration": 12,
    "start_time": "2023-08-09T14:43:26.772Z"
   },
   {
    "duration": 127,
    "start_time": "2023-08-09T14:43:26.786Z"
   },
   {
    "duration": 3,
    "start_time": "2023-08-09T14:43:26.915Z"
   },
   {
    "duration": 7,
    "start_time": "2023-08-09T14:43:26.921Z"
   },
   {
    "duration": 80,
    "start_time": "2023-08-09T14:43:26.967Z"
   },
   {
    "duration": 17,
    "start_time": "2023-08-09T14:43:27.049Z"
   },
   {
    "duration": 2,
    "start_time": "2023-08-09T14:43:27.068Z"
   },
   {
    "duration": 95,
    "start_time": "2023-08-09T14:43:27.072Z"
   },
   {
    "duration": 5,
    "start_time": "2023-08-09T14:43:27.169Z"
   },
   {
    "duration": 7,
    "start_time": "2023-08-09T14:43:27.183Z"
   },
   {
    "duration": 116,
    "start_time": "2023-08-09T14:43:27.192Z"
   },
   {
    "duration": 5,
    "start_time": "2023-08-09T14:43:27.309Z"
   },
   {
    "duration": 12,
    "start_time": "2023-08-09T14:43:27.317Z"
   },
   {
    "duration": 6,
    "start_time": "2023-08-09T14:43:27.331Z"
   },
   {
    "duration": 493,
    "start_time": "2023-08-09T14:46:10.633Z"
   },
   {
    "duration": 25,
    "start_time": "2023-08-09T14:46:11.128Z"
   },
   {
    "duration": 27,
    "start_time": "2023-08-09T14:46:11.156Z"
   },
   {
    "duration": 39,
    "start_time": "2023-08-09T14:46:11.185Z"
   },
   {
    "duration": 41,
    "start_time": "2023-08-09T14:46:11.226Z"
   },
   {
    "duration": 5,
    "start_time": "2023-08-09T14:46:11.269Z"
   },
   {
    "duration": 23,
    "start_time": "2023-08-09T14:46:11.275Z"
   },
   {
    "duration": 5,
    "start_time": "2023-08-09T14:46:11.300Z"
   },
   {
    "duration": 10,
    "start_time": "2023-08-09T14:46:11.307Z"
   },
   {
    "duration": 5,
    "start_time": "2023-08-09T14:46:11.320Z"
   },
   {
    "duration": 67,
    "start_time": "2023-08-09T14:46:11.327Z"
   },
   {
    "duration": 10,
    "start_time": "2023-08-09T14:46:11.395Z"
   },
   {
    "duration": 4,
    "start_time": "2023-08-09T14:46:11.406Z"
   },
   {
    "duration": 18,
    "start_time": "2023-08-09T14:46:11.411Z"
   },
   {
    "duration": 48,
    "start_time": "2023-08-09T14:46:11.430Z"
   },
   {
    "duration": 20,
    "start_time": "2023-08-09T14:46:11.481Z"
   },
   {
    "duration": 4,
    "start_time": "2023-08-09T14:46:11.503Z"
   },
   {
    "duration": 12,
    "start_time": "2023-08-09T14:46:11.509Z"
   },
   {
    "duration": 9,
    "start_time": "2023-08-09T14:46:11.522Z"
   },
   {
    "duration": 4,
    "start_time": "2023-08-09T14:46:11.533Z"
   },
   {
    "duration": 111,
    "start_time": "2023-08-09T14:46:11.539Z"
   },
   {
    "duration": 803,
    "start_time": "2023-08-09T14:46:11.652Z"
   },
   {
    "duration": 4,
    "start_time": "2023-08-09T14:46:12.458Z"
   },
   {
    "duration": 28,
    "start_time": "2023-08-09T14:46:12.463Z"
   },
   {
    "duration": 132,
    "start_time": "2023-08-09T14:46:12.494Z"
   },
   {
    "duration": 3,
    "start_time": "2023-08-09T14:46:12.628Z"
   },
   {
    "duration": 8,
    "start_time": "2023-08-09T14:46:12.633Z"
   },
   {
    "duration": 97,
    "start_time": "2023-08-09T14:46:12.670Z"
   },
   {
    "duration": 5,
    "start_time": "2023-08-09T14:46:12.769Z"
   },
   {
    "duration": 24,
    "start_time": "2023-08-09T14:46:12.776Z"
   },
   {
    "duration": 98,
    "start_time": "2023-08-09T14:46:12.802Z"
   },
   {
    "duration": 3,
    "start_time": "2023-08-09T14:46:12.902Z"
   },
   {
    "duration": 7,
    "start_time": "2023-08-09T14:46:12.907Z"
   },
   {
    "duration": 101,
    "start_time": "2023-08-09T14:46:12.916Z"
   },
   {
    "duration": 5,
    "start_time": "2023-08-09T14:46:13.019Z"
   },
   {
    "duration": 29,
    "start_time": "2023-08-09T14:46:13.025Z"
   },
   {
    "duration": 21,
    "start_time": "2023-08-09T14:46:13.056Z"
   },
   {
    "duration": 81,
    "start_time": "2023-08-09T14:47:12.850Z"
   },
   {
    "duration": 76,
    "start_time": "2023-08-09T14:47:19.712Z"
   },
   {
    "duration": 81,
    "start_time": "2023-08-09T14:47:45.349Z"
   },
   {
    "duration": 525,
    "start_time": "2023-08-09T14:47:59.814Z"
   },
   {
    "duration": 28,
    "start_time": "2023-08-09T14:48:00.341Z"
   },
   {
    "duration": 22,
    "start_time": "2023-08-09T14:48:00.371Z"
   },
   {
    "duration": 30,
    "start_time": "2023-08-09T14:48:00.397Z"
   },
   {
    "duration": 67,
    "start_time": "2023-08-09T14:48:00.430Z"
   },
   {
    "duration": 6,
    "start_time": "2023-08-09T14:48:00.499Z"
   },
   {
    "duration": 47,
    "start_time": "2023-08-09T14:48:00.507Z"
   },
   {
    "duration": 42,
    "start_time": "2023-08-09T14:48:00.556Z"
   },
   {
    "duration": 50,
    "start_time": "2023-08-09T14:48:00.601Z"
   },
   {
    "duration": 41,
    "start_time": "2023-08-09T14:48:00.655Z"
   },
   {
    "duration": 116,
    "start_time": "2023-08-09T14:48:00.698Z"
   },
   {
    "duration": 55,
    "start_time": "2023-08-09T14:48:00.817Z"
   },
   {
    "duration": 59,
    "start_time": "2023-08-09T14:48:00.874Z"
   },
   {
    "duration": 80,
    "start_time": "2023-08-09T14:48:00.935Z"
   },
   {
    "duration": 85,
    "start_time": "2023-08-09T14:48:01.018Z"
   },
   {
    "duration": 89,
    "start_time": "2023-08-09T14:48:01.105Z"
   },
   {
    "duration": 89,
    "start_time": "2023-08-09T14:48:01.197Z"
   },
   {
    "duration": 80,
    "start_time": "2023-08-09T14:48:01.288Z"
   },
   {
    "duration": 149,
    "start_time": "2023-08-09T14:48:01.371Z"
   },
   {
    "duration": 85,
    "start_time": "2023-08-09T14:48:01.523Z"
   },
   {
    "duration": 80,
    "start_time": "2023-08-09T14:48:01.610Z"
   },
   {
    "duration": 849,
    "start_time": "2023-08-09T14:48:01.692Z"
   },
   {
    "duration": 4,
    "start_time": "2023-08-09T14:48:02.543Z"
   },
   {
    "duration": 25,
    "start_time": "2023-08-09T14:48:02.550Z"
   },
   {
    "duration": 147,
    "start_time": "2023-08-09T14:48:02.577Z"
   },
   {
    "duration": 10,
    "start_time": "2023-08-09T14:48:02.766Z"
   },
   {
    "duration": 71,
    "start_time": "2023-08-09T14:48:02.779Z"
   },
   {
    "duration": 124,
    "start_time": "2023-08-09T14:48:02.855Z"
   },
   {
    "duration": 8,
    "start_time": "2023-08-09T14:48:02.982Z"
   },
   {
    "duration": 20,
    "start_time": "2023-08-09T14:48:02.993Z"
   },
   {
    "duration": 140,
    "start_time": "2023-08-09T14:48:03.016Z"
   },
   {
    "duration": 8,
    "start_time": "2023-08-09T14:48:03.168Z"
   },
   {
    "duration": 68,
    "start_time": "2023-08-09T14:48:03.178Z"
   },
   {
    "duration": 115,
    "start_time": "2023-08-09T14:48:03.248Z"
   },
   {
    "duration": 10,
    "start_time": "2023-08-09T14:48:03.367Z"
   },
   {
    "duration": 15,
    "start_time": "2023-08-09T14:48:03.381Z"
   },
   {
    "duration": 14,
    "start_time": "2023-08-09T14:48:03.399Z"
   },
   {
    "duration": 761,
    "start_time": "2023-08-09T15:46:08.695Z"
   },
   {
    "duration": 23,
    "start_time": "2023-08-09T15:46:09.458Z"
   },
   {
    "duration": 16,
    "start_time": "2023-08-09T15:46:09.482Z"
   },
   {
    "duration": 25,
    "start_time": "2023-08-09T15:46:09.500Z"
   },
   {
    "duration": 57,
    "start_time": "2023-08-09T15:46:09.526Z"
   },
   {
    "duration": 4,
    "start_time": "2023-08-09T15:46:09.585Z"
   },
   {
    "duration": 29,
    "start_time": "2023-08-09T15:46:09.590Z"
   },
   {
    "duration": 20,
    "start_time": "2023-08-09T15:46:09.621Z"
   },
   {
    "duration": 20,
    "start_time": "2023-08-09T15:46:09.643Z"
   },
   {
    "duration": 10,
    "start_time": "2023-08-09T15:46:09.666Z"
   },
   {
    "duration": 58,
    "start_time": "2023-08-09T15:46:09.677Z"
   },
   {
    "duration": 10,
    "start_time": "2023-08-09T15:46:09.737Z"
   },
   {
    "duration": 19,
    "start_time": "2023-08-09T15:46:09.749Z"
   },
   {
    "duration": 30,
    "start_time": "2023-08-09T15:46:09.769Z"
   },
   {
    "duration": 31,
    "start_time": "2023-08-09T15:46:09.800Z"
   },
   {
    "duration": 19,
    "start_time": "2023-08-09T15:46:09.832Z"
   },
   {
    "duration": 4,
    "start_time": "2023-08-09T15:46:09.853Z"
   },
   {
    "duration": 39,
    "start_time": "2023-08-09T15:46:09.859Z"
   },
   {
    "duration": 12,
    "start_time": "2023-08-09T15:46:09.900Z"
   },
   {
    "duration": 37,
    "start_time": "2023-08-09T15:46:09.914Z"
   },
   {
    "duration": 35,
    "start_time": "2023-08-09T15:46:09.952Z"
   },
   {
    "duration": 540,
    "start_time": "2023-08-09T15:46:09.989Z"
   },
   {
    "duration": 3,
    "start_time": "2023-08-09T15:46:10.532Z"
   },
   {
    "duration": 23,
    "start_time": "2023-08-09T15:46:10.537Z"
   },
   {
    "duration": 148,
    "start_time": "2023-08-09T15:46:10.562Z"
   },
   {
    "duration": 3,
    "start_time": "2023-08-09T15:46:10.711Z"
   },
   {
    "duration": 42,
    "start_time": "2023-08-09T15:46:10.716Z"
   },
   {
    "duration": 93,
    "start_time": "2023-08-09T15:46:10.761Z"
   },
   {
    "duration": 3,
    "start_time": "2023-08-09T15:46:10.855Z"
   },
   {
    "duration": 23,
    "start_time": "2023-08-09T15:46:10.859Z"
   },
   {
    "duration": 102,
    "start_time": "2023-08-09T15:46:10.884Z"
   },
   {
    "duration": 3,
    "start_time": "2023-08-09T15:46:10.988Z"
   },
   {
    "duration": 31,
    "start_time": "2023-08-09T15:46:10.993Z"
   },
   {
    "duration": 95,
    "start_time": "2023-08-09T15:46:11.025Z"
   },
   {
    "duration": 5,
    "start_time": "2023-08-09T15:46:11.122Z"
   },
   {
    "duration": 12,
    "start_time": "2023-08-09T15:46:11.128Z"
   },
   {
    "duration": 8,
    "start_time": "2023-08-09T15:46:11.142Z"
   },
   {
    "duration": 525,
    "start_time": "2024-01-18T17:30:57.760Z"
   },
   {
    "duration": 20,
    "start_time": "2024-01-18T17:30:58.287Z"
   },
   {
    "duration": 15,
    "start_time": "2024-01-18T17:30:58.308Z"
   },
   {
    "duration": 25,
    "start_time": "2024-01-18T17:30:58.325Z"
   },
   {
    "duration": 35,
    "start_time": "2024-01-18T17:30:58.352Z"
   },
   {
    "duration": 3,
    "start_time": "2024-01-18T17:30:58.388Z"
   },
   {
    "duration": 9,
    "start_time": "2024-01-18T17:30:58.393Z"
   },
   {
    "duration": 5,
    "start_time": "2024-01-18T17:30:58.403Z"
   },
   {
    "duration": 20,
    "start_time": "2024-01-18T17:30:58.409Z"
   },
   {
    "duration": 10,
    "start_time": "2024-01-18T17:30:58.432Z"
   },
   {
    "duration": 41,
    "start_time": "2024-01-18T17:30:58.443Z"
   },
   {
    "duration": 9,
    "start_time": "2024-01-18T17:30:58.486Z"
   },
   {
    "duration": 13,
    "start_time": "2024-01-18T17:30:58.496Z"
   },
   {
    "duration": 10,
    "start_time": "2024-01-18T17:30:58.510Z"
   },
   {
    "duration": 17,
    "start_time": "2024-01-18T17:30:58.521Z"
   },
   {
    "duration": 32,
    "start_time": "2024-01-18T17:30:58.539Z"
   },
   {
    "duration": 3,
    "start_time": "2024-01-18T17:30:58.572Z"
   },
   {
    "duration": 12,
    "start_time": "2024-01-18T17:30:58.577Z"
   },
   {
    "duration": 5,
    "start_time": "2024-01-18T17:30:58.590Z"
   },
   {
    "duration": 3,
    "start_time": "2024-01-18T17:30:58.597Z"
   },
   {
    "duration": 8,
    "start_time": "2024-01-18T17:30:58.601Z"
   },
   {
    "duration": 538,
    "start_time": "2024-01-18T17:30:58.610Z"
   },
   {
    "duration": 3,
    "start_time": "2024-01-18T17:30:59.150Z"
   },
   {
    "duration": 29,
    "start_time": "2024-01-18T17:30:59.154Z"
   },
   {
    "duration": 107,
    "start_time": "2024-01-18T17:30:59.185Z"
   },
   {
    "duration": 3,
    "start_time": "2024-01-18T17:30:59.293Z"
   },
   {
    "duration": 27,
    "start_time": "2024-01-18T17:30:59.297Z"
   },
   {
    "duration": 78,
    "start_time": "2024-01-18T17:30:59.327Z"
   },
   {
    "duration": 2,
    "start_time": "2024-01-18T17:30:59.407Z"
   },
   {
    "duration": 29,
    "start_time": "2024-01-18T17:30:59.410Z"
   },
   {
    "duration": 78,
    "start_time": "2024-01-18T17:30:59.440Z"
   },
   {
    "duration": 2,
    "start_time": "2024-01-18T17:30:59.520Z"
   },
   {
    "duration": 22,
    "start_time": "2024-01-18T17:30:59.523Z"
   },
   {
    "duration": 79,
    "start_time": "2024-01-18T17:30:59.547Z"
   },
   {
    "duration": 4,
    "start_time": "2024-01-18T17:30:59.627Z"
   },
   {
    "duration": 23,
    "start_time": "2024-01-18T17:30:59.632Z"
   },
   {
    "duration": 15,
    "start_time": "2024-01-18T17:30:59.656Z"
   },
   {
    "duration": 558,
    "start_time": "2024-05-11T12:28:32.762Z"
   },
   {
    "duration": 20,
    "start_time": "2024-05-11T12:28:33.322Z"
   },
   {
    "duration": 14,
    "start_time": "2024-05-11T12:28:33.343Z"
   },
   {
    "duration": 27,
    "start_time": "2024-05-11T12:28:33.359Z"
   },
   {
    "duration": 42,
    "start_time": "2024-05-11T12:28:33.388Z"
   },
   {
    "duration": 3,
    "start_time": "2024-05-11T12:28:33.432Z"
   },
   {
    "duration": 23,
    "start_time": "2024-05-11T12:28:33.437Z"
   },
   {
    "duration": 5,
    "start_time": "2024-05-11T12:28:33.461Z"
   },
   {
    "duration": 25,
    "start_time": "2024-05-11T12:28:33.467Z"
   },
   {
    "duration": 16,
    "start_time": "2024-05-11T12:28:33.496Z"
   },
   {
    "duration": 56,
    "start_time": "2024-05-11T12:28:33.514Z"
   },
   {
    "duration": 13,
    "start_time": "2024-05-11T12:28:33.572Z"
   },
   {
    "duration": 9,
    "start_time": "2024-05-11T12:28:33.587Z"
   },
   {
    "duration": 37,
    "start_time": "2024-05-11T12:28:33.597Z"
   },
   {
    "duration": 22,
    "start_time": "2024-05-11T12:28:33.635Z"
   },
   {
    "duration": 29,
    "start_time": "2024-05-11T12:28:33.658Z"
   },
   {
    "duration": 4,
    "start_time": "2024-05-11T12:28:33.689Z"
   },
   {
    "duration": 30,
    "start_time": "2024-05-11T12:28:33.694Z"
   },
   {
    "duration": 18,
    "start_time": "2024-05-11T12:28:33.725Z"
   },
   {
    "duration": 22,
    "start_time": "2024-05-11T12:28:33.744Z"
   },
   {
    "duration": 26,
    "start_time": "2024-05-11T12:28:33.767Z"
   },
   {
    "duration": 465,
    "start_time": "2024-05-11T12:28:33.794Z"
   },
   {
    "duration": 3,
    "start_time": "2024-05-11T12:28:34.260Z"
   },
   {
    "duration": 36,
    "start_time": "2024-05-11T12:28:34.264Z"
   },
   {
    "duration": 101,
    "start_time": "2024-05-11T12:28:34.302Z"
   },
   {
    "duration": 3,
    "start_time": "2024-05-11T12:28:34.405Z"
   },
   {
    "duration": 34,
    "start_time": "2024-05-11T12:28:34.444Z"
   },
   {
    "duration": 81,
    "start_time": "2024-05-11T12:28:34.481Z"
   },
   {
    "duration": 2,
    "start_time": "2024-05-11T12:28:34.564Z"
   },
   {
    "duration": 39,
    "start_time": "2024-05-11T12:28:34.567Z"
   },
   {
    "duration": 80,
    "start_time": "2024-05-11T12:28:34.608Z"
   },
   {
    "duration": 3,
    "start_time": "2024-05-11T12:28:34.689Z"
   },
   {
    "duration": 37,
    "start_time": "2024-05-11T12:28:34.693Z"
   },
   {
    "duration": 83,
    "start_time": "2024-05-11T12:28:34.732Z"
   },
   {
    "duration": 4,
    "start_time": "2024-05-11T12:28:34.816Z"
   },
   {
    "duration": 18,
    "start_time": "2024-05-11T12:28:34.822Z"
   },
   {
    "duration": 24,
    "start_time": "2024-05-11T12:28:34.842Z"
   },
   {
    "duration": 592,
    "start_time": "2024-06-29T14:04:27.689Z"
   },
   {
    "duration": 19,
    "start_time": "2024-06-29T14:04:28.283Z"
   },
   {
    "duration": 14,
    "start_time": "2024-06-29T14:04:28.303Z"
   },
   {
    "duration": 9,
    "start_time": "2024-06-29T14:04:28.319Z"
   },
   {
    "duration": 41,
    "start_time": "2024-06-29T14:04:28.329Z"
   },
   {
    "duration": 3,
    "start_time": "2024-06-29T14:04:28.372Z"
   },
   {
    "duration": 7,
    "start_time": "2024-06-29T14:04:28.376Z"
   },
   {
    "duration": 17,
    "start_time": "2024-06-29T14:04:28.384Z"
   },
   {
    "duration": 8,
    "start_time": "2024-06-29T14:04:28.404Z"
   },
   {
    "duration": 4,
    "start_time": "2024-06-29T14:04:28.414Z"
   },
   {
    "duration": 31,
    "start_time": "2024-06-29T14:04:28.419Z"
   },
   {
    "duration": 16,
    "start_time": "2024-06-29T14:04:28.465Z"
   },
   {
    "duration": 8,
    "start_time": "2024-06-29T14:04:28.483Z"
   },
   {
    "duration": 16,
    "start_time": "2024-06-29T14:04:28.493Z"
   },
   {
    "duration": 27,
    "start_time": "2024-06-29T14:04:28.511Z"
   },
   {
    "duration": 37,
    "start_time": "2024-06-29T14:04:28.540Z"
   },
   {
    "duration": 4,
    "start_time": "2024-06-29T14:04:28.579Z"
   },
   {
    "duration": 13,
    "start_time": "2024-06-29T14:04:28.584Z"
   },
   {
    "duration": 5,
    "start_time": "2024-06-29T14:04:28.598Z"
   },
   {
    "duration": 3,
    "start_time": "2024-06-29T14:04:28.605Z"
   },
   {
    "duration": 12,
    "start_time": "2024-06-29T14:04:28.609Z"
   },
   {
    "duration": 554,
    "start_time": "2024-06-29T14:04:28.622Z"
   },
   {
    "duration": 3,
    "start_time": "2024-06-29T14:04:29.177Z"
   },
   {
    "duration": 10,
    "start_time": "2024-06-29T14:04:29.182Z"
   },
   {
    "duration": 112,
    "start_time": "2024-06-29T14:04:29.193Z"
   },
   {
    "duration": 3,
    "start_time": "2024-06-29T14:04:29.306Z"
   },
   {
    "duration": 40,
    "start_time": "2024-06-29T14:04:29.310Z"
   },
   {
    "duration": 69,
    "start_time": "2024-06-29T14:04:29.364Z"
   },
   {
    "duration": 3,
    "start_time": "2024-06-29T14:04:29.435Z"
   },
   {
    "duration": 20,
    "start_time": "2024-06-29T14:04:29.439Z"
   },
   {
    "duration": 70,
    "start_time": "2024-06-29T14:04:29.465Z"
   },
   {
    "duration": 3,
    "start_time": "2024-06-29T14:04:29.536Z"
   },
   {
    "duration": 6,
    "start_time": "2024-06-29T14:04:29.541Z"
   },
   {
    "duration": 78,
    "start_time": "2024-06-29T14:04:29.565Z"
   },
   {
    "duration": 22,
    "start_time": "2024-06-29T14:04:29.644Z"
   },
   {
    "duration": 6,
    "start_time": "2024-06-29T14:04:29.667Z"
   },
   {
    "duration": 5,
    "start_time": "2024-06-29T14:04:29.675Z"
   },
   {
    "duration": 466,
    "start_time": "2024-06-29T14:05:17.381Z"
   },
   {
    "duration": 21,
    "start_time": "2024-06-29T14:05:17.849Z"
   },
   {
    "duration": 18,
    "start_time": "2024-06-29T14:05:17.871Z"
   },
   {
    "duration": 9,
    "start_time": "2024-06-29T14:05:17.891Z"
   },
   {
    "duration": 110,
    "start_time": "2024-06-29T14:05:17.901Z"
   },
   {
    "duration": 4,
    "start_time": "2024-06-29T14:05:18.012Z"
   },
   {
    "duration": 9,
    "start_time": "2024-06-29T14:05:18.017Z"
   },
   {
    "duration": 16,
    "start_time": "2024-06-29T14:05:18.028Z"
   },
   {
    "duration": 11,
    "start_time": "2024-06-29T14:05:18.045Z"
   },
   {
    "duration": 5,
    "start_time": "2024-06-29T14:05:18.058Z"
   },
   {
    "duration": 35,
    "start_time": "2024-06-29T14:05:18.065Z"
   },
   {
    "duration": 10,
    "start_time": "2024-06-29T14:05:18.101Z"
   },
   {
    "duration": 3,
    "start_time": "2024-06-29T14:05:18.113Z"
   },
   {
    "duration": 13,
    "start_time": "2024-06-29T14:05:18.117Z"
   },
   {
    "duration": 40,
    "start_time": "2024-06-29T14:05:18.131Z"
   },
   {
    "duration": 16,
    "start_time": "2024-06-29T14:05:18.173Z"
   },
   {
    "duration": 3,
    "start_time": "2024-06-29T14:05:18.190Z"
   },
   {
    "duration": 11,
    "start_time": "2024-06-29T14:05:18.194Z"
   },
   {
    "duration": 6,
    "start_time": "2024-06-29T14:05:18.206Z"
   },
   {
    "duration": 3,
    "start_time": "2024-06-29T14:05:18.214Z"
   },
   {
    "duration": 11,
    "start_time": "2024-06-29T14:05:18.218Z"
   },
   {
    "duration": 538,
    "start_time": "2024-06-29T14:05:18.230Z"
   },
   {
    "duration": 3,
    "start_time": "2024-06-29T14:05:18.769Z"
   },
   {
    "duration": 20,
    "start_time": "2024-06-29T14:05:18.773Z"
   },
   {
    "duration": 179,
    "start_time": "2024-06-29T14:05:18.794Z"
   },
   {
    "duration": 8,
    "start_time": "2024-06-29T14:05:18.975Z"
   },
   {
    "duration": 7,
    "start_time": "2024-06-29T14:05:18.985Z"
   },
   {
    "duration": 115,
    "start_time": "2024-06-29T14:05:18.996Z"
   },
   {
    "duration": 3,
    "start_time": "2024-06-29T14:05:19.113Z"
   },
   {
    "duration": 7,
    "start_time": "2024-06-29T14:05:19.118Z"
   },
   {
    "duration": 87,
    "start_time": "2024-06-29T14:05:19.127Z"
   },
   {
    "duration": 2,
    "start_time": "2024-06-29T14:05:19.216Z"
   },
   {
    "duration": 6,
    "start_time": "2024-06-29T14:05:19.220Z"
   },
   {
    "duration": 92,
    "start_time": "2024-06-29T14:05:19.227Z"
   },
   {
    "duration": 5,
    "start_time": "2024-06-29T14:05:19.321Z"
   },
   {
    "duration": 27,
    "start_time": "2024-06-29T14:05:19.327Z"
   },
   {
    "duration": 5,
    "start_time": "2024-06-29T14:05:19.355Z"
   }
  ],
  "colab": {
   "provenance": []
  },
  "kernelspec": {
   "display_name": "Python 3 (ipykernel)",
   "language": "python",
   "name": "python3"
  },
  "language_info": {
   "codemirror_mode": {
    "name": "ipython",
    "version": 3
   },
   "file_extension": ".py",
   "mimetype": "text/x-python",
   "name": "python",
   "nbconvert_exporter": "python",
   "pygments_lexer": "ipython3",
   "version": "3.10.9"
  },
  "toc": {
   "base_numbering": 1,
   "nav_menu": {
    "height": "386.969px",
    "width": "911.969px"
   },
   "number_sections": true,
   "sideBar": true,
   "skip_h1_title": true,
   "title_cell": "Содержание",
   "title_sidebar": "Contents",
   "toc_cell": true,
   "toc_position": {
    "height": "calc(100% - 180px)",
    "left": "10px",
    "top": "150px",
    "width": "368.194px"
   },
   "toc_section_display": true,
   "toc_window_display": false
  },
  "toc-autonumbering": true,
  "toc-showcode": false,
  "toc-showmarkdowntxt": false,
  "toc-showtags": false
 },
 "nbformat": 4,
 "nbformat_minor": 5
}
